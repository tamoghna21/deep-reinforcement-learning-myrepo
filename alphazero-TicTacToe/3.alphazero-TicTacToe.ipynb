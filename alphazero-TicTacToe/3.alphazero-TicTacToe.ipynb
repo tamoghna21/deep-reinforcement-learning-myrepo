{
 "cells": [
  {
   "cell_type": "markdown",
   "metadata": {},
   "source": [
    "# Monte Carlo Tree Search (MCTS) aided by Acto-Critic RL Agent (alphazero)"
   ]
  },
  {
   "cell_type": "markdown",
   "metadata": {},
   "source": [
    "## To play with a pretrained model, jump straight to step 3, to train the alphazero agent follow the steps below"
   ]
  },
  {
   "cell_type": "markdown",
   "metadata": {},
   "source": [
    "### Step 1. Import Libraries"
   ]
  },
  {
   "cell_type": "code",
   "execution_count": 1,
   "metadata": {},
   "outputs": [],
   "source": [
    "import torch\n",
    "import torch.nn as nn\n",
    "import torch.nn.functional as F\n",
    "from math import *\n",
    "import numpy as np\n",
    "import random"
   ]
  },
  {
   "cell_type": "markdown",
   "metadata": {},
   "source": [
    "### Step 2. Training Loop"
   ]
  },
  {
   "cell_type": "markdown",
   "metadata": {},
   "source": [
    "The alphazero loss function is defined as\n",
    "$$L = \\sum_t \\left\\{ (v^{(t)}_\\theta - z)^2  - \\sum_a p^{(t)}_a \\log \\pi_\\theta(a|s_t) \\right\\} + \\textrm{constant}$$ \n"
   ]
  },
  {
   "cell_type": "code",
   "execution_count": 2,
   "metadata": {},
   "outputs": [
    {
     "name": "stdout",
     "output_type": "stream",
     "text": [
      "Requirement already satisfied: progressbar in /Users/tamoghnadas/opt/anaconda3/envs/pytorch1/lib/python3.8/site-packages (2.5)\n"
     ]
    },
    {
     "name": "stderr",
     "output_type": "stream",
     "text": [
      "/Users/tamoghnadas/github_new/RL_Projects_my_own/alphazero-TicTacToe/MCTSwithRL.py:71: UserWarning: indexing with dtype torch.uint8 is now deprecated, please use a dtype torch.bool instead. (Triggered internally at /Users/runner/work/pytorch/pytorch/pytorch/aten/src/ATen/native/IndexingUtils.h:28.)\n",
      "  return game.available_moves(), tinv(prob)[mask].view(-1), v.squeeze().squeeze()#reverse rot/reflection is applied on prob\n",
      "/Users/tamoghnadas/opt/anaconda3/envs/pytorch1/lib/python3.8/site-packages/torch/autograd/__init__.py:197: UserWarning: indexing with dtype torch.uint8 is now deprecated, please use a dtype torch.bool instead. (Triggered internally at /Users/runner/work/pytorch/pytorch/pytorch/aten/src/ATen/native/IndexingUtils.h:28.)\n",
      "  Variable._execution_engine.run_backward(  # Calls into the C++ engine to run the backward pass\n",
      "training loop:   3% |#                                           | ETA:  0:25:23\r"
     ]
    },
    {
     "name": "stdout",
     "output_type": "stream",
     "text": [
      "game:  50 , mean loss: 6.13 , recent outcomes:  [0, 0, 0, 0, 0, 1, 0, 0, 0, 0]\n"
     ]
    },
    {
     "name": "stderr",
     "output_type": "stream",
     "text": [
      "training loop:   6% |##                                          | ETA:  0:24:56\r"
     ]
    },
    {
     "name": "stdout",
     "output_type": "stream",
     "text": [
      "game:  100 , mean loss: 3.54 , recent outcomes:  [0, 0, 0, 0, 0, 0, 0, 0, 0, 0]\n"
     ]
    },
    {
     "name": "stderr",
     "output_type": "stream",
     "text": [
      "training loop:  10% |####                                        | ETA:  0:21:15\r"
     ]
    },
    {
     "name": "stdout",
     "output_type": "stream",
     "text": [
      "game:  150 , mean loss: 3.72 , recent outcomes:  [0, 0, 0, 0, 0, 0, 0, 0, 0, 0]\n"
     ]
    },
    {
     "name": "stderr",
     "output_type": "stream",
     "text": [
      "training loop:  13% |#####                                       | ETA:  0:19:18\r"
     ]
    },
    {
     "name": "stdout",
     "output_type": "stream",
     "text": [
      "game:  200 , mean loss: 0.52 , recent outcomes:  [0, 0, 0, 0, 0, 0, 0, 0, 0, 0]\n"
     ]
    },
    {
     "name": "stderr",
     "output_type": "stream",
     "text": [
      "training loop:  16% |#######                                     | ETA:  0:18:04\r"
     ]
    },
    {
     "name": "stdout",
     "output_type": "stream",
     "text": [
      "game:  250 , mean loss: 0.78 , recent outcomes:  [0, 0, 0, 0, 0, 0, 0, 0, 0, 0]\n"
     ]
    },
    {
     "name": "stderr",
     "output_type": "stream",
     "text": [
      "training loop:  19% |########                                    | ETA:  0:16:28\r"
     ]
    },
    {
     "name": "stdout",
     "output_type": "stream",
     "text": [
      "game:  300 , mean loss: 0.86 , recent outcomes:  [0, 0, 0, 0, 0, 0, 0, 0, 0, 0]\n"
     ]
    },
    {
     "name": "stderr",
     "output_type": "stream",
     "text": [
      "training loop:  23% |##########                                  | ETA:  0:15:20\r"
     ]
    },
    {
     "name": "stdout",
     "output_type": "stream",
     "text": [
      "game:  350 , mean loss: 0.94 , recent outcomes:  [0, 0, 0, 0, 0, 0, 0, 0, 0, 0]\n"
     ]
    },
    {
     "name": "stderr",
     "output_type": "stream",
     "text": [
      "training loop:  26% |###########                                 | ETA:  0:14:20\r"
     ]
    },
    {
     "name": "stdout",
     "output_type": "stream",
     "text": [
      "game:  400 , mean loss: 1.11 , recent outcomes:  [0, 0, 0, 0, 1, 0, 0, 0, 0, 0]\n"
     ]
    },
    {
     "name": "stderr",
     "output_type": "stream",
     "text": [
      "training loop:  30% |#############                               | ETA:  0:13:15\r"
     ]
    },
    {
     "name": "stdout",
     "output_type": "stream",
     "text": [
      "game:  450 , mean loss: 0.27 , recent outcomes:  [0, 0, 0, 0, 0, 0, 0, 0, 0, 0]\n"
     ]
    },
    {
     "name": "stderr",
     "output_type": "stream",
     "text": [
      "training loop:  33% |##############                              | ETA:  0:12:19\r"
     ]
    },
    {
     "name": "stdout",
     "output_type": "stream",
     "text": [
      "game:  500 , mean loss: 0.15 , recent outcomes:  [0, 0, 0, 0, 0, 0, 0, 0, 0, 0]\n"
     ]
    },
    {
     "name": "stderr",
     "output_type": "stream",
     "text": [
      "training loop:  36% |################                            | ETA:  0:11:29\r"
     ]
    },
    {
     "name": "stdout",
     "output_type": "stream",
     "text": [
      "game:  550 , mean loss: 0.13 , recent outcomes:  [0, 0, 0, 0, 0, 0, 0, 0, 0, 0]\n"
     ]
    },
    {
     "name": "stderr",
     "output_type": "stream",
     "text": [
      "training loop:  39% |#################                           | ETA:  0:10:43\r"
     ]
    },
    {
     "name": "stdout",
     "output_type": "stream",
     "text": [
      "game:  600 , mean loss: 0.05 , recent outcomes:  [0, 0, 0, 0, 0, 0, 0, 0, 0, 0]\n"
     ]
    },
    {
     "name": "stderr",
     "output_type": "stream",
     "text": [
      "training loop:  43% |###################                         | ETA:  0:09:54\r"
     ]
    },
    {
     "name": "stdout",
     "output_type": "stream",
     "text": [
      "game:  650 , mean loss: 0.12 , recent outcomes:  [0, 0, 0, 0, 0, 0, 0, 0, 0, 0]\n"
     ]
    },
    {
     "name": "stderr",
     "output_type": "stream",
     "text": [
      "training loop:  46% |####################                        | ETA:  0:09:06\r"
     ]
    },
    {
     "name": "stdout",
     "output_type": "stream",
     "text": [
      "game:  700 , mean loss: 0.09 , recent outcomes:  [0, 0, 0, 0, 0, 0, 0, 0, 0, 0]\n"
     ]
    },
    {
     "name": "stderr",
     "output_type": "stream",
     "text": [
      "training loop:  49% |#####################                       | ETA:  0:08:24\r"
     ]
    },
    {
     "name": "stdout",
     "output_type": "stream",
     "text": [
      "game:  750 , mean loss: 0.14 , recent outcomes:  [0, 0, 0, 0, 0, 0, 0, 0, 0, 0]\n"
     ]
    },
    {
     "name": "stderr",
     "output_type": "stream",
     "text": [
      "training loop:  53% |#######################                     | ETA:  0:07:42\r"
     ]
    },
    {
     "name": "stdout",
     "output_type": "stream",
     "text": [
      "game:  800 , mean loss: 0.24 , recent outcomes:  [0, 0, 0, 0, 0, 0, 0, 0, 0, 0]\n"
     ]
    },
    {
     "name": "stderr",
     "output_type": "stream",
     "text": [
      "training loop:  56% |########################                    | ETA:  0:07:08\r"
     ]
    },
    {
     "name": "stdout",
     "output_type": "stream",
     "text": [
      "game:  850 , mean loss: 0.35 , recent outcomes:  [0, 0, 0, 0, 0, 0, 0, 0, 0, 0]\n"
     ]
    },
    {
     "name": "stderr",
     "output_type": "stream",
     "text": [
      "training loop:  60% |##########################                  | ETA:  0:06:30\r"
     ]
    },
    {
     "name": "stdout",
     "output_type": "stream",
     "text": [
      "game:  900 , mean loss: 0.18 , recent outcomes:  [0, 0, 0, 0, 0, 0, 0, 0, 0, 0]\n"
     ]
    },
    {
     "name": "stderr",
     "output_type": "stream",
     "text": [
      "training loop:  63% |###########################                 | ETA:  0:05:58\r"
     ]
    },
    {
     "name": "stdout",
     "output_type": "stream",
     "text": [
      "game:  950 , mean loss: 0.55 , recent outcomes:  [0, 0, 0, 0, 0, 0, 0, 0, 0, 0]\n"
     ]
    },
    {
     "name": "stderr",
     "output_type": "stream",
     "text": [
      "training loop:  66% |#############################               | ETA:  0:05:24\r"
     ]
    },
    {
     "name": "stdout",
     "output_type": "stream",
     "text": [
      "game:  1000 , mean loss: 1.44 , recent outcomes:  [0, 0, 0, 0, 0, 0, 0, 0, -1, 0]\n"
     ]
    },
    {
     "name": "stderr",
     "output_type": "stream",
     "text": [
      "training loop:  69% |##############################              | ETA:  0:04:51\r"
     ]
    },
    {
     "name": "stdout",
     "output_type": "stream",
     "text": [
      "game:  1050 , mean loss: 0.24 , recent outcomes:  [0, 0, 0, 0, 0, 0, 0, 0, 0, 0]\n"
     ]
    },
    {
     "name": "stderr",
     "output_type": "stream",
     "text": [
      "training loop:  73% |################################            | ETA:  0:04:16\r"
     ]
    },
    {
     "name": "stdout",
     "output_type": "stream",
     "text": [
      "game:  1100 , mean loss: 0.06 , recent outcomes:  [0, 0, 0, 0, 0, 0, 0, 0, 0, 0]\n"
     ]
    },
    {
     "name": "stderr",
     "output_type": "stream",
     "text": [
      "training loop:  76% |#################################           | ETA:  0:03:42\r"
     ]
    },
    {
     "name": "stdout",
     "output_type": "stream",
     "text": [
      "game:  1150 , mean loss: 0.05 , recent outcomes:  [0, 0, 0, 0, 0, 0, 0, 0, 0, 0]\n"
     ]
    },
    {
     "name": "stderr",
     "output_type": "stream",
     "text": [
      "training loop:  79% |###################################         | ETA:  0:03:09\r"
     ]
    },
    {
     "name": "stdout",
     "output_type": "stream",
     "text": [
      "game:  1200 , mean loss: 0.09 , recent outcomes:  [0, 0, 0, 0, 0, 0, 0, 0, 0, 0]\n"
     ]
    },
    {
     "name": "stderr",
     "output_type": "stream",
     "text": [
      "training loop:  83% |####################################        | ETA:  0:02:36\r"
     ]
    },
    {
     "name": "stdout",
     "output_type": "stream",
     "text": [
      "game:  1250 , mean loss: 0.17 , recent outcomes:  [0, 0, 0, 0, 0, 0, 0, 0, 0, 0]\n"
     ]
    },
    {
     "name": "stderr",
     "output_type": "stream",
     "text": [
      "training loop:  86% |######################################      | ETA:  0:02:05\r"
     ]
    },
    {
     "name": "stdout",
     "output_type": "stream",
     "text": [
      "game:  1300 , mean loss: 1.35 , recent outcomes:  [0, 0, 0, 0, 0, 0, 0, 0, 0, 0]\n"
     ]
    },
    {
     "name": "stderr",
     "output_type": "stream",
     "text": [
      "training loop:  89% |#######################################     | ETA:  0:01:32\r"
     ]
    },
    {
     "name": "stdout",
     "output_type": "stream",
     "text": [
      "game:  1350 , mean loss: 0.08 , recent outcomes:  [0, 0, 0, 0, 0, 0, 0, 0, 0, 0]\n"
     ]
    },
    {
     "name": "stderr",
     "output_type": "stream",
     "text": [
      "training loop:  93% |#########################################   | ETA:  0:01:01\r"
     ]
    },
    {
     "name": "stdout",
     "output_type": "stream",
     "text": [
      "game:  1400 , mean loss: 0.03 , recent outcomes:  [0, 0, 0, 0, 0, 0, 0, 0, 0, 0]\n"
     ]
    },
    {
     "name": "stderr",
     "output_type": "stream",
     "text": [
      "training loop:  96% |##########################################  | ETA:  0:00:30\r"
     ]
    },
    {
     "name": "stdout",
     "output_type": "stream",
     "text": [
      "game:  1450 , mean loss: 0.06 , recent outcomes:  [0, 0, 0, 0, 0, 0, 0, 0, 0, 0]\n"
     ]
    },
    {
     "name": "stderr",
     "output_type": "stream",
     "text": [
      "training loop: 100% |############################################| Time: 0:14:42\r"
     ]
    },
    {
     "name": "stdout",
     "output_type": "stream",
     "text": [
      "game:  1500 , mean loss: 0.08 , recent outcomes:  [0, 0, 0, 0, 0, 0, 0, 0, 0, 0]\n",
      "training complete, model saved\n"
     ]
    },
    {
     "name": "stderr",
     "output_type": "stream",
     "text": [
      "\n"
     ]
    }
   ],
   "source": [
    "# train our agent\n",
    "\n",
    "from ConnectN import ConnectN\n",
    "from Policy_NN import Policy\n",
    "\n",
    "from collections import deque\n",
    "import MCTSwithRL\n",
    "\n",
    "# initialize alphazero agent and optimizer\n",
    "import torch.optim as optim\n",
    "\n",
    "episodes = 1500 #500\n",
    "outcomes = []\n",
    "losses = []\n",
    "\n",
    "game_setting = {'size':(3,3), 'N':3}\n",
    "\n",
    "!pip install progressbar\n",
    "import progressbar as pb\n",
    "widget = ['training loop: ', pb.Percentage(), ' ', \n",
    "          pb.Bar(), ' ', pb.ETA() ]\n",
    "timer = pb.ProgressBar(widgets=widget, maxval=episodes).start()\n",
    "\n",
    "policy = Policy()\n",
    "optimizer = optim.Adam(policy.parameters(), lr=.01, weight_decay=1.e-4)\n",
    "\n",
    "for e in range(episodes):\n",
    "    mytree = MCTSwithRL.Node(ConnectN(**game_setting))\n",
    "    vterm = []\n",
    "    logterm = []\n",
    "    \n",
    "    while mytree.outcome is None:\n",
    "        for _ in range(300): # 50 #explore the Tree 250 steps\n",
    "            mytree.explore(policy)\n",
    "\n",
    "        current_player = mytree.game.player\n",
    "        mytree, (v, nn_v, p, nn_p) = mytree.next() #The tree will choose an action based on the visit counts     \n",
    "                                                   # (v, nn_v, p, nn_p) are the outputs used to update the Policy\n",
    "                                                   # v is the expected outcome computed from the Tree search, but it will not be useful here\n",
    "                                                   # nn_v is the critic value evaluating the current board\n",
    "                                                   # p is the least of probability of taking each action computed from MCTS\n",
    "                                                   # nn_p is same as p without MCTS, basically coming straight from the Policy\n",
    "        mytree.detach_mother() #This is required because now, the next node is the base node, need to start MCTree from scratch\n",
    "        \n",
    "        # compute prob* log pi \n",
    "        loglist = torch.log(nn_p)*p\n",
    "        \n",
    "        # constant term to make sure if policy result = MCTS result, loss = 0\n",
    "        constant = torch.where(p>0, p*torch.log(p),torch.tensor(0.))\n",
    "        logterm.append(-torch.sum(loglist-constant))\n",
    "        \n",
    "        vterm.append(nn_v*current_player)\n",
    "        \n",
    "        \n",
    "    # we compute the \"policy_loss\" for computing gradient\n",
    "    outcome = mytree.outcome\n",
    "    outcomes.append(outcome)\n",
    "    \n",
    "    # solution\n",
    "    loss = torch.sum( (torch.stack(vterm)-outcome)**2 + torch.stack(logterm) )\n",
    "    optimizer.zero_grad()\n",
    "    \n",
    "    loss.backward()\n",
    "    losses.append(float(loss))\n",
    "    optimizer.step()\n",
    "    \n",
    "    if (e+1)%50==0:\n",
    "        print(\"game: \",e+1, \", mean loss: {:3.2f}\".format(np.mean(losses[-20:])),\n",
    "              \", recent outcomes: \", outcomes[-10:])\n",
    "    del loss\n",
    "    \n",
    "    timer.update(e+1)\n",
    "    \n",
    "    \n",
    "timer.finish()\n",
    "\n",
    "torch.save(policy.state_dict(), 'Policy_alphazero_tictactoe.pth')\n",
    "\n",
    "print(\"training complete, model saved\")\n"
   ]
  },
  {
   "cell_type": "code",
   "execution_count": 5,
   "metadata": {
    "scrolled": true
   },
   "outputs": [
    {
     "data": {
      "image/png": "[encoded data removed]",
      "text/plain": [
       "<Figure size 640x480 with 1 Axes>"
      ]
     },
     "metadata": {},
     "output_type": "display_data"
    }
   ],
   "source": [
    "# plot losses\n",
    "\n",
    "import matplotlib.pyplot as plt\n",
    "\n",
    "%matplotlib inline\n",
    "plt.plot(losses)\n",
    "plt.show()\n"
   ]
  },
  {
   "cell_type": "markdown",
   "metadata": {},
   "source": [
    "### Step3 - Play a game against the alphazero agent !"
   ]
  },
  {
   "cell_type": "markdown",
   "metadata": {},
   "source": [
    "#### Define a player that uses MCTS and the expert policy + critic to play a game\n",
    "\n",
    "We've introduced a new parameter\n",
    "$T$ = temperature\n",
    "\n",
    "This tells us how to choose the next move based on the MCTS results\n",
    "\n",
    "$$p_a = \\frac{N_a^{\\frac{1}{T}}}{\\sum_a N_a^{\\frac{1}{T}}}$$\n",
    "\n",
    "$T \\rightarrow 0$, we choose action with largest $N_a$. "
   ]
  },
  {
   "cell_type": "markdown",
   "metadata": {},
   "source": [
    "#### Define a RL player"
   ]
  },
  {
   "cell_type": "code",
   "execution_count": 6,
   "metadata": {},
   "outputs": [],
   "source": [
    "import torch\n",
    "import torch.nn as nn\n",
    "import torch.nn.functional as F\n",
    "from math import *\n",
    "import numpy as np\n",
    "import random\n",
    "\n",
    "import MCTSwithRL # MCTS aided by Actor-Critic RL\n",
    "\n",
    "from Policy_NN import Policy\n",
    "\n",
    "from copy import copy\n",
    "import random\n",
    "\n",
    "# load the weights from file\n",
    "policy_alphazero = Policy()\n",
    "policy_alphazero.load_state_dict(torch.load('Policy_alphazero_tictactoe.pth')) \n",
    "\n",
    "# Two players are defined below, Policy_Player_MCTS is the MCTS player,\n",
    "# Random_Player is a random move playing player\n",
    "\n",
    "def Policy_Player_MCTS(game):\n",
    "    tree = MCTSwithRL.Node(copy(game))\n",
    "    for _ in range(50): # explore the tree 50 steps #50\n",
    "        tree.explore(policy_alphazero) # This will compute all the U s, pick the branch with max U, search, \n",
    "                               # expand, backpropagate and increase the visit count\n",
    "   \n",
    "    treenext, (v, nn_v, p, nn_p) = tree.next(temperature=0.1) # Asking the tree to choose a next move based on the visit counts\n",
    "        \n",
    "    return treenext.game.last_move # returns the move after incrementing the Tree\n",
    "\n",
    "def Random_Player(game):\n",
    "    return random.choice(game.available_moves())"
   ]
  },
  {
   "cell_type": "markdown",
   "metadata": {},
   "source": [
    "#### Alphazero agent as second player"
   ]
  },
  {
   "cell_type": "code",
   "execution_count": 8,
   "metadata": {},
   "outputs": [
    {
     "data": {
      "application/vnd.jupyter.widget-view+json": {
       "model_id": "ab2208f0470546ddab69f2c30ffd2cbb",
       "version_major": 2,
       "version_minor": 0
      },
      "image/png": "[encoded data removed]",
      "text/html": [
       "\n",
       "            <div style=\"display: inline-block;\">\n",
       "                <div class=\"jupyter-widgets widget-label\" style=\"text-align: center;\">\n",
       "                    Game\n",
       "                </div>\n",
       "                <img src='data:image/png;base64,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' width=187.5/>\n",
       "            </div>\n",
       "        "
      ],
      "text/plain": [
       "Canvas(toolbar=Toolbar(toolitems=[('Home', 'Reset original view', 'home', 'home'), ('Back', 'Back to previous …"
      ]
     },
     "metadata": {},
     "output_type": "display_data"
    }
   ],
   "source": [
    "from ConnectN import ConnectN\n",
    "game_setting = {'size':(3,3), 'N':3}\n",
    "#%matplotlib notebook\n",
    "%matplotlib widget\n",
    "\n",
    "from Play import Play\n",
    "\n",
    "# as first player\n",
    "gameplay=Play(ConnectN(**game_setting), \n",
    "              player1=None, \n",
    "              player2=Policy_Player_MCTS)\n"
   ]
  },
  {
   "cell_type": "markdown",
   "metadata": {},
   "source": [
    "#### Alphazero agent as first player"
   ]
  },
  {
   "cell_type": "code",
   "execution_count": 9,
   "metadata": {},
   "outputs": [
    {
     "data": {
      "application/vnd.jupyter.widget-view+json": {
       "model_id": "ab2208f0470546ddab69f2c30ffd2cbb",
       "version_major": 2,
       "version_minor": 0
      },
      "image/png": "[encoded data removed]",
      "text/html": [
       "\n",
       "            <div style=\"display: inline-block;\">\n",
       "                <div class=\"jupyter-widgets widget-label\" style=\"text-align: center;\">\n",
       "                    Game\n",
       "                </div>\n",
       "                <img src='data:image/png;base64,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' width=187.5/>\n",
       "            </div>\n",
       "        "
      ],
      "text/plain": [
       "Canvas(toolbar=Toolbar(toolitems=[('Home', 'Reset original view', 'home', 'home'), ('Back', 'Back to previous …"
      ]
     },
     "metadata": {},
     "output_type": "display_data"
    }
   ],
   "source": [
    "from ConnectN import ConnectN\n",
    "\n",
    "game_setting = {'size':(3,3), 'N':3}\n",
    "#%matplotlib notebook\n",
    "%matplotlib widget\n",
    "\n",
    "from Play import Play\n",
    "\n",
    "# as second player\n",
    "gameplay=Play(ConnectN(**game_setting), \n",
    "              player2=None, \n",
    "              player1=Policy_Player_MCTS)\n"
   ]
  },
  {
   "cell_type": "markdown",
   "metadata": {},
   "source": [
    "#### Alphazero vs Alphazero"
   ]
  },
  {
   "cell_type": "code",
   "execution_count": 10,
   "metadata": {},
   "outputs": [],
   "source": [
    "from ConnectN import ConnectN\n",
    "\n",
    "game_setting = {'size':(3,3), 'N':3}\n",
    "#%matplotlib notebook\n",
    "%matplotlib widget\n",
    "\n",
    "from Play import Play\n",
    "\n",
    "# as second player\n",
    "gameplay=Play(ConnectN(**game_setting), \n",
    "              player1=Policy_Player_MCTS, \n",
    "              player2=Policy_Player_MCTS)"
   ]
  },
  {
   "cell_type": "code",
   "execution_count": null,
   "metadata": {},
   "outputs": [],
   "source": []
  }
 ],
 "metadata": {
  "kernelspec": {
   "display_name": "Python 3 (ipykernel)",
   "language": "python",
   "name": "python3"
  },
  "language_info": {
   "codemirror_mode": {
    "name": "ipython",
    "version": 3
   },
   "file_extension": ".py",
   "mimetype": "text/x-python",
   "name": "python",
   "nbconvert_exporter": "python",
   "pygments_lexer": "ipython3",
   "version": "3.8.19"
  }
 },
 "nbformat": 4,
 "nbformat_minor": 4
}
