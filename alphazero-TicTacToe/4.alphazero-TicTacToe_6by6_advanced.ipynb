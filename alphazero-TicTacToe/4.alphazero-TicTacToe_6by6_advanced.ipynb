{
 "cells": [
  {
   "cell_type": "markdown",
   "id": "18f3c3f9",
   "metadata": {},
   "source": [
    "# An agent to play TicTacToe 6x6 - Monte Carlo Tree Search (MCTS) aided by Acto-Critic RL Agent (alphazero)"
   ]
  },
  {
   "cell_type": "markdown",
   "id": "f32b6882",
   "metadata": {},
   "source": [
    "## To play with a pretrained model, jump straight to step 3, to train the alphazero agent follow the steps below"
   ]
  },
  {
   "cell_type": "markdown",
   "id": "17f3824c",
   "metadata": {},
   "source": [
    "### Step 1 Import Libraries"
   ]
  },
  {
   "cell_type": "code",
   "execution_count": 1,
   "id": "0a31e54d",
   "metadata": {},
   "outputs": [],
   "source": [
    "import torch\n",
    "import torch.nn as nn\n",
    "import torch.nn.functional as F\n",
    "from math import *\n",
    "import numpy as np\n",
    "import random"
   ]
  },
  {
   "cell_type": "markdown",
   "id": "67c10653",
   "metadata": {},
   "source": [
    "### Step 2 Training loop"
   ]
  },
  {
   "cell_type": "code",
   "execution_count": 2,
   "id": "5b618271",
   "metadata": {},
   "outputs": [
    {
     "name": "stdout",
     "output_type": "stream",
     "text": [
      "Requirement already satisfied: progressbar in /Users/tamoghnadas/opt/anaconda3/envs/pytorch1/lib/python3.8/site-packages (2.5)\n"
     ]
    },
    {
     "name": "stderr",
     "output_type": "stream",
     "text": [
      "/Users/tamoghnadas/github_new/RL_Projects_my_own/alphazero-TicTacToe/MCTSwithRL.py:71: UserWarning: indexing with dtype torch.uint8 is now deprecated, please use a dtype torch.bool instead. (Triggered internally at /Users/runner/work/pytorch/pytorch/pytorch/aten/src/ATen/native/IndexingUtils.h:28.)\n",
      "  return game.available_moves(), tinv(prob)[mask].view(-1), v.squeeze().squeeze()#reverse rot/reflection is applied on prob\n",
      "/Users/tamoghnadas/opt/anaconda3/envs/pytorch1/lib/python3.8/site-packages/torch/autograd/__init__.py:197: UserWarning: indexing with dtype torch.uint8 is now deprecated, please use a dtype torch.bool instead. (Triggered internally at /Users/runner/work/pytorch/pytorch/pytorch/aten/src/ATen/native/IndexingUtils.h:28.)\n",
      "  Variable._execution_engine.run_backward(  # Calls into the C++ engine to run the backward pass\n",
      "training loop:   0% |                                    | ETA:  1 day, 19:01:47\r"
     ]
    },
    {
     "name": "stdout",
     "output_type": "stream",
     "text": [
      "game:  1 , mean loss: 15.26 , recent outcomes:  [1]\n"
     ]
    },
    {
     "name": "stderr",
     "output_type": "stream",
     "text": [
      "training loop:   0% |                                    | ETA:  1 day, 12:40:03\r"
     ]
    },
    {
     "name": "stdout",
     "output_type": "stream",
     "text": [
      "game:  11 , mean loss: 18.69 , recent outcomes:  [-1, 1, 1, -1, 1, 1, -1, -1, -1, -1]\n"
     ]
    },
    {
     "name": "stderr",
     "output_type": "stream",
     "text": [
      "training loop:   0% |                                    | ETA:  1 day, 11:10:06\r"
     ]
    },
    {
     "name": "stdout",
     "output_type": "stream",
     "text": [
      "game:  21 , mean loss: 22.45 , recent outcomes:  [1, 1, -1, 1, -1, -1, -1, 1, -1, 1]\n"
     ]
    },
    {
     "name": "stderr",
     "output_type": "stream",
     "text": [
      "training loop:   0% |                                     | ETA:  1 day, 7:14:59\r"
     ]
    },
    {
     "name": "stdout",
     "output_type": "stream",
     "text": [
      "game:  31 , mean loss: 21.39 , recent outcomes:  [-1, -1, -1, -1, -1, -1, -1, -1, -1, -1]\n"
     ]
    },
    {
     "name": "stderr",
     "output_type": "stream",
     "text": [
      "training loop:   0% |                                     | ETA:  1 day, 4:19:38\r"
     ]
    },
    {
     "name": "stdout",
     "output_type": "stream",
     "text": [
      "game:  41 , mean loss: 18.14 , recent outcomes:  [-1, -1, 1, 1, -1, 1, -1, -1, -1, -1]\n"
     ]
    },
    {
     "name": "stderr",
     "output_type": "stream",
     "text": [
      "training loop:   1% |                                     | ETA:  1 day, 2:46:05\r"
     ]
    },
    {
     "name": "stdout",
     "output_type": "stream",
     "text": [
      "game:  51 , mean loss: 21.16 , recent outcomes:  [-1, -1, -1, -1, 1, -1, -1, 1, 1, 1]\n"
     ]
    },
    {
     "name": "stderr",
     "output_type": "stream",
     "text": [
      "training loop:   1% |                                     | ETA:  1 day, 2:18:59\r"
     ]
    },
    {
     "name": "stdout",
     "output_type": "stream",
     "text": [
      "game:  61 , mean loss: 25.66 , recent outcomes:  [-1, 1, -1, -1, -1, 1, -1, -1, -1, -1]\n"
     ]
    },
    {
     "name": "stderr",
     "output_type": "stream",
     "text": [
      "training loop:   1% |                                     | ETA:  1 day, 2:16:17\r"
     ]
    },
    {
     "name": "stdout",
     "output_type": "stream",
     "text": [
      "game:  71 , mean loss: 23.97 , recent outcomes:  [-1, 1, -1, -1, -1, -1, 1, -1, -1, -1]\n"
     ]
    },
    {
     "name": "stderr",
     "output_type": "stream",
     "text": [
      "training loop:   1% |                                     | ETA:  1 day, 1:48:39\r"
     ]
    },
    {
     "name": "stdout",
     "output_type": "stream",
     "text": [
      "game:  81 , mean loss: 19.11 , recent outcomes:  [1, -1, 1, 1, -1, -1, -1, -1, 1, -1]\n"
     ]
    },
    {
     "name": "stderr",
     "output_type": "stream",
     "text": [
      "training loop:   1% |                                     | ETA:  1 day, 1:15:39\r"
     ]
    },
    {
     "name": "stdout",
     "output_type": "stream",
     "text": [
      "game:  91 , mean loss: 15.51 , recent outcomes:  [-1, -1, -1, -1, -1, -1, -1, -1, -1, -1]\n"
     ]
    },
    {
     "name": "stderr",
     "output_type": "stream",
     "text": [
      "training loop:   2% |                                     | ETA:  1 day, 0:39:45\r"
     ]
    },
    {
     "name": "stdout",
     "output_type": "stream",
     "text": [
      "game:  101 , mean loss: 16.18 , recent outcomes:  [1, -1, -1, -1, -1, -1, -1, -1, -1, 1]\n"
     ]
    },
    {
     "name": "stderr",
     "output_type": "stream",
     "text": [
      "training loop:   2% |                                     | ETA:  1 day, 0:15:20\r"
     ]
    },
    {
     "name": "stdout",
     "output_type": "stream",
     "text": [
      "game:  111 , mean loss: 20.93 , recent outcomes:  [1, 1, -1, -1, 1, 1, -1, 1, 1, -1]\n"
     ]
    },
    {
     "name": "stderr",
     "output_type": "stream",
     "text": [
      "training loop:   2% |#                                          | ETA:  23:51:03\r"
     ]
    },
    {
     "name": "stdout",
     "output_type": "stream",
     "text": [
      "game:  121 , mean loss: 19.86 , recent outcomes:  [-1, -1, -1, -1, -1, 1, -1, -1, -1, 1]\n"
     ]
    },
    {
     "name": "stderr",
     "output_type": "stream",
     "text": [
      "training loop:   2% |#                                          | ETA:  23:36:18\r"
     ]
    },
    {
     "name": "stdout",
     "output_type": "stream",
     "text": [
      "game:  131 , mean loss: 16.93 , recent outcomes:  [1, 1, -1, -1, 1, -1, 1, -1, -1, 1]\n"
     ]
    },
    {
     "name": "stderr",
     "output_type": "stream",
     "text": [
      "training loop:   2% |#                                          | ETA:  22:58:29\r"
     ]
    },
    {
     "name": "stdout",
     "output_type": "stream",
     "text": [
      "game:  141 , mean loss: 15.58 , recent outcomes:  [1, 1, -1, -1, -1, -1, -1, -1, -1, -1]\n"
     ]
    },
    {
     "name": "stderr",
     "output_type": "stream",
     "text": [
      "training loop:   3% |#                                          | ETA:  22:41:44\r"
     ]
    },
    {
     "name": "stdout",
     "output_type": "stream",
     "text": [
      "game:  151 , mean loss: 16.01 , recent outcomes:  [1, -1, 1, -1, -1, -1, -1, -1, 1, 1]\n"
     ]
    },
    {
     "name": "stderr",
     "output_type": "stream",
     "text": [
      "training loop:   3% |#                                          | ETA:  22:27:18\r"
     ]
    },
    {
     "name": "stdout",
     "output_type": "stream",
     "text": [
      "game:  161 , mean loss: 16.72 , recent outcomes:  [-1, -1, 1, -1, -1, -1, 1, 1, 1, -1]\n"
     ]
    },
    {
     "name": "stderr",
     "output_type": "stream",
     "text": [
      "training loop:   3% |#                                          | ETA:  22:01:43\r"
     ]
    },
    {
     "name": "stdout",
     "output_type": "stream",
     "text": [
      "game:  171 , mean loss: 16.52 , recent outcomes:  [1, -1, -1, 1, -1, 1, 1, 1, -1, 1]\n"
     ]
    },
    {
     "name": "stderr",
     "output_type": "stream",
     "text": [
      "training loop:   3% |#                                          | ETA:  21:40:15\r"
     ]
    },
    {
     "name": "stdout",
     "output_type": "stream",
     "text": [
      "game:  181 , mean loss: 15.03 , recent outcomes:  [-1, 1, 1, -1, 1, 1, 1, -1, 1, -1]\n"
     ]
    },
    {
     "name": "stderr",
     "output_type": "stream",
     "text": [
      "training loop:   3% |#                                          | ETA:  21:32:31\r"
     ]
    },
    {
     "name": "stdout",
     "output_type": "stream",
     "text": [
      "game:  191 , mean loss: 15.94 , recent outcomes:  [1, 1, 1, -1, 1, -1, -1, 1, -1, 1]\n"
     ]
    },
    {
     "name": "stderr",
     "output_type": "stream",
     "text": [
      "training loop:   4% |#                                          | ETA:  21:25:54\r"
     ]
    },
    {
     "name": "stdout",
     "output_type": "stream",
     "text": [
      "game:  201 , mean loss: 18.26 , recent outcomes:  [1, 1, 1, -1, 1, 1, 1, -1, 1, 1]\n"
     ]
    },
    {
     "name": "stderr",
     "output_type": "stream",
     "text": [
      "training loop:   4% |#                                          | ETA:  21:12:23\r"
     ]
    },
    {
     "name": "stdout",
     "output_type": "stream",
     "text": [
      "game:  211 , mean loss: 17.09 , recent outcomes:  [-1, 1, -1, -1, -1, 1, -1, 1, -1, -1]\n"
     ]
    },
    {
     "name": "stderr",
     "output_type": "stream",
     "text": [
      "training loop:   4% |#                                          | ETA:  21:01:50\r"
     ]
    },
    {
     "name": "stdout",
     "output_type": "stream",
     "text": [
      "game:  221 , mean loss: 15.25 , recent outcomes:  [1, 1, -1, -1, -1, -1, -1, -1, -1, -1]\n"
     ]
    },
    {
     "name": "stderr",
     "output_type": "stream",
     "text": [
      "training loop:   4% |#                                          | ETA:  20:44:12\r"
     ]
    },
    {
     "name": "stdout",
     "output_type": "stream",
     "text": [
      "game:  231 , mean loss: 16.14 , recent outcomes:  [-1, 1, -1, -1, -1, -1, -1, 1, 1, -1]\n"
     ]
    },
    {
     "name": "stderr",
     "output_type": "stream",
     "text": [
      "training loop:   4% |##                                         | ETA:  20:26:50\r"
     ]
    },
    {
     "name": "stdout",
     "output_type": "stream",
     "text": [
      "game:  241 , mean loss: 20.53 , recent outcomes:  [1, -1, 1, 1, -1, -1, -1, -1, -1, 1]\n"
     ]
    },
    {
     "name": "stderr",
     "output_type": "stream",
     "text": [
      "training loop:   5% |##                                         | ETA:  20:15:28\r"
     ]
    },
    {
     "name": "stdout",
     "output_type": "stream",
     "text": [
      "game:  251 , mean loss: 21.89 , recent outcomes:  [1, -1, -1, -1, -1, -1, -1, -1, -1, -1]\n"
     ]
    },
    {
     "name": "stderr",
     "output_type": "stream",
     "text": [
      "training loop:   5% |##                                         | ETA:  20:05:52\r"
     ]
    },
    {
     "name": "stdout",
     "output_type": "stream",
     "text": [
      "game:  261 , mean loss: 17.78 , recent outcomes:  [-1, 1, -1, 1, -1, -1, -1, 1, -1, -1]\n"
     ]
    },
    {
     "name": "stderr",
     "output_type": "stream",
     "text": [
      "training loop:   5% |##                                         | ETA:  19:59:26\r"
     ]
    },
    {
     "name": "stdout",
     "output_type": "stream",
     "text": [
      "game:  271 , mean loss: 15.55 , recent outcomes:  [1, 1, -1, -1, -1, -1, 1, -1, -1, 1]\n"
     ]
    },
    {
     "name": "stderr",
     "output_type": "stream",
     "text": [
      "training loop:   5% |##                                         | ETA:  19:56:56\r"
     ]
    },
    {
     "name": "stdout",
     "output_type": "stream",
     "text": [
      "game:  281 , mean loss: 15.96 , recent outcomes:  [1, -1, 1, -1, -1, -1, -1, -1, -1, 1]\n"
     ]
    },
    {
     "name": "stderr",
     "output_type": "stream",
     "text": [
      "training loop:   5% |##                                         | ETA:  19:52:53\r"
     ]
    },
    {
     "name": "stdout",
     "output_type": "stream",
     "text": [
      "game:  291 , mean loss: 17.75 , recent outcomes:  [1, -1, -1, 1, -1, -1, 1, -1, 1, -1]\n"
     ]
    },
    {
     "name": "stderr",
     "output_type": "stream",
     "text": [
      "training loop:   6% |##                                         | ETA:  19:43:40\r"
     ]
    },
    {
     "name": "stdout",
     "output_type": "stream",
     "text": [
      "game:  301 , mean loss: 18.65 , recent outcomes:  [1, 1, 1, 1, -1, -1, -1, 1, -1, -1]\n"
     ]
    },
    {
     "name": "stderr",
     "output_type": "stream",
     "text": [
      "training loop:   6% |##                                         | ETA:  19:38:26\r"
     ]
    },
    {
     "name": "stdout",
     "output_type": "stream",
     "text": [
      "game:  311 , mean loss: 16.39 , recent outcomes:  [-1, -1, 1, -1, 1, 1, -1, 1, 1, 1]\n"
     ]
    },
    {
     "name": "stderr",
     "output_type": "stream",
     "text": [
      "training loop:   6% |##                                         | ETA:  19:37:58\r"
     ]
    },
    {
     "name": "stdout",
     "output_type": "stream",
     "text": [
      "game:  321 , mean loss: 19.52 , recent outcomes:  [1, 1, 1, -1, 1, -1, 1, 1, -1, 1]\n"
     ]
    },
    {
     "name": "stderr",
     "output_type": "stream",
     "text": [
      "training loop:   6% |##                                         | ETA:  19:34:47\r"
     ]
    },
    {
     "name": "stdout",
     "output_type": "stream",
     "text": [
      "game:  331 , mean loss: 21.62 , recent outcomes:  [-1, -1, -1, -1, -1, 1, 1, 1, -1, -1]\n"
     ]
    },
    {
     "name": "stderr",
     "output_type": "stream",
     "text": [
      "training loop:   6% |##                                         | ETA:  19:33:06\r"
     ]
    },
    {
     "name": "stdout",
     "output_type": "stream",
     "text": [
      "game:  341 , mean loss: 20.90 , recent outcomes:  [1, 1, 1, 1, -1, 1, 1, 0, 1, -1]\n"
     ]
    },
    {
     "name": "stderr",
     "output_type": "stream",
     "text": [
      "training loop:   7% |###                                        | ETA:  19:30:50\r"
     ]
    },
    {
     "name": "stdout",
     "output_type": "stream",
     "text": [
      "game:  351 , mean loss: 23.53 , recent outcomes:  [1, 1, 1, 1, -1, -1, -1, 1, 1, 1]\n"
     ]
    },
    {
     "name": "stderr",
     "output_type": "stream",
     "text": [
      "training loop:   7% |###                                        | ETA:  19:28:28\r"
     ]
    },
    {
     "name": "stdout",
     "output_type": "stream",
     "text": [
      "game:  361 , mean loss: 22.27 , recent outcomes:  [-1, 1, -1, 1, 1, 1, -1, 1, -1, -1]\n"
     ]
    },
    {
     "name": "stderr",
     "output_type": "stream",
     "text": [
      "training loop:   7% |###                                        | ETA:  19:23:50\r"
     ]
    },
    {
     "name": "stdout",
     "output_type": "stream",
     "text": [
      "game:  371 , mean loss: 20.01 , recent outcomes:  [1, -1, 1, 1, 1, -1, -1, 1, -1, -1]\n"
     ]
    },
    {
     "name": "stderr",
     "output_type": "stream",
     "text": [
      "training loop:   7% |###                                        | ETA:  19:23:49\r"
     ]
    },
    {
     "name": "stdout",
     "output_type": "stream",
     "text": [
      "game:  381 , mean loss: 20.15 , recent outcomes:  [1, 1, 1, 1, 1, 1, -1, 1, 1, -1]\n"
     ]
    },
    {
     "name": "stderr",
     "output_type": "stream",
     "text": [
      "training loop:   7% |###                                        | ETA:  19:20:45\r"
     ]
    },
    {
     "name": "stdout",
     "output_type": "stream",
     "text": [
      "game:  391 , mean loss: 23.04 , recent outcomes:  [1, 1, 1, -1, 1, -1, -1, 1, 1, -1]\n"
     ]
    },
    {
     "name": "stderr",
     "output_type": "stream",
     "text": [
      "training loop:   8% |###                                        | ETA:  19:13:58\r"
     ]
    },
    {
     "name": "stdout",
     "output_type": "stream",
     "text": [
      "game:  401 , mean loss: 22.75 , recent outcomes:  [-1, -1, 1, 1, -1, -1, 1, -1, 1, -1]\n"
     ]
    },
    {
     "name": "stderr",
     "output_type": "stream",
     "text": [
      "training loop:   8% |###                                        | ETA:  19:10:13\r"
     ]
    },
    {
     "name": "stdout",
     "output_type": "stream",
     "text": [
      "game:  411 , mean loss: 21.02 , recent outcomes:  [1, 1, -1, 1, 1, 1, 1, -1, 1, -1]\n"
     ]
    },
    {
     "name": "stderr",
     "output_type": "stream",
     "text": [
      "training loop:   8% |###                                        | ETA:  19:05:37\r"
     ]
    },
    {
     "name": "stdout",
     "output_type": "stream",
     "text": [
      "game:  421 , mean loss: 23.75 , recent outcomes:  [-1, -1, -1, 1, -1, 1, -1, -1, 1, -1]\n"
     ]
    },
    {
     "name": "stderr",
     "output_type": "stream",
     "text": [
      "training loop:   8% |###                                        | ETA:  19:04:13\r"
     ]
    },
    {
     "name": "stdout",
     "output_type": "stream",
     "text": [
      "game:  431 , mean loss: 23.95 , recent outcomes:  [-1, -1, -1, 1, -1, 1, -1, -1, 1, 1]\n"
     ]
    },
    {
     "name": "stderr",
     "output_type": "stream",
     "text": [
      "training loop:   8% |###                                        | ETA:  19:02:33\r"
     ]
    },
    {
     "name": "stdout",
     "output_type": "stream",
     "text": [
      "game:  441 , mean loss: 23.96 , recent outcomes:  [1, -1, -1, 1, 1, -1, -1, 0, -1, -1]\n"
     ]
    },
    {
     "name": "stderr",
     "output_type": "stream",
     "text": [
      "training loop:   9% |###                                        | ETA:  19:03:38\r"
     ]
    },
    {
     "name": "stdout",
     "output_type": "stream",
     "text": [
      "game:  451 , mean loss: 24.20 , recent outcomes:  [-1, -1, 1, 1, -1, 0, -1, -1, -1, 1]\n"
     ]
    },
    {
     "name": "stderr",
     "output_type": "stream",
     "text": [
      "training loop:   9% |###                                        | ETA:  19:02:08\r"
     ]
    },
    {
     "name": "stdout",
     "output_type": "stream",
     "text": [
      "game:  461 , mean loss: 21.99 , recent outcomes:  [1, -1, -1, -1, 1, 1, -1, -1, 1, -1]\n"
     ]
    },
    {
     "name": "stderr",
     "output_type": "stream",
     "text": [
      "training loop:   9% |####                                       | ETA:  19:06:56\r"
     ]
    },
    {
     "name": "stdout",
     "output_type": "stream",
     "text": [
      "game:  471 , mean loss: 22.34 , recent outcomes:  [1, -1, -1, -1, 1, -1, 1, 0, -1, -1]\n"
     ]
    },
    {
     "name": "stderr",
     "output_type": "stream",
     "text": [
      "training loop:   9% |####                                       | ETA:  19:02:21\r"
     ]
    },
    {
     "name": "stdout",
     "output_type": "stream",
     "text": [
      "game:  481 , mean loss: 21.16 , recent outcomes:  [-1, -1, -1, -1, -1, 1, -1, 1, -1, -1]\n"
     ]
    },
    {
     "name": "stderr",
     "output_type": "stream",
     "text": [
      "training loop:   9% |####                                       | ETA:  19:02:03\r"
     ]
    },
    {
     "name": "stdout",
     "output_type": "stream",
     "text": [
      "game:  491 , mean loss: 21.92 , recent outcomes:  [1, -1, 1, 1, 1, -1, 1, -1, 1, -1]\n"
     ]
    },
    {
     "name": "stderr",
     "output_type": "stream",
     "text": [
      "training loop:  10% |####                                       | ETA:  19:03:38\r"
     ]
    },
    {
     "name": "stdout",
     "output_type": "stream",
     "text": [
      "game:  501 , mean loss: 25.47 , recent outcomes:  [-1, -1, 1, -1, -1, -1, -1, 1, 1, -1]\n"
     ]
    },
    {
     "name": "stderr",
     "output_type": "stream",
     "text": [
      "training loop:  10% |####                                       | ETA:  19:01:16\r"
     ]
    },
    {
     "name": "stdout",
     "output_type": "stream",
     "text": [
      "game:  511 , mean loss: 23.94 , recent outcomes:  [-1, -1, -1, -1, -1, -1, -1, -1, -1, 1]\n"
     ]
    },
    {
     "name": "stderr",
     "output_type": "stream",
     "text": [
      "training loop:  10% |####                                       | ETA:  18:57:07\r"
     ]
    },
    {
     "name": "stdout",
     "output_type": "stream",
     "text": [
      "game:  521 , mean loss: 22.63 , recent outcomes:  [1, -1, 1, 1, -1, -1, -1, 1, -1, -1]\n"
     ]
    },
    {
     "name": "stderr",
     "output_type": "stream",
     "text": [
      "training loop:  10% |####                                       | ETA:  18:51:14\r"
     ]
    },
    {
     "name": "stdout",
     "output_type": "stream",
     "text": [
      "game:  531 , mean loss: 20.76 , recent outcomes:  [-1, 1, 1, 1, 1, 1, 1, 1, -1, -1]\n"
     ]
    },
    {
     "name": "stderr",
     "output_type": "stream",
     "text": [
      "training loop:  10% |####                                       | ETA:  18:50:02\r"
     ]
    },
    {
     "name": "stdout",
     "output_type": "stream",
     "text": [
      "game:  541 , mean loss: 22.77 , recent outcomes:  [-1, -1, -1, -1, -1, -1, 1, 1, -1, 1]\n"
     ]
    },
    {
     "name": "stderr",
     "output_type": "stream",
     "text": [
      "training loop:  11% |####                                       | ETA:  18:48:51\r"
     ]
    },
    {
     "name": "stdout",
     "output_type": "stream",
     "text": [
      "game:  551 , mean loss: 24.50 , recent outcomes:  [-1, -1, 0, -1, -1, -1, -1, -1, -1, -1]\n"
     ]
    },
    {
     "name": "stderr",
     "output_type": "stream",
     "text": [
      "training loop:  11% |####                                       | ETA:  18:46:58\r"
     ]
    },
    {
     "name": "stdout",
     "output_type": "stream",
     "text": [
      "game:  561 , mean loss: 21.93 , recent outcomes:  [1, -1, -1, -1, -1, -1, -1, 1, 1, -1]\n"
     ]
    },
    {
     "name": "stderr",
     "output_type": "stream",
     "text": [
      "training loop:  11% |####                                       | ETA:  18:43:36\r"
     ]
    },
    {
     "name": "stdout",
     "output_type": "stream",
     "text": [
      "game:  571 , mean loss: 19.30 , recent outcomes:  [-1, -1, 1, -1, -1, 0, -1, -1, -1, -1]\n"
     ]
    },
    {
     "name": "stderr",
     "output_type": "stream",
     "text": [
      "training loop:  11% |####                                       | ETA:  18:44:09\r"
     ]
    },
    {
     "name": "stdout",
     "output_type": "stream",
     "text": [
      "game:  581 , mean loss: 21.92 , recent outcomes:  [0, 1, -1, 1, -1, 1, -1, -1, -1, -1]\n"
     ]
    },
    {
     "name": "stderr",
     "output_type": "stream",
     "text": [
      "training loop:  11% |#####                                      | ETA:  18:43:55\r"
     ]
    },
    {
     "name": "stdout",
     "output_type": "stream",
     "text": [
      "game:  591 , mean loss: 23.54 , recent outcomes:  [-1, -1, 0, -1, 1, -1, -1, -1, -1, -1]\n"
     ]
    },
    {
     "name": "stderr",
     "output_type": "stream",
     "text": [
      "training loop:  12% |#####                                      | ETA:  18:39:07\r"
     ]
    },
    {
     "name": "stdout",
     "output_type": "stream",
     "text": [
      "game:  601 , mean loss: 19.31 , recent outcomes:  [-1, -1, -1, -1, -1, -1, -1, -1, -1, -1]\n"
     ]
    },
    {
     "name": "stderr",
     "output_type": "stream",
     "text": [
      "training loop:  12% |#####                                      | ETA:  18:34:46\r"
     ]
    },
    {
     "name": "stdout",
     "output_type": "stream",
     "text": [
      "game:  611 , mean loss: 17.55 , recent outcomes:  [-1, -1, -1, -1, -1, 1, -1, -1, -1, -1]\n"
     ]
    },
    {
     "name": "stderr",
     "output_type": "stream",
     "text": [
      "training loop:  12% |#####                                      | ETA:  18:31:57\r"
     ]
    },
    {
     "name": "stdout",
     "output_type": "stream",
     "text": [
      "game:  621 , mean loss: 19.35 , recent outcomes:  [-1, -1, -1, 1, 1, -1, -1, 0, 0, -1]\n"
     ]
    },
    {
     "name": "stderr",
     "output_type": "stream",
     "text": [
      "training loop:  12% |#####                                      | ETA:  18:28:47\r"
     ]
    },
    {
     "name": "stdout",
     "output_type": "stream",
     "text": [
      "game:  631 , mean loss: 22.80 , recent outcomes:  [-1, -1, 1, 0, 1, -1, -1, 1, 1, -1]\n"
     ]
    },
    {
     "name": "stderr",
     "output_type": "stream",
     "text": [
      "training loop:  12% |#####                                      | ETA:  18:27:03\r"
     ]
    },
    {
     "name": "stdout",
     "output_type": "stream",
     "text": [
      "game:  641 , mean loss: 22.89 , recent outcomes:  [-1, -1, -1, -1, -1, -1, 1, 1, 1, 0]\n"
     ]
    },
    {
     "name": "stderr",
     "output_type": "stream",
     "text": [
      "training loop:  13% |#####                                      | ETA:  18:25:32\r"
     ]
    },
    {
     "name": "stdout",
     "output_type": "stream",
     "text": [
      "game:  651 , mean loss: 17.41 , recent outcomes:  [-1, -1, -1, -1, -1, -1, -1, -1, -1, 0]\n"
     ]
    },
    {
     "name": "stderr",
     "output_type": "stream",
     "text": [
      "training loop:  13% |#####                                      | ETA:  18:22:57\r"
     ]
    },
    {
     "name": "stdout",
     "output_type": "stream",
     "text": [
      "game:  661 , mean loss: 20.85 , recent outcomes:  [-1, -1, -1, -1, -1, -1, -1, 1, 1, 1]\n"
     ]
    },
    {
     "name": "stderr",
     "output_type": "stream",
     "text": [
      "training loop:  13% |#####                                      | ETA:  18:22:42\r"
     ]
    },
    {
     "name": "stdout",
     "output_type": "stream",
     "text": [
      "game:  671 , mean loss: 28.00 , recent outcomes:  [-1, -1, -1, -1, -1, -1, -1, -1, -1, 1]\n"
     ]
    },
    {
     "name": "stderr",
     "output_type": "stream",
     "text": [
      "training loop:  13% |#####                                      | ETA:  18:19:49\r"
     ]
    },
    {
     "name": "stdout",
     "output_type": "stream",
     "text": [
      "game:  681 , mean loss: 24.13 , recent outcomes:  [-1, -1, -1, -1, -1, -1, -1, 1, -1, -1]\n"
     ]
    },
    {
     "name": "stderr",
     "output_type": "stream",
     "text": [
      "training loop:  13% |#####                                      | ETA:  18:18:44\r"
     ]
    },
    {
     "name": "stdout",
     "output_type": "stream",
     "text": [
      "game:  691 , mean loss: 23.16 , recent outcomes:  [1, 1, -1, -1, 0, -1, -1, -1, -1, -1]\n"
     ]
    },
    {
     "name": "stderr",
     "output_type": "stream",
     "text": [
      "training loop:  14% |######                                     | ETA:  18:17:20\r"
     ]
    },
    {
     "name": "stdout",
     "output_type": "stream",
     "text": [
      "game:  701 , mean loss: 21.63 , recent outcomes:  [0, -1, -1, 1, 0, -1, -1, -1, -1, -1]\n"
     ]
    },
    {
     "name": "stderr",
     "output_type": "stream",
     "text": [
      "training loop:  14% |######                                     | ETA:  18:16:27\r"
     ]
    },
    {
     "name": "stdout",
     "output_type": "stream",
     "text": [
      "game:  711 , mean loss: 20.16 , recent outcomes:  [-1, -1, -1, -1, -1, -1, 0, 1, -1, 1]\n"
     ]
    },
    {
     "name": "stderr",
     "output_type": "stream",
     "text": [
      "training loop:  14% |######                                     | ETA:  18:12:16\r"
     ]
    },
    {
     "name": "stdout",
     "output_type": "stream",
     "text": [
      "game:  721 , mean loss: 19.17 , recent outcomes:  [-1, 1, 1, -1, -1, -1, -1, -1, -1, -1]\n"
     ]
    },
    {
     "name": "stderr",
     "output_type": "stream",
     "text": [
      "training loop:  14% |######                                     | ETA:  18:10:29\r"
     ]
    },
    {
     "name": "stdout",
     "output_type": "stream",
     "text": [
      "game:  731 , mean loss: 21.98 , recent outcomes:  [-1, -1, 1, -1, 1, -1, -1, 1, -1, -1]\n"
     ]
    },
    {
     "name": "stderr",
     "output_type": "stream",
     "text": [
      "training loop:  14% |######                                     | ETA:  18:07:27\r"
     ]
    },
    {
     "name": "stdout",
     "output_type": "stream",
     "text": [
      "game:  741 , mean loss: 29.56 , recent outcomes:  [-1, -1, 1, 1, -1, -1, 1, 1, 1, -1]\n"
     ]
    },
    {
     "name": "stderr",
     "output_type": "stream",
     "text": [
      "training loop:  15% |######                                     | ETA:  18:03:58\r"
     ]
    },
    {
     "name": "stdout",
     "output_type": "stream",
     "text": [
      "game:  751 , mean loss: 25.21 , recent outcomes:  [-1, -1, -1, -1, -1, -1, 1, -1, -1, -1]\n"
     ]
    },
    {
     "name": "stderr",
     "output_type": "stream",
     "text": [
      "training loop:  15% |######                                     | ETA:  17:59:50\r"
     ]
    },
    {
     "name": "stdout",
     "output_type": "stream",
     "text": [
      "game:  761 , mean loss: 20.03 , recent outcomes:  [-1, -1, -1, -1, 1, -1, -1, -1, 1, -1]\n"
     ]
    },
    {
     "name": "stderr",
     "output_type": "stream",
     "text": [
      "training loop:  15% |######                                     | ETA:  17:56:57\r"
     ]
    },
    {
     "name": "stdout",
     "output_type": "stream",
     "text": [
      "game:  771 , mean loss: 22.37 , recent outcomes:  [1, -1, -1, -1, 1, -1, -1, -1, -1, -1]\n"
     ]
    },
    {
     "name": "stderr",
     "output_type": "stream",
     "text": [
      "training loop:  15% |######                                     | ETA:  17:57:25\r"
     ]
    },
    {
     "name": "stdout",
     "output_type": "stream",
     "text": [
      "game:  781 , mean loss: 22.71 , recent outcomes:  [-1, -1, -1, 0, -1, -1, 0, -1, -1, -1]\n"
     ]
    },
    {
     "name": "stderr",
     "output_type": "stream",
     "text": [
      "training loop:  15% |######                                     | ETA:  17:52:43\r"
     ]
    },
    {
     "name": "stdout",
     "output_type": "stream",
     "text": [
      "game:  791 , mean loss: 22.92 , recent outcomes:  [-1, -1, -1, 1, -1, -1, -1, 1, 1, -1]\n"
     ]
    },
    {
     "name": "stderr",
     "output_type": "stream",
     "text": [
      "training loop:  16% |######                                     | ETA:  17:49:11\r"
     ]
    },
    {
     "name": "stdout",
     "output_type": "stream",
     "text": [
      "game:  801 , mean loss: 24.43 , recent outcomes:  [-1, 1, 1, 1, -1, -1, 0, -1, 1, -1]\n"
     ]
    },
    {
     "name": "stderr",
     "output_type": "stream",
     "text": [
      "training loop:  16% |######                                     | ETA:  17:45:11\r"
     ]
    },
    {
     "name": "stdout",
     "output_type": "stream",
     "text": [
      "game:  811 , mean loss: 23.59 , recent outcomes:  [1, 1, -1, -1, 0, -1, -1, -1, -1, -1]\n"
     ]
    },
    {
     "name": "stderr",
     "output_type": "stream",
     "text": [
      "training loop:  16% |#######                                    | ETA:  17:41:19\r"
     ]
    },
    {
     "name": "stdout",
     "output_type": "stream",
     "text": [
      "game:  821 , mean loss: 19.58 , recent outcomes:  [-1, -1, -1, 0, -1, 0, -1, -1, -1, -1]\n"
     ]
    },
    {
     "name": "stderr",
     "output_type": "stream",
     "text": [
      "training loop:  16% |#######                                    | ETA:  17:38:33\r"
     ]
    },
    {
     "name": "stdout",
     "output_type": "stream",
     "text": [
      "game:  831 , mean loss: 17.73 , recent outcomes:  [1, -1, -1, -1, -1, -1, 0, -1, -1, 1]\n"
     ]
    },
    {
     "name": "stderr",
     "output_type": "stream",
     "text": [
      "training loop:  16% |#######                                    | ETA:  17:37:03\r"
     ]
    },
    {
     "name": "stdout",
     "output_type": "stream",
     "text": [
      "game:  841 , mean loss: 20.51 , recent outcomes:  [-1, 1, 1, -1, -1, 0, -1, 1, -1, -1]\n"
     ]
    },
    {
     "name": "stderr",
     "output_type": "stream",
     "text": [
      "training loop:  17% |#######                                    | ETA:  17:34:58\r"
     ]
    },
    {
     "name": "stdout",
     "output_type": "stream",
     "text": [
      "game:  851 , mean loss: 24.00 , recent outcomes:  [-1, 1, 1, 1, 1, -1, -1, -1, 1, -1]\n"
     ]
    },
    {
     "name": "stderr",
     "output_type": "stream",
     "text": [
      "training loop:  17% |#######                                    | ETA:  17:32:39\r"
     ]
    },
    {
     "name": "stdout",
     "output_type": "stream",
     "text": [
      "game:  861 , mean loss: 23.05 , recent outcomes:  [0, 1, -1, -1, 1, -1, -1, -1, 1, -1]\n"
     ]
    },
    {
     "name": "stderr",
     "output_type": "stream",
     "text": [
      "training loop:  17% |#######                                    | ETA:  17:33:33\r"
     ]
    },
    {
     "name": "stdout",
     "output_type": "stream",
     "text": [
      "game:  871 , mean loss: 18.52 , recent outcomes:  [1, -1, -1, 1, -1, -1, 0, -1, -1, -1]\n"
     ]
    },
    {
     "name": "stderr",
     "output_type": "stream",
     "text": [
      "training loop:  17% |#######                                    | ETA:  17:30:47\r"
     ]
    },
    {
     "name": "stdout",
     "output_type": "stream",
     "text": [
      "game:  881 , mean loss: 16.97 , recent outcomes:  [-1, -1, -1, -1, -1, -1, -1, 1, -1, 1]\n"
     ]
    },
    {
     "name": "stderr",
     "output_type": "stream",
     "text": [
      "training loop:  17% |#######                                    | ETA:  17:27:22\r"
     ]
    },
    {
     "name": "stdout",
     "output_type": "stream",
     "text": [
      "game:  891 , mean loss: 17.86 , recent outcomes:  [-1, -1, 1, -1, -1, 1, -1, -1, -1, 1]\n"
     ]
    },
    {
     "name": "stderr",
     "output_type": "stream",
     "text": [
      "training loop:  18% |#######                                    | ETA:  17:27:19\r"
     ]
    },
    {
     "name": "stdout",
     "output_type": "stream",
     "text": [
      "game:  901 , mean loss: 20.50 , recent outcomes:  [-1, -1, 1, -1, -1, -1, 0, -1, -1, 1]\n"
     ]
    },
    {
     "name": "stderr",
     "output_type": "stream",
     "text": [
      "training loop:  18% |#######                                    | ETA:  17:23:17\r"
     ]
    },
    {
     "name": "stdout",
     "output_type": "stream",
     "text": [
      "game:  911 , mean loss: 19.32 , recent outcomes:  [-1, -1, 1, -1, -1, -1, -1, -1, -1, -1]\n"
     ]
    },
    {
     "name": "stderr",
     "output_type": "stream",
     "text": [
      "training loop:  18% |#######                                    | ETA:  17:24:47\r"
     ]
    },
    {
     "name": "stdout",
     "output_type": "stream",
     "text": [
      "game:  921 , mean loss: 18.91 , recent outcomes:  [-1, 1, 1, -1, -1, -1, -1, 0, 1, 0]\n"
     ]
    },
    {
     "name": "stderr",
     "output_type": "stream",
     "text": [
      "training loop:  18% |########                                   | ETA:  17:24:05\r"
     ]
    },
    {
     "name": "stdout",
     "output_type": "stream",
     "text": [
      "game:  931 , mean loss: 24.59 , recent outcomes:  [1, -1, 1, -1, -1, -1, 1, 1, -1, -1]\n"
     ]
    },
    {
     "name": "stderr",
     "output_type": "stream",
     "text": [
      "training loop:  18% |########                                   | ETA:  17:21:01\r"
     ]
    },
    {
     "name": "stdout",
     "output_type": "stream",
     "text": [
      "game:  941 , mean loss: 23.60 , recent outcomes:  [-1, 1, 1, 1, -1, -1, -1, 1, 1, 1]\n"
     ]
    },
    {
     "name": "stderr",
     "output_type": "stream",
     "text": [
      "training loop:  19% |########                                   | ETA:  17:19:41\r"
     ]
    },
    {
     "name": "stdout",
     "output_type": "stream",
     "text": [
      "game:  951 , mean loss: 22.81 , recent outcomes:  [1, 1, 1, 1, -1, 1, 1, 1, -1, -1]\n"
     ]
    },
    {
     "name": "stderr",
     "output_type": "stream",
     "text": [
      "training loop:  19% |########                                   | ETA:  17:20:11\r"
     ]
    },
    {
     "name": "stdout",
     "output_type": "stream",
     "text": [
      "game:  961 , mean loss: 21.84 , recent outcomes:  [-1, 1, -1, -1, 1, -1, -1, 1, -1, 1]\n"
     ]
    },
    {
     "name": "stderr",
     "output_type": "stream",
     "text": [
      "training loop:  19% |########                                   | ETA:  17:18:05\r"
     ]
    },
    {
     "name": "stdout",
     "output_type": "stream",
     "text": [
      "game:  971 , mean loss: 19.26 , recent outcomes:  [-1, -1, -1, 1, -1, -1, -1, 1, -1, -1]\n"
     ]
    },
    {
     "name": "stderr",
     "output_type": "stream",
     "text": [
      "training loop:  19% |########                                   | ETA:  17:14:09\r"
     ]
    },
    {
     "name": "stdout",
     "output_type": "stream",
     "text": [
      "game:  981 , mean loss: 16.88 , recent outcomes:  [1, -1, -1, -1, -1, -1, -1, -1, -1, -1]\n"
     ]
    },
    {
     "name": "stderr",
     "output_type": "stream",
     "text": [
      "training loop:  19% |########                                   | ETA:  17:09:29\r"
     ]
    },
    {
     "name": "stdout",
     "output_type": "stream",
     "text": [
      "game:  991 , mean loss: 16.70 , recent outcomes:  [1, 1, 1, -1, 1, -1, 1, 1, -1, 1]\n"
     ]
    },
    {
     "name": "stderr",
     "output_type": "stream",
     "text": [
      "training loop:  20% |########                                   | ETA:  17:05:22\r"
     ]
    },
    {
     "name": "stdout",
     "output_type": "stream",
     "text": [
      "game:  1001 , mean loss: 22.03 , recent outcomes:  [-1, -1, -1, 1, 1, -1, -1, -1, -1, -1]\n"
     ]
    },
    {
     "name": "stderr",
     "output_type": "stream",
     "text": [
      "training loop:  20% |########                                   | ETA:  17:01:56\r"
     ]
    },
    {
     "name": "stdout",
     "output_type": "stream",
     "text": [
      "game:  1011 , mean loss: 20.78 , recent outcomes:  [-1, -1, 1, -1, -1, -1, -1, -1, -1, 1]\n"
     ]
    },
    {
     "name": "stderr",
     "output_type": "stream",
     "text": [
      "training loop:  20% |########                                   | ETA:  16:59:28\r"
     ]
    },
    {
     "name": "stdout",
     "output_type": "stream",
     "text": [
      "game:  1021 , mean loss: 19.19 , recent outcomes:  [-1, -1, 0, -1, 1, -1, -1, -1, -1, 1]\n"
     ]
    },
    {
     "name": "stderr",
     "output_type": "stream",
     "text": [
      "training loop:  20% |########                                   | ETA:  16:59:14\r"
     ]
    },
    {
     "name": "stdout",
     "output_type": "stream",
     "text": [
      "game:  1031 , mean loss: 18.76 , recent outcomes:  [-1, -1, 1, -1, 0, -1, 1, 1, -1, -1]\n"
     ]
    },
    {
     "name": "stderr",
     "output_type": "stream",
     "text": [
      "training loop:  20% |########                                   | ETA:  16:57:28\r"
     ]
    },
    {
     "name": "stdout",
     "output_type": "stream",
     "text": [
      "game:  1041 , mean loss: 17.61 , recent outcomes:  [-1, -1, -1, -1, -1, -1, -1, -1, -1, 1]\n"
     ]
    },
    {
     "name": "stderr",
     "output_type": "stream",
     "text": [
      "training loop:  21% |#########                                  | ETA:  16:54:37\r"
     ]
    },
    {
     "name": "stdout",
     "output_type": "stream",
     "text": [
      "game:  1051 , mean loss: 17.77 , recent outcomes:  [-1, -1, -1, -1, -1, -1, -1, -1, 1, -1]\n"
     ]
    },
    {
     "name": "stderr",
     "output_type": "stream",
     "text": [
      "training loop:  21% |#########                                  | ETA:  16:51:03\r"
     ]
    },
    {
     "name": "stdout",
     "output_type": "stream",
     "text": [
      "game:  1061 , mean loss: 14.36 , recent outcomes:  [-1, -1, 1, -1, 1, -1, -1, -1, -1, -1]\n"
     ]
    },
    {
     "name": "stderr",
     "output_type": "stream",
     "text": [
      "training loop:  21% |#########                                  | ETA:  16:48:37\r"
     ]
    },
    {
     "name": "stdout",
     "output_type": "stream",
     "text": [
      "game:  1071 , mean loss: 14.31 , recent outcomes:  [0, -1, -1, -1, 1, -1, -1, 1, -1, -1]\n"
     ]
    },
    {
     "name": "stderr",
     "output_type": "stream",
     "text": [
      "training loop:  21% |#########                                  | ETA:  16:45:09\r"
     ]
    },
    {
     "name": "stdout",
     "output_type": "stream",
     "text": [
      "game:  1081 , mean loss: 20.53 , recent outcomes:  [-1, 1, -1, -1, -1, -1, -1, -1, 1, -1]\n"
     ]
    },
    {
     "name": "stderr",
     "output_type": "stream",
     "text": [
      "training loop:  21% |#########                                  | ETA:  16:41:36\r"
     ]
    },
    {
     "name": "stdout",
     "output_type": "stream",
     "text": [
      "game:  1091 , mean loss: 19.64 , recent outcomes:  [1, -1, -1, -1, 1, -1, -1, -1, -1, -1]\n"
     ]
    },
    {
     "name": "stderr",
     "output_type": "stream",
     "text": [
      "training loop:  22% |#########                                  | ETA:  16:37:22\r"
     ]
    },
    {
     "name": "stdout",
     "output_type": "stream",
     "text": [
      "game:  1101 , mean loss: 14.17 , recent outcomes:  [-1, -1, -1, 1, 1, -1, -1, -1, -1, -1]\n"
     ]
    },
    {
     "name": "stderr",
     "output_type": "stream",
     "text": [
      "training loop:  22% |#########                                  | ETA:  16:36:26\r"
     ]
    },
    {
     "name": "stdout",
     "output_type": "stream",
     "text": [
      "game:  1111 , mean loss: 16.78 , recent outcomes:  [-1, -1, -1, 1, 0, 0, -1, -1, 1, -1]\n"
     ]
    },
    {
     "name": "stderr",
     "output_type": "stream",
     "text": [
      "training loop:  22% |#########                                  | ETA:  16:31:04\r"
     ]
    },
    {
     "name": "stdout",
     "output_type": "stream",
     "text": [
      "game:  1121 , mean loss: 16.77 , recent outcomes:  [-1, -1, -1, -1, -1, -1, -1, -1, -1, -1]\n"
     ]
    },
    {
     "name": "stderr",
     "output_type": "stream",
     "text": [
      "training loop:  22% |#########                                  | ETA:  16:28:07\r"
     ]
    },
    {
     "name": "stdout",
     "output_type": "stream",
     "text": [
      "game:  1131 , mean loss: 17.11 , recent outcomes:  [-1, -1, -1, -1, -1, -1, -1, -1, -1, 1]\n"
     ]
    },
    {
     "name": "stderr",
     "output_type": "stream",
     "text": [
      "training loop:  22% |#########                                  | ETA:  16:25:41\r"
     ]
    },
    {
     "name": "stdout",
     "output_type": "stream",
     "text": [
      "game:  1141 , mean loss: 19.25 , recent outcomes:  [-1, -1, 0, 1, 1, -1, 0, -1, -1, -1]\n"
     ]
    },
    {
     "name": "stderr",
     "output_type": "stream",
     "text": [
      "training loop:  23% |#########                                  | ETA:  16:23:26\r"
     ]
    },
    {
     "name": "stdout",
     "output_type": "stream",
     "text": [
      "game:  1151 , mean loss: 20.44 , recent outcomes:  [1, -1, -1, -1, -1, -1, 1, 1, -1, 0]\n"
     ]
    },
    {
     "name": "stderr",
     "output_type": "stream",
     "text": [
      "training loop:  23% |#########                                  | ETA:  16:20:32\r"
     ]
    },
    {
     "name": "stdout",
     "output_type": "stream",
     "text": [
      "game:  1161 , mean loss: 18.29 , recent outcomes:  [-1, -1, -1, 0, 0, -1, -1, -1, -1, -1]\n"
     ]
    },
    {
     "name": "stderr",
     "output_type": "stream",
     "text": [
      "training loop:  23% |##########                                 | ETA:  16:16:47\r"
     ]
    },
    {
     "name": "stdout",
     "output_type": "stream",
     "text": [
      "game:  1171 , mean loss: 14.05 , recent outcomes:  [-1, -1, -1, -1, -1, -1, -1, -1, -1, -1]\n"
     ]
    },
    {
     "name": "stderr",
     "output_type": "stream",
     "text": [
      "training loop:  23% |##########                                 | ETA:  16:14:54\r"
     ]
    },
    {
     "name": "stdout",
     "output_type": "stream",
     "text": [
      "game:  1181 , mean loss: 17.74 , recent outcomes:  [-1, -1, -1, -1, 0, -1, -1, 1, -1, -1]\n"
     ]
    },
    {
     "name": "stderr",
     "output_type": "stream",
     "text": [
      "training loop:  23% |##########                                 | ETA:  16:11:02\r"
     ]
    },
    {
     "name": "stdout",
     "output_type": "stream",
     "text": [
      "game:  1191 , mean loss: 15.64 , recent outcomes:  [-1, -1, -1, -1, -1, -1, -1, -1, -1, -1]\n"
     ]
    },
    {
     "name": "stderr",
     "output_type": "stream",
     "text": [
      "training loop:  24% |##########                                 | ETA:  16:07:16\r"
     ]
    },
    {
     "name": "stdout",
     "output_type": "stream",
     "text": [
      "game:  1201 , mean loss: 15.59 , recent outcomes:  [-1, -1, -1, -1, -1, -1, -1, -1, 1, 1]\n"
     ]
    },
    {
     "name": "stderr",
     "output_type": "stream",
     "text": [
      "training loop:  24% |##########                                 | ETA:  16:05:36\r"
     ]
    },
    {
     "name": "stdout",
     "output_type": "stream",
     "text": [
      "game:  1211 , mean loss: 19.44 , recent outcomes:  [-1, -1, -1, 1, -1, -1, -1, 0, -1, -1]\n"
     ]
    },
    {
     "name": "stderr",
     "output_type": "stream",
     "text": [
      "training loop:  24% |##########                                 | ETA:  16:01:18\r"
     ]
    },
    {
     "name": "stdout",
     "output_type": "stream",
     "text": [
      "game:  1221 , mean loss: 17.87 , recent outcomes:  [-1, -1, -1, 1, -1, -1, -1, 1, -1, -1]\n"
     ]
    },
    {
     "name": "stderr",
     "output_type": "stream",
     "text": [
      "training loop:  24% |##########                                 | ETA:  15:57:25\r"
     ]
    },
    {
     "name": "stdout",
     "output_type": "stream",
     "text": [
      "game:  1231 , mean loss: 17.75 , recent outcomes:  [-1, 1, -1, -1, 1, -1, 1, 1, -1, -1]\n"
     ]
    },
    {
     "name": "stderr",
     "output_type": "stream",
     "text": [
      "training loop:  24% |##########                                 | ETA:  15:55:15\r"
     ]
    },
    {
     "name": "stdout",
     "output_type": "stream",
     "text": [
      "game:  1241 , mean loss: 16.09 , recent outcomes:  [-1, -1, -1, 0, -1, -1, 0, 1, -1, -1]\n"
     ]
    },
    {
     "name": "stderr",
     "output_type": "stream",
     "text": [
      "training loop:  25% |##########                                 | ETA:  15:51:46\r"
     ]
    },
    {
     "name": "stdout",
     "output_type": "stream",
     "text": [
      "game:  1251 , mean loss: 14.21 , recent outcomes:  [-1, -1, -1, -1, -1, -1, -1, 1, -1, -1]\n"
     ]
    },
    {
     "name": "stderr",
     "output_type": "stream",
     "text": [
      "training loop:  25% |##########                                 | ETA:  15:50:17\r"
     ]
    },
    {
     "name": "stdout",
     "output_type": "stream",
     "text": [
      "game:  1261 , mean loss: 16.20 , recent outcomes:  [-1, -1, -1, -1, 1, -1, -1, 0, 0, -1]\n"
     ]
    },
    {
     "name": "stderr",
     "output_type": "stream",
     "text": [
      "training loop:  25% |##########                                 | ETA:  15:50:11\r"
     ]
    },
    {
     "name": "stdout",
     "output_type": "stream",
     "text": [
      "game:  1271 , mean loss: 23.52 , recent outcomes:  [-1, -1, -1, -1, -1, 0, -1, 1, -1, -1]\n"
     ]
    },
    {
     "name": "stderr",
     "output_type": "stream",
     "text": [
      "training loop:  25% |###########                                | ETA:  15:47:53\r"
     ]
    },
    {
     "name": "stdout",
     "output_type": "stream",
     "text": [
      "game:  1281 , mean loss: 27.08 , recent outcomes:  [1, 1, -1, -1, 0, 1, -1, -1, -1, 1]\n"
     ]
    },
    {
     "name": "stderr",
     "output_type": "stream",
     "text": [
      "training loop:  25% |###########                                | ETA:  15:46:37\r"
     ]
    },
    {
     "name": "stdout",
     "output_type": "stream",
     "text": [
      "game:  1291 , mean loss: 20.38 , recent outcomes:  [-1, -1, -1, -1, -1, -1, -1, 0, -1, -1]\n"
     ]
    },
    {
     "name": "stderr",
     "output_type": "stream",
     "text": [
      "training loop:  26% |###########                                | ETA:  15:45:18\r"
     ]
    },
    {
     "name": "stdout",
     "output_type": "stream",
     "text": [
      "game:  1301 , mean loss: 17.73 , recent outcomes:  [-1, -1, -1, 1, -1, -1, -1, 0, -1, -1]\n"
     ]
    },
    {
     "name": "stderr",
     "output_type": "stream",
     "text": [
      "training loop:  26% |###########                                | ETA:  15:42:10\r"
     ]
    },
    {
     "name": "stdout",
     "output_type": "stream",
     "text": [
      "game:  1311 , mean loss: 17.61 , recent outcomes:  [1, -1, -1, -1, -1, 1, -1, -1, -1, -1]\n"
     ]
    },
    {
     "name": "stderr",
     "output_type": "stream",
     "text": [
      "training loop:  26% |###########                                | ETA:  15:40:13\r"
     ]
    },
    {
     "name": "stdout",
     "output_type": "stream",
     "text": [
      "game:  1321 , mean loss: 17.54 , recent outcomes:  [0, 1, -1, -1, -1, 1, -1, -1, -1, -1]\n"
     ]
    },
    {
     "name": "stderr",
     "output_type": "stream",
     "text": [
      "training loop:  26% |###########                                | ETA:  15:36:49\r"
     ]
    },
    {
     "name": "stdout",
     "output_type": "stream",
     "text": [
      "game:  1331 , mean loss: 18.53 , recent outcomes:  [-1, -1, 1, -1, -1, -1, 1, -1, -1, -1]\n"
     ]
    },
    {
     "name": "stderr",
     "output_type": "stream",
     "text": [
      "training loop:  26% |###########                                | ETA:  15:35:04\r"
     ]
    },
    {
     "name": "stdout",
     "output_type": "stream",
     "text": [
      "game:  1341 , mean loss: 17.85 , recent outcomes:  [-1, 0, -1, -1, -1, -1, -1, 0, -1, -1]\n"
     ]
    },
    {
     "name": "stderr",
     "output_type": "stream",
     "text": [
      "training loop:  27% |###########                                | ETA:  15:31:52\r"
     ]
    },
    {
     "name": "stdout",
     "output_type": "stream",
     "text": [
      "game:  1351 , mean loss: 22.53 , recent outcomes:  [1, -1, 1, -1, -1, -1, 1, -1, -1, -1]\n"
     ]
    },
    {
     "name": "stderr",
     "output_type": "stream",
     "text": [
      "training loop:  27% |###########                                | ETA:  15:30:20\r"
     ]
    },
    {
     "name": "stdout",
     "output_type": "stream",
     "text": [
      "game:  1361 , mean loss: 22.33 , recent outcomes:  [0, -1, -1, -1, -1, -1, 1, 1, -1, -1]\n"
     ]
    },
    {
     "name": "stderr",
     "output_type": "stream",
     "text": [
      "training loop:  27% |###########                                | ETA:  15:27:59\r"
     ]
    },
    {
     "name": "stdout",
     "output_type": "stream",
     "text": [
      "game:  1371 , mean loss: 20.65 , recent outcomes:  [-1, -1, -1, 1, -1, -1, 1, -1, -1, -1]\n"
     ]
    },
    {
     "name": "stderr",
     "output_type": "stream",
     "text": [
      "training loop:  27% |###########                                | ETA:  15:26:41\r"
     ]
    },
    {
     "name": "stdout",
     "output_type": "stream",
     "text": [
      "game:  1381 , mean loss: 22.45 , recent outcomes:  [-1, -1, -1, 0, 1, -1, -1, 1, -1, -1]\n"
     ]
    },
    {
     "name": "stderr",
     "output_type": "stream",
     "text": [
      "training loop:  27% |###########                                | ETA:  15:24:33\r"
     ]
    },
    {
     "name": "stdout",
     "output_type": "stream",
     "text": [
      "game:  1391 , mean loss: 17.79 , recent outcomes:  [-1, -1, -1, -1, -1, 0, -1, -1, 1, -1]\n"
     ]
    },
    {
     "name": "stderr",
     "output_type": "stream",
     "text": [
      "training loop:  28% |############                               | ETA:  15:21:27\r"
     ]
    },
    {
     "name": "stdout",
     "output_type": "stream",
     "text": [
      "game:  1401 , mean loss: 19.19 , recent outcomes:  [-1, -1, -1, 1, 1, -1, -1, 1, -1, -1]\n"
     ]
    },
    {
     "name": "stderr",
     "output_type": "stream",
     "text": [
      "training loop:  28% |############                               | ETA:  15:19:21\r"
     ]
    },
    {
     "name": "stdout",
     "output_type": "stream",
     "text": [
      "game:  1411 , mean loss: 22.93 , recent outcomes:  [-1, -1, 1, 1, 0, -1, -1, -1, -1, -1]\n"
     ]
    },
    {
     "name": "stderr",
     "output_type": "stream",
     "text": [
      "training loop:  28% |############                               | ETA:  15:16:54\r"
     ]
    },
    {
     "name": "stdout",
     "output_type": "stream",
     "text": [
      "game:  1421 , mean loss: 18.27 , recent outcomes:  [-1, -1, -1, -1, -1, -1, 0, -1, 0, -1]\n"
     ]
    },
    {
     "name": "stderr",
     "output_type": "stream",
     "text": [
      "training loop:  28% |############                               | ETA:  15:13:40\r"
     ]
    },
    {
     "name": "stdout",
     "output_type": "stream",
     "text": [
      "game:  1431 , mean loss: 14.79 , recent outcomes:  [-1, -1, -1, -1, 0, -1, -1, -1, -1, 1]\n"
     ]
    },
    {
     "name": "stderr",
     "output_type": "stream",
     "text": [
      "training loop:  28% |############                               | ETA:  15:09:51\r"
     ]
    },
    {
     "name": "stdout",
     "output_type": "stream",
     "text": [
      "game:  1441 , mean loss: 12.29 , recent outcomes:  [-1, -1, -1, -1, -1, -1, -1, -1, -1, -1]\n"
     ]
    },
    {
     "name": "stderr",
     "output_type": "stream",
     "text": [
      "training loop:  29% |############                               | ETA:  15:06:36\r"
     ]
    },
    {
     "name": "stdout",
     "output_type": "stream",
     "text": [
      "game:  1451 , mean loss: 17.39 , recent outcomes:  [-1, 1, -1, -1, 1, -1, -1, 1, -1, -1]\n"
     ]
    },
    {
     "name": "stderr",
     "output_type": "stream",
     "text": [
      "training loop:  29% |############                               | ETA:  15:03:23\r"
     ]
    },
    {
     "name": "stdout",
     "output_type": "stream",
     "text": [
      "game:  1461 , mean loss: 23.06 , recent outcomes:  [1, -1, -1, 1, -1, -1, -1, -1, -1, -1]\n"
     ]
    },
    {
     "name": "stderr",
     "output_type": "stream",
     "text": [
      "training loop:  29% |############                               | ETA:  15:00:54\r"
     ]
    },
    {
     "name": "stdout",
     "output_type": "stream",
     "text": [
      "game:  1471 , mean loss: 18.78 , recent outcomes:  [-1, -1, 1, -1, -1, -1, -1, -1, -1, -1]\n"
     ]
    },
    {
     "name": "stderr",
     "output_type": "stream",
     "text": [
      "training loop:  29% |############                               | ETA:  14:58:27\r"
     ]
    },
    {
     "name": "stdout",
     "output_type": "stream",
     "text": [
      "game:  1481 , mean loss: 22.45 , recent outcomes:  [1, -1, 1, -1, -1, -1, 0, 1, -1, -1]\n"
     ]
    },
    {
     "name": "stderr",
     "output_type": "stream",
     "text": [
      "training loop:  29% |############                               | ETA:  14:55:00\r"
     ]
    },
    {
     "name": "stdout",
     "output_type": "stream",
     "text": [
      "game:  1491 , mean loss: 22.66 , recent outcomes:  [1, -1, -1, -1, -1, -1, 1, 1, -1, -1]\n"
     ]
    },
    {
     "name": "stderr",
     "output_type": "stream",
     "text": [
      "training loop:  30% |############                               | ETA:  14:52:26\r"
     ]
    },
    {
     "name": "stdout",
     "output_type": "stream",
     "text": [
      "game:  1501 , mean loss: 15.49 , recent outcomes:  [-1, -1, -1, -1, -1, -1, -1, -1, -1, -1]\n"
     ]
    },
    {
     "name": "stderr",
     "output_type": "stream",
     "text": [
      "training loop:  30% |############                               | ETA:  14:49:35\r"
     ]
    },
    {
     "name": "stdout",
     "output_type": "stream",
     "text": [
      "game:  1511 , mean loss: 15.17 , recent outcomes:  [-1, -1, 0, -1, -1, -1, 1, -1, -1, -1]\n"
     ]
    },
    {
     "name": "stderr",
     "output_type": "stream",
     "text": [
      "training loop:  30% |#############                              | ETA:  14:47:26\r"
     ]
    },
    {
     "name": "stdout",
     "output_type": "stream",
     "text": [
      "game:  1521 , mean loss: 15.07 , recent outcomes:  [-1, -1, -1, -1, 0, -1, -1, -1, 0, -1]\n"
     ]
    },
    {
     "name": "stderr",
     "output_type": "stream",
     "text": [
      "training loop:  30% |#############                              | ETA:  14:44:00\r"
     ]
    },
    {
     "name": "stdout",
     "output_type": "stream",
     "text": [
      "game:  1531 , mean loss: 11.73 , recent outcomes:  [0, -1, -1, -1, -1, -1, -1, -1, -1, -1]\n"
     ]
    },
    {
     "name": "stderr",
     "output_type": "stream",
     "text": [
      "training loop:  30% |#############                              | ETA:  14:42:17\r"
     ]
    },
    {
     "name": "stdout",
     "output_type": "stream",
     "text": [
      "game:  1541 , mean loss: 15.45 , recent outcomes:  [-1, 0, -1, -1, -1, 0, -1, -1, 1, 1]\n"
     ]
    },
    {
     "name": "stderr",
     "output_type": "stream",
     "text": [
      "training loop:  31% |#############                              | ETA:  14:40:18\r"
     ]
    },
    {
     "name": "stdout",
     "output_type": "stream",
     "text": [
      "game:  1551 , mean loss: 17.52 , recent outcomes:  [-1, -1, 1, -1, 0, -1, -1, -1, -1, 0]\n"
     ]
    },
    {
     "name": "stderr",
     "output_type": "stream",
     "text": [
      "training loop:  31% |#############                              | ETA:  14:38:31\r"
     ]
    },
    {
     "name": "stdout",
     "output_type": "stream",
     "text": [
      "game:  1561 , mean loss: 13.44 , recent outcomes:  [0, 0, -1, -1, -1, -1, -1, 0, -1, -1]\n"
     ]
    },
    {
     "name": "stderr",
     "output_type": "stream",
     "text": [
      "training loop:  31% |#############                              | ETA:  14:36:33\r"
     ]
    },
    {
     "name": "stdout",
     "output_type": "stream",
     "text": [
      "game:  1571 , mean loss: 18.83 , recent outcomes:  [-1, -1, 1, -1, 1, -1, -1, -1, -1, -1]\n"
     ]
    },
    {
     "name": "stderr",
     "output_type": "stream",
     "text": [
      "training loop:  31% |#############                              | ETA:  14:33:28\r"
     ]
    },
    {
     "name": "stdout",
     "output_type": "stream",
     "text": [
      "game:  1581 , mean loss: 18.31 , recent outcomes:  [-1, -1, -1, 0, -1, -1, -1, -1, -1, 0]\n"
     ]
    },
    {
     "name": "stderr",
     "output_type": "stream",
     "text": [
      "training loop:  31% |#############                              | ETA:  14:30:55\r"
     ]
    },
    {
     "name": "stdout",
     "output_type": "stream",
     "text": [
      "game:  1591 , mean loss: 14.92 , recent outcomes:  [0, 1, -1, -1, -1, -1, 0, -1, -1, -1]\n"
     ]
    },
    {
     "name": "stderr",
     "output_type": "stream",
     "text": [
      "training loop:  32% |#############                              | ETA:  14:28:27\r"
     ]
    },
    {
     "name": "stdout",
     "output_type": "stream",
     "text": [
      "game:  1601 , mean loss: 17.88 , recent outcomes:  [1, -1, 0, -1, -1, -1, -1, -1, -1, -1]\n"
     ]
    },
    {
     "name": "stderr",
     "output_type": "stream",
     "text": [
      "training loop:  32% |#############                              | ETA:  14:25:18\r"
     ]
    },
    {
     "name": "stdout",
     "output_type": "stream",
     "text": [
      "game:  1611 , mean loss: 16.56 , recent outcomes:  [-1, -1, 0, -1, -1, -1, 1, 1, -1, -1]\n"
     ]
    },
    {
     "name": "stderr",
     "output_type": "stream",
     "text": [
      "training loop:  32% |#############                              | ETA:  14:22:54\r"
     ]
    },
    {
     "name": "stdout",
     "output_type": "stream",
     "text": [
      "game:  1621 , mean loss: 15.24 , recent outcomes:  [-1, -1, -1, 0, -1, 1, -1, -1, -1, 0]\n"
     ]
    },
    {
     "name": "stderr",
     "output_type": "stream",
     "text": [
      "training loop:  32% |##############                             | ETA:  14:20:06\r"
     ]
    },
    {
     "name": "stdout",
     "output_type": "stream",
     "text": [
      "game:  1631 , mean loss: 15.94 , recent outcomes:  [-1, -1, 1, -1, -1, -1, -1, -1, 0, -1]\n"
     ]
    },
    {
     "name": "stderr",
     "output_type": "stream",
     "text": [
      "training loop:  32% |##############                             | ETA:  14:17:05\r"
     ]
    },
    {
     "name": "stdout",
     "output_type": "stream",
     "text": [
      "game:  1641 , mean loss: 13.91 , recent outcomes:  [0, -1, -1, -1, -1, 0, 0, -1, -1, -1]\n"
     ]
    },
    {
     "name": "stderr",
     "output_type": "stream",
     "text": [
      "training loop:  33% |##############                             | ETA:  14:14:35\r"
     ]
    },
    {
     "name": "stdout",
     "output_type": "stream",
     "text": [
      "game:  1651 , mean loss: 14.04 , recent outcomes:  [-1, 1, -1, -1, 1, 0, -1, -1, -1, -1]\n"
     ]
    },
    {
     "name": "stderr",
     "output_type": "stream",
     "text": [
      "training loop:  33% |##############                             | ETA:  14:12:10\r"
     ]
    },
    {
     "name": "stdout",
     "output_type": "stream",
     "text": [
      "game:  1661 , mean loss: 17.09 , recent outcomes:  [0, -1, 1, -1, -1, -1, -1, 1, 0, -1]\n"
     ]
    },
    {
     "name": "stderr",
     "output_type": "stream",
     "text": [
      "training loop:  33% |##############                             | ETA:  14:09:09\r"
     ]
    },
    {
     "name": "stdout",
     "output_type": "stream",
     "text": [
      "game:  1671 , mean loss: 14.98 , recent outcomes:  [-1, 1, -1, -1, 0, -1, -1, -1, -1, -1]\n"
     ]
    },
    {
     "name": "stderr",
     "output_type": "stream",
     "text": [
      "training loop:  33% |##############                             | ETA:  14:05:50\r"
     ]
    },
    {
     "name": "stdout",
     "output_type": "stream",
     "text": [
      "game:  1681 , mean loss: 14.57 , recent outcomes:  [-1, 1, -1, -1, -1, -1, -1, 1, -1, -1]\n"
     ]
    },
    {
     "name": "stderr",
     "output_type": "stream",
     "text": [
      "training loop:  33% |##############                             | ETA:  14:02:04\r"
     ]
    },
    {
     "name": "stdout",
     "output_type": "stream",
     "text": [
      "game:  1691 , mean loss: 13.19 , recent outcomes:  [-1, -1, -1, -1, -1, -1, -1, -1, -1, -1]\n"
     ]
    },
    {
     "name": "stderr",
     "output_type": "stream",
     "text": [
      "training loop:  34% |##############                             | ETA:  13:59:13\r"
     ]
    },
    {
     "name": "stdout",
     "output_type": "stream",
     "text": [
      "game:  1701 , mean loss: 10.32 , recent outcomes:  [-1, 1, -1, -1, -1, -1, -1, -1, -1, -1]\n"
     ]
    },
    {
     "name": "stderr",
     "output_type": "stream",
     "text": [
      "training loop:  34% |##############                             | ETA:  13:56:50\r"
     ]
    },
    {
     "name": "stdout",
     "output_type": "stream",
     "text": [
      "game:  1711 , mean loss: 15.44 , recent outcomes:  [-1, -1, -1, -1, 1, -1, 0, 1, -1, -1]\n"
     ]
    },
    {
     "name": "stderr",
     "output_type": "stream",
     "text": [
      "training loop:  34% |##############                             | ETA:  13:54:38\r"
     ]
    },
    {
     "name": "stdout",
     "output_type": "stream",
     "text": [
      "game:  1721 , mean loss: 16.96 , recent outcomes:  [-1, 0, -1, -1, -1, -1, -1, 0, 0, -1]\n"
     ]
    },
    {
     "name": "stderr",
     "output_type": "stream",
     "text": [
      "training loop:  34% |##############                             | ETA:  13:52:07\r"
     ]
    },
    {
     "name": "stdout",
     "output_type": "stream",
     "text": [
      "game:  1731 , mean loss: 19.92 , recent outcomes:  [-1, -1, -1, -1, 1, -1, -1, -1, 1, -1]\n"
     ]
    },
    {
     "name": "stderr",
     "output_type": "stream",
     "text": [
      "training loop:  34% |##############                             | ETA:  13:49:38\r"
     ]
    },
    {
     "name": "stdout",
     "output_type": "stream",
     "text": [
      "game:  1741 , mean loss: 23.11 , recent outcomes:  [-1, 0, -1, -1, -1, 1, 1, -1, -1, -1]\n"
     ]
    },
    {
     "name": "stderr",
     "output_type": "stream",
     "text": [
      "training loop:  35% |###############                            | ETA:  13:46:39\r"
     ]
    },
    {
     "name": "stdout",
     "output_type": "stream",
     "text": [
      "game:  1751 , mean loss: 21.88 , recent outcomes:  [1, -1, -1, -1, -1, -1, -1, 0, 1, -1]\n"
     ]
    },
    {
     "name": "stderr",
     "output_type": "stream",
     "text": [
      "training loop:  35% |###############                            | ETA:  13:44:27\r"
     ]
    },
    {
     "name": "stdout",
     "output_type": "stream",
     "text": [
      "game:  1761 , mean loss: 21.96 , recent outcomes:  [-1, -1, -1, 0, -1, 1, -1, 0, -1, -1]\n"
     ]
    },
    {
     "name": "stderr",
     "output_type": "stream",
     "text": [
      "training loop:  35% |###############                            | ETA:  13:42:07\r"
     ]
    },
    {
     "name": "stdout",
     "output_type": "stream",
     "text": [
      "game:  1771 , mean loss: 22.73 , recent outcomes:  [0, -1, 1, -1, -1, -1, 1, 0, -1, -1]\n"
     ]
    },
    {
     "name": "stderr",
     "output_type": "stream",
     "text": [
      "training loop:  35% |###############                            | ETA:  13:38:43\r"
     ]
    },
    {
     "name": "stdout",
     "output_type": "stream",
     "text": [
      "game:  1781 , mean loss: 20.40 , recent outcomes:  [1, -1, -1, 0, -1, -1, -1, -1, -1, -1]\n"
     ]
    },
    {
     "name": "stderr",
     "output_type": "stream",
     "text": [
      "training loop:  35% |###############                            | ETA:  13:35:13\r"
     ]
    },
    {
     "name": "stdout",
     "output_type": "stream",
     "text": [
      "game:  1791 , mean loss: 14.05 , recent outcomes:  [-1, -1, -1, -1, -1, 1, -1, -1, -1, -1]\n"
     ]
    },
    {
     "name": "stderr",
     "output_type": "stream",
     "text": [
      "training loop:  36% |###############                            | ETA:  13:31:54\r"
     ]
    },
    {
     "name": "stdout",
     "output_type": "stream",
     "text": [
      "game:  1801 , mean loss: 17.49 , recent outcomes:  [-1, -1, -1, -1, 1, -1, 1, 1, -1, -1]\n"
     ]
    },
    {
     "name": "stderr",
     "output_type": "stream",
     "text": [
      "training loop:  36% |###############                            | ETA:  13:29:24\r"
     ]
    },
    {
     "name": "stdout",
     "output_type": "stream",
     "text": [
      "game:  1811 , mean loss: 23.05 , recent outcomes:  [1, -1, 1, 1, -1, -1, 1, -1, 1, -1]\n"
     ]
    },
    {
     "name": "stderr",
     "output_type": "stream",
     "text": [
      "training loop:  36% |###############                            | ETA:  13:25:55\r"
     ]
    },
    {
     "name": "stdout",
     "output_type": "stream",
     "text": [
      "game:  1821 , mean loss: 18.63 , recent outcomes:  [1, -1, -1, -1, -1, -1, -1, -1, -1, -1]\n"
     ]
    },
    {
     "name": "stderr",
     "output_type": "stream",
     "text": [
      "training loop:  36% |###############                            | ETA:  13:23:19\r"
     ]
    },
    {
     "name": "stdout",
     "output_type": "stream",
     "text": [
      "game:  1831 , mean loss: 16.29 , recent outcomes:  [-1, -1, 1, -1, -1, -1, -1, -1, 1, -1]\n"
     ]
    },
    {
     "name": "stderr",
     "output_type": "stream",
     "text": [
      "training loop:  36% |###############                            | ETA:  13:20:18\r"
     ]
    },
    {
     "name": "stdout",
     "output_type": "stream",
     "text": [
      "game:  1841 , mean loss: 16.67 , recent outcomes:  [-1, -1, -1, -1, -1, 0, -1, -1, -1, -1]\n"
     ]
    },
    {
     "name": "stderr",
     "output_type": "stream",
     "text": [
      "training loop:  37% |###############                            | ETA:  13:16:31\r"
     ]
    },
    {
     "name": "stdout",
     "output_type": "stream",
     "text": [
      "game:  1851 , mean loss: 13.51 , recent outcomes:  [-1, -1, -1, -1, -1, -1, -1, -1, -1, -1]\n"
     ]
    },
    {
     "name": "stderr",
     "output_type": "stream",
     "text": [
      "training loop:  37% |################                           | ETA:  13:13:01\r"
     ]
    },
    {
     "name": "stdout",
     "output_type": "stream",
     "text": [
      "game:  1861 , mean loss: 10.96 , recent outcomes:  [-1, -1, -1, -1, 1, -1, -1, -1, -1, -1]\n"
     ]
    },
    {
     "name": "stderr",
     "output_type": "stream",
     "text": [
      "training loop:  37% |################                           | ETA:  13:09:57\r"
     ]
    },
    {
     "name": "stdout",
     "output_type": "stream",
     "text": [
      "game:  1871 , mean loss: 13.77 , recent outcomes:  [-1, -1, -1, 1, -1, -1, -1, -1, 1, -1]\n"
     ]
    },
    {
     "name": "stderr",
     "output_type": "stream",
     "text": [
      "training loop:  37% |################                           | ETA:  13:07:11\r"
     ]
    },
    {
     "name": "stdout",
     "output_type": "stream",
     "text": [
      "game:  1881 , mean loss: 16.55 , recent outcomes:  [-1, -1, -1, -1, 0, 1, -1, -1, -1, 1]\n"
     ]
    },
    {
     "name": "stderr",
     "output_type": "stream",
     "text": [
      "training loop:  37% |################                           | ETA:  13:04:37\r"
     ]
    },
    {
     "name": "stdout",
     "output_type": "stream",
     "text": [
      "game:  1891 , mean loss: 13.31 , recent outcomes:  [-1, -1, -1, -1, 0, 0, -1, -1, -1, -1]\n"
     ]
    },
    {
     "name": "stderr",
     "output_type": "stream",
     "text": [
      "training loop:  38% |################                           | ETA:  13:01:05\r"
     ]
    },
    {
     "name": "stdout",
     "output_type": "stream",
     "text": [
      "game:  1901 , mean loss: 8.91 , recent outcomes:  [-1, -1, -1, -1, -1, -1, -1, -1, -1, -1]\n"
     ]
    },
    {
     "name": "stderr",
     "output_type": "stream",
     "text": [
      "training loop:  38% |################                           | ETA:  12:58:37\r"
     ]
    },
    {
     "name": "stdout",
     "output_type": "stream",
     "text": [
      "game:  1911 , mean loss: 12.05 , recent outcomes:  [-1, 0, -1, -1, -1, 0, -1, -1, 1, -1]\n"
     ]
    },
    {
     "name": "stderr",
     "output_type": "stream",
     "text": [
      "training loop:  38% |################                           | ETA:  12:55:18\r"
     ]
    },
    {
     "name": "stdout",
     "output_type": "stream",
     "text": [
      "game:  1921 , mean loss: 14.69 , recent outcomes:  [-1, -1, -1, -1, -1, -1, -1, -1, -1, -1]\n"
     ]
    },
    {
     "name": "stderr",
     "output_type": "stream",
     "text": [
      "training loop:  38% |################                           | ETA:  12:51:44\r"
     ]
    },
    {
     "name": "stdout",
     "output_type": "stream",
     "text": [
      "game:  1931 , mean loss: 12.37 , recent outcomes:  [-1, -1, -1, -1, 1, -1, -1, -1, -1, -1]\n"
     ]
    },
    {
     "name": "stderr",
     "output_type": "stream",
     "text": [
      "training loop:  38% |################                           | ETA:  12:49:01\r"
     ]
    },
    {
     "name": "stdout",
     "output_type": "stream",
     "text": [
      "game:  1941 , mean loss: 15.78 , recent outcomes:  [-1, -1, -1, -1, 1, -1, -1, -1, -1, 0]\n"
     ]
    },
    {
     "name": "stderr",
     "output_type": "stream",
     "text": [
      "training loop:  39% |################                           | ETA:  12:46:11\r"
     ]
    },
    {
     "name": "stdout",
     "output_type": "stream",
     "text": [
      "game:  1951 , mean loss: 22.33 , recent outcomes:  [-1, 1, -1, -1, -1, -1, -1, -1, 1, 1]\n"
     ]
    },
    {
     "name": "stderr",
     "output_type": "stream",
     "text": [
      "training loop:  39% |################                           | ETA:  12:42:57\r"
     ]
    },
    {
     "name": "stdout",
     "output_type": "stream",
     "text": [
      "game:  1961 , mean loss: 20.11 , recent outcomes:  [-1, -1, 1, -1, -1, -1, -1, -1, -1, 1]\n"
     ]
    },
    {
     "name": "stderr",
     "output_type": "stream",
     "text": [
      "training loop:  39% |################                           | ETA:  12:40:52\r"
     ]
    },
    {
     "name": "stdout",
     "output_type": "stream",
     "text": [
      "game:  1971 , mean loss: 15.13 , recent outcomes:  [-1, -1, -1, -1, -1, -1, 0, 0, 1, 0]\n"
     ]
    },
    {
     "name": "stderr",
     "output_type": "stream",
     "text": [
      "training loop:  39% |#################                          | ETA:  12:38:46\r"
     ]
    },
    {
     "name": "stdout",
     "output_type": "stream",
     "text": [
      "game:  1981 , mean loss: 16.21 , recent outcomes:  [-1, -1, -1, 0, 0, 1, -1, 0, -1, -1]\n"
     ]
    },
    {
     "name": "stderr",
     "output_type": "stream",
     "text": [
      "training loop:  39% |#################                          | ETA:  12:36:18\r"
     ]
    },
    {
     "name": "stdout",
     "output_type": "stream",
     "text": [
      "game:  1991 , mean loss: 18.35 , recent outcomes:  [-1, 0, 1, -1, 1, -1, -1, -1, -1, -1]\n"
     ]
    },
    {
     "name": "stderr",
     "output_type": "stream",
     "text": [
      "training loop:  40% |#################                          | ETA:  12:32:53\r"
     ]
    },
    {
     "name": "stdout",
     "output_type": "stream",
     "text": [
      "game:  2001 , mean loss: 14.39 , recent outcomes:  [-1, -1, -1, -1, -1, -1, -1, -1, -1, -1]\n"
     ]
    },
    {
     "name": "stderr",
     "output_type": "stream",
     "text": [
      "training loop:  40% |#################                          | ETA:  12:29:30\r"
     ]
    },
    {
     "name": "stdout",
     "output_type": "stream",
     "text": [
      "game:  2011 , mean loss: 12.60 , recent outcomes:  [1, -1, 1, -1, -1, -1, -1, -1, -1, -1]\n"
     ]
    },
    {
     "name": "stderr",
     "output_type": "stream",
     "text": [
      "training loop:  40% |#################                          | ETA:  12:26:34\r"
     ]
    },
    {
     "name": "stdout",
     "output_type": "stream",
     "text": [
      "game:  2021 , mean loss: 13.12 , recent outcomes:  [0, -1, -1, -1, -1, -1, -1, -1, -1, -1]\n"
     ]
    },
    {
     "name": "stderr",
     "output_type": "stream",
     "text": [
      "training loop:  40% |#################                          | ETA:  12:23:54\r"
     ]
    },
    {
     "name": "stdout",
     "output_type": "stream",
     "text": [
      "game:  2031 , mean loss: 15.89 , recent outcomes:  [-1, 1, 1, -1, -1, -1, -1, -1, -1, -1]\n"
     ]
    },
    {
     "name": "stderr",
     "output_type": "stream",
     "text": [
      "training loop:  40% |#################                          | ETA:  12:20:14\r"
     ]
    },
    {
     "name": "stdout",
     "output_type": "stream",
     "text": [
      "game:  2041 , mean loss: 18.69 , recent outcomes:  [-1, -1, 1, -1, 1, -1, -1, -1, -1, -1]\n"
     ]
    },
    {
     "name": "stderr",
     "output_type": "stream",
     "text": [
      "training loop:  41% |#################                          | ETA:  12:17:31\r"
     ]
    },
    {
     "name": "stdout",
     "output_type": "stream",
     "text": [
      "game:  2051 , mean loss: 18.89 , recent outcomes:  [1, -1, 1, -1, -1, -1, -1, 1, -1, -1]\n"
     ]
    },
    {
     "name": "stderr",
     "output_type": "stream",
     "text": [
      "training loop:  41% |#################                          | ETA:  12:14:22\r"
     ]
    },
    {
     "name": "stdout",
     "output_type": "stream",
     "text": [
      "game:  2061 , mean loss: 17.78 , recent outcomes:  [-1, -1, -1, -1, -1, -1, -1, -1, -1, -1]\n"
     ]
    },
    {
     "name": "stderr",
     "output_type": "stream",
     "text": [
      "training loop:  41% |#################                          | ETA:  12:12:19\r"
     ]
    },
    {
     "name": "stdout",
     "output_type": "stream",
     "text": [
      "game:  2071 , mean loss: 12.49 , recent outcomes:  [-1, -1, -1, 0, -1, -1, -1, -1, -1, 0]\n"
     ]
    },
    {
     "name": "stderr",
     "output_type": "stream",
     "text": [
      "training loop:  41% |#################                          | ETA:  12:09:14\r"
     ]
    },
    {
     "name": "stdout",
     "output_type": "stream",
     "text": [
      "game:  2081 , mean loss: 10.39 , recent outcomes:  [0, -1, -1, -1, -1, -1, -1, -1, -1, -1]\n"
     ]
    },
    {
     "name": "stderr",
     "output_type": "stream",
     "text": [
      "training loop:  41% |#################                          | ETA:  12:05:46\r"
     ]
    },
    {
     "name": "stdout",
     "output_type": "stream",
     "text": [
      "game:  2091 , mean loss: 8.52 , recent outcomes:  [-1, -1, -1, -1, -1, -1, -1, -1, -1, -1]\n"
     ]
    },
    {
     "name": "stderr",
     "output_type": "stream",
     "text": [
      "training loop:  42% |##################                         | ETA:  12:02:52\r"
     ]
    },
    {
     "name": "stdout",
     "output_type": "stream",
     "text": [
      "game:  2101 , mean loss: 20.06 , recent outcomes:  [1, 1, -1, -1, -1, 1, -1, -1, -1, -1]\n"
     ]
    },
    {
     "name": "stderr",
     "output_type": "stream",
     "text": [
      "training loop:  42% |##################                         | ETA:  12:00:42\r"
     ]
    },
    {
     "name": "stdout",
     "output_type": "stream",
     "text": [
      "game:  2111 , mean loss: 25.01 , recent outcomes:  [-1, -1, -1, -1, -1, 0, 1, -1, 1, -1]\n"
     ]
    },
    {
     "name": "stderr",
     "output_type": "stream",
     "text": [
      "training loop:  42% |##################                         | ETA:  11:57:44\r"
     ]
    },
    {
     "name": "stdout",
     "output_type": "stream",
     "text": [
      "game:  2121 , mean loss: 16.04 , recent outcomes:  [0, -1, -1, -1, -1, 1, -1, 1, -1, -1]\n"
     ]
    },
    {
     "name": "stderr",
     "output_type": "stream",
     "text": [
      "training loop:  42% |##################                         | ETA:  11:54:35\r"
     ]
    },
    {
     "name": "stdout",
     "output_type": "stream",
     "text": [
      "game:  2131 , mean loss: 12.57 , recent outcomes:  [-1, -1, -1, -1, -1, -1, 1, -1, -1, -1]\n"
     ]
    },
    {
     "name": "stderr",
     "output_type": "stream",
     "text": [
      "training loop:  42% |##################                         | ETA:  11:52:14\r"
     ]
    },
    {
     "name": "stdout",
     "output_type": "stream",
     "text": [
      "game:  2141 , mean loss: 14.60 , recent outcomes:  [-1, -1, -1, -1, 0, -1, 1, 1, -1, -1]\n"
     ]
    },
    {
     "name": "stderr",
     "output_type": "stream",
     "text": [
      "training loop:  43% |##################                         | ETA:  11:49:38\r"
     ]
    },
    {
     "name": "stdout",
     "output_type": "stream",
     "text": [
      "game:  2151 , mean loss: 22.60 , recent outcomes:  [-1, 1, 1, 1, 0, 1, -1, 1, -1, 1]\n"
     ]
    },
    {
     "name": "stderr",
     "output_type": "stream",
     "text": [
      "training loop:  43% |##################                         | ETA:  11:47:05\r"
     ]
    },
    {
     "name": "stdout",
     "output_type": "stream",
     "text": [
      "game:  2161 , mean loss: 27.60 , recent outcomes:  [1, 1, 1, -1, 1, 1, -1, -1, 1, -1]\n"
     ]
    },
    {
     "name": "stderr",
     "output_type": "stream",
     "text": [
      "training loop:  43% |##################                         | ETA:  11:44:33\r"
     ]
    },
    {
     "name": "stdout",
     "output_type": "stream",
     "text": [
      "game:  2171 , mean loss: 26.57 , recent outcomes:  [-1, 1, -1, -1, -1, 1, -1, 1, 1, -1]\n"
     ]
    },
    {
     "name": "stderr",
     "output_type": "stream",
     "text": [
      "training loop:  43% |##################                         | ETA:  11:42:12\r"
     ]
    },
    {
     "name": "stdout",
     "output_type": "stream",
     "text": [
      "game:  2181 , mean loss: 25.57 , recent outcomes:  [1, 1, 1, 1, 1, -1, -1, 1, 1, -1]\n"
     ]
    },
    {
     "name": "stderr",
     "output_type": "stream",
     "text": [
      "training loop:  43% |##################                         | ETA:  11:39:48\r"
     ]
    },
    {
     "name": "stdout",
     "output_type": "stream",
     "text": [
      "game:  2191 , mean loss: 25.64 , recent outcomes:  [-1, 1, -1, -1, -1, 1, 1, -1, 1, -1]\n"
     ]
    },
    {
     "name": "stderr",
     "output_type": "stream",
     "text": [
      "training loop:  44% |##################                         | ETA:  11:36:47\r"
     ]
    },
    {
     "name": "stdout",
     "output_type": "stream",
     "text": [
      "game:  2201 , mean loss: 23.13 , recent outcomes:  [-1, -1, 1, -1, 1, -1, -1, 1, -1, -1]\n"
     ]
    },
    {
     "name": "stderr",
     "output_type": "stream",
     "text": [
      "training loop:  44% |###################                        | ETA:  11:34:08\r"
     ]
    },
    {
     "name": "stdout",
     "output_type": "stream",
     "text": [
      "game:  2211 , mean loss: 20.79 , recent outcomes:  [1, -1, 1, -1, 1, -1, -1, -1, 1, 1]\n"
     ]
    },
    {
     "name": "stderr",
     "output_type": "stream",
     "text": [
      "training loop:  44% |###################                        | ETA:  11:31:15\r"
     ]
    },
    {
     "name": "stdout",
     "output_type": "stream",
     "text": [
      "game:  2221 , mean loss: 19.81 , recent outcomes:  [1, 1, -1, -1, 1, -1, 1, -1, -1, -1]\n"
     ]
    },
    {
     "name": "stderr",
     "output_type": "stream",
     "text": [
      "training loop:  44% |###################                        | ETA:  11:28:51\r"
     ]
    },
    {
     "name": "stdout",
     "output_type": "stream",
     "text": [
      "game:  2231 , mean loss: 21.79 , recent outcomes:  [-1, -1, 1, -1, -1, 1, -1, 1, -1, -1]\n"
     ]
    },
    {
     "name": "stderr",
     "output_type": "stream",
     "text": [
      "training loop:  44% |###################                        | ETA:  11:26:09\r"
     ]
    },
    {
     "name": "stdout",
     "output_type": "stream",
     "text": [
      "game:  2241 , mean loss: 22.92 , recent outcomes:  [1, -1, -1, -1, -1, 1, -1, 1, -1, -1]\n"
     ]
    },
    {
     "name": "stderr",
     "output_type": "stream",
     "text": [
      "training loop:  45% |###################                        | ETA:  11:23:21\r"
     ]
    },
    {
     "name": "stdout",
     "output_type": "stream",
     "text": [
      "game:  2251 , mean loss: 19.37 , recent outcomes:  [-1, -1, -1, -1, -1, 1, -1, -1, -1, -1]\n"
     ]
    },
    {
     "name": "stderr",
     "output_type": "stream",
     "text": [
      "training loop:  45% |###################                        | ETA:  11:20:41\r"
     ]
    },
    {
     "name": "stdout",
     "output_type": "stream",
     "text": [
      "game:  2261 , mean loss: 21.08 , recent outcomes:  [-1, 1, -1, 1, -1, -1, -1, -1, 1, -1]\n"
     ]
    },
    {
     "name": "stderr",
     "output_type": "stream",
     "text": [
      "training loop:  45% |###################                        | ETA:  11:18:52\r"
     ]
    },
    {
     "name": "stdout",
     "output_type": "stream",
     "text": [
      "game:  2271 , mean loss: 23.89 , recent outcomes:  [0, 0, -1, -1, -1, 1, 1, -1, -1, 1]\n"
     ]
    },
    {
     "name": "stderr",
     "output_type": "stream",
     "text": [
      "training loop:  45% |###################                        | ETA:  11:15:52\r"
     ]
    },
    {
     "name": "stdout",
     "output_type": "stream",
     "text": [
      "game:  2281 , mean loss: 20.51 , recent outcomes:  [-1, 1, -1, -1, 1, -1, 1, -1, -1, -1]\n"
     ]
    },
    {
     "name": "stderr",
     "output_type": "stream",
     "text": [
      "training loop:  45% |###################                        | ETA:  11:13:00\r"
     ]
    },
    {
     "name": "stdout",
     "output_type": "stream",
     "text": [
      "game:  2291 , mean loss: 20.33 , recent outcomes:  [-1, 1, -1, 1, -1, -1, -1, -1, -1, -1]\n"
     ]
    },
    {
     "name": "stderr",
     "output_type": "stream",
     "text": [
      "training loop:  46% |###################                        | ETA:  11:10:15\r"
     ]
    },
    {
     "name": "stdout",
     "output_type": "stream",
     "text": [
      "game:  2301 , mean loss: 22.66 , recent outcomes:  [-1, -1, 1, -1, 1, -1, 1, -1, -1, -1]\n"
     ]
    },
    {
     "name": "stderr",
     "output_type": "stream",
     "text": [
      "training loop:  46% |###################                        | ETA:  11:08:06\r"
     ]
    },
    {
     "name": "stdout",
     "output_type": "stream",
     "text": [
      "game:  2311 , mean loss: 21.39 , recent outcomes:  [-1, 1, -1, 1, -1, -1, 1, -1, -1, -1]\n"
     ]
    },
    {
     "name": "stderr",
     "output_type": "stream",
     "text": [
      "training loop:  46% |###################                        | ETA:  11:05:37\r"
     ]
    },
    {
     "name": "stdout",
     "output_type": "stream",
     "text": [
      "game:  2321 , mean loss: 20.19 , recent outcomes:  [1, -1, -1, -1, -1, -1, -1, -1, 0, -1]\n"
     ]
    },
    {
     "name": "stderr",
     "output_type": "stream",
     "text": [
      "training loop:  46% |####################                       | ETA:  11:03:30\r"
     ]
    },
    {
     "name": "stdout",
     "output_type": "stream",
     "text": [
      "game:  2331 , mean loss: 20.67 , recent outcomes:  [-1, 0, -1, -1, -1, -1, 0, 1, 1, -1]\n"
     ]
    },
    {
     "name": "stderr",
     "output_type": "stream",
     "text": [
      "training loop:  46% |####################                       | ETA:  11:00:49\r"
     ]
    },
    {
     "name": "stdout",
     "output_type": "stream",
     "text": [
      "game:  2341 , mean loss: 20.89 , recent outcomes:  [-1, -1, 1, -1, -1, 1, -1, -1, -1, -1]\n"
     ]
    },
    {
     "name": "stderr",
     "output_type": "stream",
     "text": [
      "training loop:  47% |####################                       | ETA:  10:59:09\r"
     ]
    },
    {
     "name": "stdout",
     "output_type": "stream",
     "text": [
      "game:  2351 , mean loss: 19.96 , recent outcomes:  [-1, -1, -1, 0, 0, -1, -1, -1, -1, -1]\n"
     ]
    },
    {
     "name": "stderr",
     "output_type": "stream",
     "text": [
      "training loop:  47% |####################                       | ETA:  10:56:32\r"
     ]
    },
    {
     "name": "stdout",
     "output_type": "stream",
     "text": [
      "game:  2361 , mean loss: 20.77 , recent outcomes:  [-1, 1, -1, 1, -1, 1, -1, -1, -1, -1]\n"
     ]
    },
    {
     "name": "stderr",
     "output_type": "stream",
     "text": [
      "training loop:  47% |####################                       | ETA:  10:54:48\r"
     ]
    },
    {
     "name": "stdout",
     "output_type": "stream",
     "text": [
      "game:  2371 , mean loss: 22.99 , recent outcomes:  [-1, -1, 0, -1, 1, -1, -1, -1, 1, -1]\n"
     ]
    },
    {
     "name": "stderr",
     "output_type": "stream",
     "text": [
      "training loop:  47% |####################                       | ETA:  10:52:09\r"
     ]
    },
    {
     "name": "stdout",
     "output_type": "stream",
     "text": [
      "game:  2381 , mean loss: 20.54 , recent outcomes:  [-1, -1, -1, -1, -1, -1, 1, 0, -1, 1]\n"
     ]
    },
    {
     "name": "stderr",
     "output_type": "stream",
     "text": [
      "training loop:  47% |####################                       | ETA:  10:50:23\r"
     ]
    },
    {
     "name": "stdout",
     "output_type": "stream",
     "text": [
      "game:  2391 , mean loss: 19.89 , recent outcomes:  [1, -1, -1, -1, -1, -1, 1, -1, -1, -1]\n"
     ]
    },
    {
     "name": "stderr",
     "output_type": "stream",
     "text": [
      "training loop:  48% |####################                       | ETA:  10:47:55\r"
     ]
    },
    {
     "name": "stdout",
     "output_type": "stream",
     "text": [
      "game:  2401 , mean loss: 22.54 , recent outcomes:  [1, -1, 1, 1, -1, -1, -1, -1, 1, -1]\n"
     ]
    },
    {
     "name": "stderr",
     "output_type": "stream",
     "text": [
      "training loop:  48% |####################                       | ETA:  10:46:09\r"
     ]
    },
    {
     "name": "stdout",
     "output_type": "stream",
     "text": [
      "game:  2411 , mean loss: 21.72 , recent outcomes:  [1, -1, -1, -1, -1, -1, 0, -1, 0, 1]\n"
     ]
    },
    {
     "name": "stderr",
     "output_type": "stream",
     "text": [
      "training loop:  48% |####################                       | ETA:  10:43:38\r"
     ]
    },
    {
     "name": "stdout",
     "output_type": "stream",
     "text": [
      "game:  2421 , mean loss: 21.00 , recent outcomes:  [-1, -1, 1, -1, -1, 1, -1, 1, 1, -1]\n"
     ]
    },
    {
     "name": "stderr",
     "output_type": "stream",
     "text": [
      "training loop:  48% |####################                       | ETA:  10:41:30\r"
     ]
    },
    {
     "name": "stdout",
     "output_type": "stream",
     "text": [
      "game:  2431 , mean loss: 21.91 , recent outcomes:  [-1, -1, -1, -1, -1, -1, 0, -1, -1, 1]\n"
     ]
    },
    {
     "name": "stderr",
     "output_type": "stream",
     "text": [
      "training loop:  48% |####################                       | ETA:  10:39:15\r"
     ]
    },
    {
     "name": "stdout",
     "output_type": "stream",
     "text": [
      "game:  2441 , mean loss: 19.14 , recent outcomes:  [-1, -1, -1, -1, -1, -1, -1, -1, 0, -1]\n"
     ]
    },
    {
     "name": "stderr",
     "output_type": "stream",
     "text": [
      "training loop:  49% |#####################                      | ETA:  10:36:40\r"
     ]
    },
    {
     "name": "stdout",
     "output_type": "stream",
     "text": [
      "game:  2451 , mean loss: 20.76 , recent outcomes:  [-1, -1, -1, 1, 1, -1, 1, -1, 0, -1]\n"
     ]
    },
    {
     "name": "stderr",
     "output_type": "stream",
     "text": [
      "training loop:  49% |#####################                      | ETA:  10:34:35\r"
     ]
    },
    {
     "name": "stdout",
     "output_type": "stream",
     "text": [
      "game:  2461 , mean loss: 23.58 , recent outcomes:  [-1, -1, 0, -1, -1, 0, -1, 1, -1, -1]\n"
     ]
    },
    {
     "name": "stderr",
     "output_type": "stream",
     "text": [
      "training loop:  49% |#####################                      | ETA:  10:31:48\r"
     ]
    },
    {
     "name": "stdout",
     "output_type": "stream",
     "text": [
      "game:  2471 , mean loss: 22.39 , recent outcomes:  [-1, 1, -1, -1, 1, 1, -1, 1, -1, -1]\n"
     ]
    },
    {
     "name": "stderr",
     "output_type": "stream",
     "text": [
      "training loop:  49% |#####################                      | ETA:  10:28:56\r"
     ]
    },
    {
     "name": "stdout",
     "output_type": "stream",
     "text": [
      "game:  2481 , mean loss: 23.52 , recent outcomes:  [1, -1, -1, -1, 1, 1, 1, -1, -1, 1]\n"
     ]
    },
    {
     "name": "stderr",
     "output_type": "stream",
     "text": [
      "training loop:  49% |#####################                      | ETA:  10:26:33\r"
     ]
    },
    {
     "name": "stdout",
     "output_type": "stream",
     "text": [
      "game:  2491 , mean loss: 23.99 , recent outcomes:  [1, -1, 1, 1, 1, 1, 1, -1, -1, -1]\n"
     ]
    },
    {
     "name": "stderr",
     "output_type": "stream",
     "text": [
      "training loop:  50% |#####################                      | ETA:  10:24:05\r"
     ]
    },
    {
     "name": "stdout",
     "output_type": "stream",
     "text": [
      "game:  2501 , mean loss: 22.50 , recent outcomes:  [-1, -1, -1, 1, -1, 1, 1, -1, -1, -1]\n"
     ]
    },
    {
     "name": "stderr",
     "output_type": "stream",
     "text": [
      "training loop:  50% |#####################                      | ETA:  10:21:17\r"
     ]
    },
    {
     "name": "stdout",
     "output_type": "stream",
     "text": [
      "game:  2511 , mean loss: 18.61 , recent outcomes:  [1, -1, -1, -1, -1, 1, -1, -1, -1, 1]\n"
     ]
    },
    {
     "name": "stderr",
     "output_type": "stream",
     "text": [
      "training loop:  50% |#####################                      | ETA:  10:18:38\r"
     ]
    },
    {
     "name": "stdout",
     "output_type": "stream",
     "text": [
      "game:  2521 , mean loss: 18.44 , recent outcomes:  [1, -1, 1, 1, -1, -1, -1, -1, -1, -1]\n"
     ]
    },
    {
     "name": "stderr",
     "output_type": "stream",
     "text": [
      "training loop:  50% |#####################                      | ETA:  10:15:40\r"
     ]
    },
    {
     "name": "stdout",
     "output_type": "stream",
     "text": [
      "game:  2531 , mean loss: 17.83 , recent outcomes:  [-1, -1, 1, -1, -1, -1, -1, -1, -1, -1]\n"
     ]
    },
    {
     "name": "stderr",
     "output_type": "stream",
     "text": [
      "training loop:  50% |#####################                      | ETA:  10:12:38\r"
     ]
    },
    {
     "name": "stdout",
     "output_type": "stream",
     "text": [
      "game:  2541 , mean loss: 11.83 , recent outcomes:  [-1, -1, -1, -1, -1, -1, -1, -1, -1, -1]\n"
     ]
    },
    {
     "name": "stderr",
     "output_type": "stream",
     "text": [
      "training loop:  51% |#####################                      | ETA:  10:10:09\r"
     ]
    },
    {
     "name": "stdout",
     "output_type": "stream",
     "text": [
      "game:  2551 , mean loss: 15.74 , recent outcomes:  [-1, -1, -1, -1, 0, 1, -1, -1, 1, -1]\n"
     ]
    },
    {
     "name": "stderr",
     "output_type": "stream",
     "text": [
      "training loop:  51% |######################                     | ETA:  10:07:26\r"
     ]
    },
    {
     "name": "stdout",
     "output_type": "stream",
     "text": [
      "game:  2561 , mean loss: 20.72 , recent outcomes:  [-1, -1, 1, -1, -1, -1, -1, -1, -1, -1]\n"
     ]
    },
    {
     "name": "stderr",
     "output_type": "stream",
     "text": [
      "training loop:  51% |######################                     | ETA:  10:05:01\r"
     ]
    },
    {
     "name": "stdout",
     "output_type": "stream",
     "text": [
      "game:  2571 , mean loss: 16.58 , recent outcomes:  [1, -1, -1, -1, -1, -1, -1, 1, 0, -1]\n"
     ]
    },
    {
     "name": "stderr",
     "output_type": "stream",
     "text": [
      "training loop:  51% |######################                     | ETA:  10:02:41\r"
     ]
    },
    {
     "name": "stdout",
     "output_type": "stream",
     "text": [
      "game:  2581 , mean loss: 17.44 , recent outcomes:  [-1, -1, -1, 1, -1, -1, -1, 0, -1, -1]\n"
     ]
    },
    {
     "name": "stderr",
     "output_type": "stream",
     "text": [
      "training loop:  51% |######################                     | ETA:  10:00:01\r"
     ]
    },
    {
     "name": "stdout",
     "output_type": "stream",
     "text": [
      "game:  2591 , mean loss: 17.65 , recent outcomes:  [-1, -1, 1, -1, 1, -1, -1, -1, -1, -1]\n"
     ]
    },
    {
     "name": "stderr",
     "output_type": "stream",
     "text": [
      "training loop:  52% |######################                      | ETA:  9:57:15\r"
     ]
    },
    {
     "name": "stdout",
     "output_type": "stream",
     "text": [
      "game:  2601 , mean loss: 12.00 , recent outcomes:  [-1, -1, -1, -1, -1, -1, -1, -1, -1, -1]\n"
     ]
    },
    {
     "name": "stderr",
     "output_type": "stream",
     "text": [
      "training loop:  52% |######################                      | ETA:  9:54:40\r"
     ]
    },
    {
     "name": "stdout",
     "output_type": "stream",
     "text": [
      "game:  2611 , mean loss: 17.21 , recent outcomes:  [-1, -1, -1, 1, -1, 1, -1, -1, -1, 1]\n"
     ]
    },
    {
     "name": "stderr",
     "output_type": "stream",
     "text": [
      "training loop:  52% |#######################                     | ETA:  9:51:52\r"
     ]
    },
    {
     "name": "stdout",
     "output_type": "stream",
     "text": [
      "game:  2621 , mean loss: 17.97 , recent outcomes:  [-1, -1, 0, -1, -1, -1, -1, -1, -1, -1]\n"
     ]
    },
    {
     "name": "stderr",
     "output_type": "stream",
     "text": [
      "training loop:  52% |#######################                     | ETA:  9:49:12\r"
     ]
    },
    {
     "name": "stdout",
     "output_type": "stream",
     "text": [
      "game:  2631 , mean loss: 11.29 , recent outcomes:  [-1, -1, -1, 0, -1, -1, -1, 1, -1, -1]\n"
     ]
    },
    {
     "name": "stderr",
     "output_type": "stream",
     "text": [
      "training loop:  52% |#######################                     | ETA:  9:46:40\r"
     ]
    },
    {
     "name": "stdout",
     "output_type": "stream",
     "text": [
      "game:  2641 , mean loss: 13.87 , recent outcomes:  [-1, -1, -1, -1, -1, -1, -1, -1, -1, -1]\n"
     ]
    },
    {
     "name": "stderr",
     "output_type": "stream",
     "text": [
      "training loop:  53% |#######################                     | ETA:  9:43:34\r"
     ]
    },
    {
     "name": "stdout",
     "output_type": "stream",
     "text": [
      "game:  2651 , mean loss: 11.14 , recent outcomes:  [-1, -1, -1, -1, -1, -1, -1, -1, -1, -1]\n"
     ]
    },
    {
     "name": "stderr",
     "output_type": "stream",
     "text": [
      "training loop:  53% |#######################                     | ETA:  9:41:14\r"
     ]
    },
    {
     "name": "stdout",
     "output_type": "stream",
     "text": [
      "game:  2661 , mean loss: 9.01 , recent outcomes:  [-1, -1, -1, -1, -1, -1, -1, -1, -1, -1]\n"
     ]
    },
    {
     "name": "stderr",
     "output_type": "stream",
     "text": [
      "training loop:  53% |#######################                     | ETA:  9:38:30\r"
     ]
    },
    {
     "name": "stdout",
     "output_type": "stream",
     "text": [
      "game:  2671 , mean loss: 12.69 , recent outcomes:  [-1, -1, -1, -1, -1, -1, -1, -1, -1, 1]\n"
     ]
    },
    {
     "name": "stderr",
     "output_type": "stream",
     "text": [
      "training loop:  53% |#######################                     | ETA:  9:35:50\r"
     ]
    },
    {
     "name": "stdout",
     "output_type": "stream",
     "text": [
      "game:  2681 , mean loss: 19.32 , recent outcomes:  [1, -1, 1, -1, -1, -1, 1, -1, -1, -1]\n"
     ]
    },
    {
     "name": "stderr",
     "output_type": "stream",
     "text": [
      "training loop:  53% |#######################                     | ETA:  9:32:51\r"
     ]
    },
    {
     "name": "stdout",
     "output_type": "stream",
     "text": [
      "game:  2691 , mean loss: 19.45 , recent outcomes:  [-1, -1, -1, 1, -1, -1, -1, -1, -1, -1]\n"
     ]
    },
    {
     "name": "stderr",
     "output_type": "stream",
     "text": [
      "training loop:  54% |#######################                     | ETA:  9:29:51\r"
     ]
    },
    {
     "name": "stdout",
     "output_type": "stream",
     "text": [
      "game:  2701 , mean loss: 14.34 , recent outcomes:  [-1, -1, -1, -1, -1, -1, -1, -1, -1, -1]\n"
     ]
    },
    {
     "name": "stderr",
     "output_type": "stream",
     "text": [
      "training loop:  54% |#######################                     | ETA:  9:27:19\r"
     ]
    },
    {
     "name": "stdout",
     "output_type": "stream",
     "text": [
      "game:  2711 , mean loss: 11.22 , recent outcomes:  [-1, -1, -1, -1, -1, -1, -1, -1, -1, -1]\n"
     ]
    },
    {
     "name": "stderr",
     "output_type": "stream",
     "text": [
      "training loop:  54% |#######################                     | ETA:  9:24:25\r"
     ]
    },
    {
     "name": "stdout",
     "output_type": "stream",
     "text": [
      "game:  2721 , mean loss: 12.02 , recent outcomes:  [-1, -1, 1, -1, -1, -1, -1, -1, -1, -1]\n"
     ]
    },
    {
     "name": "stderr",
     "output_type": "stream",
     "text": [
      "training loop:  54% |########################                    | ETA:  9:21:39\r"
     ]
    },
    {
     "name": "stdout",
     "output_type": "stream",
     "text": [
      "game:  2731 , mean loss: 12.94 , recent outcomes:  [-1, -1, -1, -1, -1, -1, -1, -1, -1, -1]\n"
     ]
    },
    {
     "name": "stderr",
     "output_type": "stream",
     "text": [
      "training loop:  54% |########################                    | ETA:  9:19:02\r"
     ]
    },
    {
     "name": "stdout",
     "output_type": "stream",
     "text": [
      "game:  2741 , mean loss: 8.99 , recent outcomes:  [-1, -1, -1, -1, -1, -1, -1, -1, -1, -1]\n"
     ]
    },
    {
     "name": "stderr",
     "output_type": "stream",
     "text": [
      "training loop:  55% |########################                    | ETA:  9:16:14\r"
     ]
    },
    {
     "name": "stdout",
     "output_type": "stream",
     "text": [
      "game:  2751 , mean loss: 10.85 , recent outcomes:  [-1, -1, -1, 0, -1, -1, -1, -1, -1, 1]\n"
     ]
    },
    {
     "name": "stderr",
     "output_type": "stream",
     "text": [
      "training loop:  55% |########################                    | ETA:  9:13:30\r"
     ]
    },
    {
     "name": "stdout",
     "output_type": "stream",
     "text": [
      "game:  2761 , mean loss: 16.87 , recent outcomes:  [-1, -1, -1, -1, -1, -1, -1, -1, -1, 1]\n"
     ]
    },
    {
     "name": "stderr",
     "output_type": "stream",
     "text": [
      "training loop:  55% |########################                    | ETA:  9:10:46\r"
     ]
    },
    {
     "name": "stdout",
     "output_type": "stream",
     "text": [
      "game:  2771 , mean loss: 19.92 , recent outcomes:  [1, -1, -1, -1, -1, -1, -1, -1, 1, 1]\n"
     ]
    },
    {
     "name": "stderr",
     "output_type": "stream",
     "text": [
      "training loop:  55% |########################                    | ETA:  9:07:48\r"
     ]
    },
    {
     "name": "stdout",
     "output_type": "stream",
     "text": [
      "game:  2781 , mean loss: 16.44 , recent outcomes:  [-1, 1, -1, -1, -1, -1, -1, -1, -1, -1]\n"
     ]
    },
    {
     "name": "stderr",
     "output_type": "stream",
     "text": [
      "training loop:  55% |########################                    | ETA:  9:04:48\r"
     ]
    },
    {
     "name": "stdout",
     "output_type": "stream",
     "text": [
      "game:  2791 , mean loss: 13.54 , recent outcomes:  [-1, -1, -1, -1, -1, -1, 1, -1, -1, -1]\n"
     ]
    },
    {
     "name": "stderr",
     "output_type": "stream",
     "text": [
      "training loop:  56% |########################                    | ETA:  9:02:05\r"
     ]
    },
    {
     "name": "stdout",
     "output_type": "stream",
     "text": [
      "game:  2801 , mean loss: 13.20 , recent outcomes:  [-1, -1, -1, -1, -1, -1, -1, -1, -1, -1]\n"
     ]
    },
    {
     "name": "stderr",
     "output_type": "stream",
     "text": [
      "training loop:  56% |########################                    | ETA:  8:59:13\r"
     ]
    },
    {
     "name": "stdout",
     "output_type": "stream",
     "text": [
      "game:  2811 , mean loss: 11.95 , recent outcomes:  [-1, -1, -1, -1, -1, -1, -1, -1, -1, -1]\n"
     ]
    },
    {
     "name": "stderr",
     "output_type": "stream",
     "text": [
      "training loop:  56% |########################                    | ETA:  8:56:18\r"
     ]
    },
    {
     "name": "stdout",
     "output_type": "stream",
     "text": [
      "game:  2821 , mean loss: 9.70 , recent outcomes:  [-1, -1, -1, -1, -1, -1, -1, -1, -1, -1]\n"
     ]
    },
    {
     "name": "stderr",
     "output_type": "stream",
     "text": [
      "training loop:  56% |########################                    | ETA:  8:53:33\r"
     ]
    },
    {
     "name": "stdout",
     "output_type": "stream",
     "text": [
      "game:  2831 , mean loss: 6.98 , recent outcomes:  [-1, -1, -1, -1, -1, -1, -1, -1, -1, -1]\n"
     ]
    },
    {
     "name": "stderr",
     "output_type": "stream",
     "text": [
      "training loop:  56% |#########################                   | ETA:  8:51:05\r"
     ]
    },
    {
     "name": "stdout",
     "output_type": "stream",
     "text": [
      "game:  2841 , mean loss: 13.57 , recent outcomes:  [-1, -1, -1, -1, -1, -1, 1, 1, -1, -1]\n"
     ]
    },
    {
     "name": "stderr",
     "output_type": "stream",
     "text": [
      "training loop:  57% |#########################                   | ETA:  8:48:32\r"
     ]
    },
    {
     "name": "stdout",
     "output_type": "stream",
     "text": [
      "game:  2851 , mean loss: 15.61 , recent outcomes:  [-1, -1, -1, -1, 0, -1, -1, -1, -1, -1]\n"
     ]
    },
    {
     "name": "stderr",
     "output_type": "stream",
     "text": [
      "training loop:  57% |#########################                   | ETA:  8:46:09\r"
     ]
    },
    {
     "name": "stdout",
     "output_type": "stream",
     "text": [
      "game:  2861 , mean loss: 16.79 , recent outcomes:  [1, 1, -1, -1, -1, -1, -1, -1, -1, -1]\n"
     ]
    },
    {
     "name": "stderr",
     "output_type": "stream",
     "text": [
      "training loop:  57% |#########################                   | ETA:  8:43:27\r"
     ]
    },
    {
     "name": "stdout",
     "output_type": "stream",
     "text": [
      "game:  2871 , mean loss: 16.29 , recent outcomes:  [-1, -1, -1, -1, -1, -1, -1, -1, -1, -1]\n"
     ]
    },
    {
     "name": "stderr",
     "output_type": "stream",
     "text": [
      "training loop:  57% |#########################                   | ETA:  8:40:34\r"
     ]
    },
    {
     "name": "stdout",
     "output_type": "stream",
     "text": [
      "game:  2881 , mean loss: 7.02 , recent outcomes:  [-1, -1, -1, -1, -1, -1, -1, -1, -1, -1]\n"
     ]
    },
    {
     "name": "stderr",
     "output_type": "stream",
     "text": [
      "training loop:  57% |#########################                   | ETA:  8:37:53\r"
     ]
    },
    {
     "name": "stdout",
     "output_type": "stream",
     "text": [
      "game:  2891 , mean loss: 6.56 , recent outcomes:  [-1, -1, -1, -1, -1, -1, -1, 1, -1, -1]\n"
     ]
    },
    {
     "name": "stderr",
     "output_type": "stream",
     "text": [
      "training loop:  58% |#########################                   | ETA:  8:35:07\r"
     ]
    },
    {
     "name": "stdout",
     "output_type": "stream",
     "text": [
      "game:  2901 , mean loss: 6.67 , recent outcomes:  [-1, -1, -1, -1, -1, -1, -1, -1, -1, -1]\n"
     ]
    },
    {
     "name": "stderr",
     "output_type": "stream",
     "text": [
      "training loop:  58% |#########################                   | ETA:  8:32:22\r"
     ]
    },
    {
     "name": "stdout",
     "output_type": "stream",
     "text": [
      "game:  2911 , mean loss: 8.07 , recent outcomes:  [-1, -1, 1, -1, -1, -1, -1, -1, -1, 1]\n"
     ]
    },
    {
     "name": "stderr",
     "output_type": "stream",
     "text": [
      "training loop:  58% |#########################                   | ETA:  8:29:51\r"
     ]
    },
    {
     "name": "stdout",
     "output_type": "stream",
     "text": [
      "game:  2921 , mean loss: 14.34 , recent outcomes:  [-1, -1, -1, 1, -1, -1, -1, -1, -1, 0]\n"
     ]
    },
    {
     "name": "stderr",
     "output_type": "stream",
     "text": [
      "training loop:  58% |#########################                   | ETA:  8:27:09\r"
     ]
    },
    {
     "name": "stdout",
     "output_type": "stream",
     "text": [
      "game:  2931 , mean loss: 13.28 , recent outcomes:  [-1, -1, -1, -1, -1, -1, -1, -1, -1, -1]\n"
     ]
    },
    {
     "name": "stderr",
     "output_type": "stream",
     "text": [
      "training loop:  58% |#########################                   | ETA:  8:24:20\r"
     ]
    },
    {
     "name": "stdout",
     "output_type": "stream",
     "text": [
      "game:  2941 , mean loss: 7.72 , recent outcomes:  [-1, -1, -1, -1, -1, -1, -1, -1, -1, -1]\n"
     ]
    },
    {
     "name": "stderr",
     "output_type": "stream",
     "text": [
      "training loop:  59% |#########################                   | ETA:  8:21:51\r"
     ]
    },
    {
     "name": "stdout",
     "output_type": "stream",
     "text": [
      "game:  2951 , mean loss: 8.77 , recent outcomes:  [-1, -1, -1, -1, -1, -1, -1, -1, -1, 0]\n"
     ]
    },
    {
     "name": "stderr",
     "output_type": "stream",
     "text": [
      "training loop:  59% |##########################                  | ETA:  8:19:19\r"
     ]
    },
    {
     "name": "stdout",
     "output_type": "stream",
     "text": [
      "game:  2961 , mean loss: 10.55 , recent outcomes:  [-1, -1, -1, -1, -1, -1, -1, -1, -1, 0]\n"
     ]
    },
    {
     "name": "stderr",
     "output_type": "stream",
     "text": [
      "training loop:  59% |##########################                  | ETA:  8:16:37\r"
     ]
    },
    {
     "name": "stdout",
     "output_type": "stream",
     "text": [
      "game:  2971 , mean loss: 11.28 , recent outcomes:  [-1, -1, -1, -1, -1, -1, -1, 1, -1, -1]\n"
     ]
    },
    {
     "name": "stderr",
     "output_type": "stream",
     "text": [
      "training loop:  59% |##########################                  | ETA:  8:13:52\r"
     ]
    },
    {
     "name": "stdout",
     "output_type": "stream",
     "text": [
      "game:  2981 , mean loss: 9.07 , recent outcomes:  [-1, -1, -1, -1, -1, -1, -1, -1, -1, -1]\n"
     ]
    },
    {
     "name": "stderr",
     "output_type": "stream",
     "text": [
      "training loop:  59% |##########################                  | ETA:  8:11:33\r"
     ]
    },
    {
     "name": "stdout",
     "output_type": "stream",
     "text": [
      "game:  2991 , mean loss: 9.70 , recent outcomes:  [-1, -1, 1, -1, -1, -1, -1, -1, -1, -1]\n"
     ]
    },
    {
     "name": "stderr",
     "output_type": "stream",
     "text": [
      "training loop:  60% |##########################                  | ETA:  8:08:44\r"
     ]
    },
    {
     "name": "stdout",
     "output_type": "stream",
     "text": [
      "game:  3001 , mean loss: 12.12 , recent outcomes:  [-1, -1, -1, -1, -1, 1, -1, -1, -1, -1]\n"
     ]
    },
    {
     "name": "stderr",
     "output_type": "stream",
     "text": [
      "training loop:  60% |##########################                  | ETA:  8:05:55\r"
     ]
    },
    {
     "name": "stdout",
     "output_type": "stream",
     "text": [
      "game:  3011 , mean loss: 10.18 , recent outcomes:  [-1, -1, -1, 1, -1, -1, -1, -1, -1, -1]\n"
     ]
    },
    {
     "name": "stderr",
     "output_type": "stream",
     "text": [
      "training loop:  60% |##########################                  | ETA:  8:03:27\r"
     ]
    },
    {
     "name": "stdout",
     "output_type": "stream",
     "text": [
      "game:  3021 , mean loss: 11.73 , recent outcomes:  [-1, 0, -1, -1, -1, -1, -1, -1, -1, -1]\n"
     ]
    },
    {
     "name": "stderr",
     "output_type": "stream",
     "text": [
      "training loop:  60% |##########################                  | ETA:  8:00:57\r"
     ]
    },
    {
     "name": "stdout",
     "output_type": "stream",
     "text": [
      "game:  3031 , mean loss: 11.00 , recent outcomes:  [-1, -1, -1, -1, -1, -1, -1, -1, -1, -1]\n"
     ]
    },
    {
     "name": "stderr",
     "output_type": "stream",
     "text": [
      "training loop:  60% |##########################                  | ETA:  7:58:14\r"
     ]
    },
    {
     "name": "stdout",
     "output_type": "stream",
     "text": [
      "game:  3041 , mean loss: 7.49 , recent outcomes:  [-1, -1, -1, -1, -1, -1, -1, -1, -1, -1]\n"
     ]
    },
    {
     "name": "stderr",
     "output_type": "stream",
     "text": [
      "training loop:  61% |##########################                  | ETA:  7:55:56\r"
     ]
    },
    {
     "name": "stdout",
     "output_type": "stream",
     "text": [
      "game:  3051 , mean loss: 10.31 , recent outcomes:  [-1, -1, 0, -1, 0, -1, 1, -1, -1, -1]\n"
     ]
    },
    {
     "name": "stderr",
     "output_type": "stream",
     "text": [
      "training loop:  61% |##########################                  | ETA:  7:53:24\r"
     ]
    },
    {
     "name": "stdout",
     "output_type": "stream",
     "text": [
      "game:  3061 , mean loss: 17.73 , recent outcomes:  [-1, -1, -1, -1, -1, 1, 1, -1, -1, -1]\n"
     ]
    },
    {
     "name": "stderr",
     "output_type": "stream",
     "text": [
      "training loop:  61% |###########################                 | ETA:  7:50:59\r"
     ]
    },
    {
     "name": "stdout",
     "output_type": "stream",
     "text": [
      "game:  3071 , mean loss: 20.04 , recent outcomes:  [-1, -1, -1, 1, 1, 0, -1, 0, -1, -1]\n"
     ]
    },
    {
     "name": "stderr",
     "output_type": "stream",
     "text": [
      "training loop:  61% |###########################                 | ETA:  7:48:26\r"
     ]
    },
    {
     "name": "stdout",
     "output_type": "stream",
     "text": [
      "game:  3081 , mean loss: 18.69 , recent outcomes:  [-1, -1, -1, -1, -1, -1, 1, -1, 1, 1]\n"
     ]
    },
    {
     "name": "stderr",
     "output_type": "stream",
     "text": [
      "training loop:  61% |###########################                 | ETA:  7:45:51\r"
     ]
    },
    {
     "name": "stdout",
     "output_type": "stream",
     "text": [
      "game:  3091 , mean loss: 16.65 , recent outcomes:  [-1, -1, -1, -1, -1, -1, -1, -1, 1, -1]\n"
     ]
    },
    {
     "name": "stderr",
     "output_type": "stream",
     "text": [
      "training loop:  62% |###########################                 | ETA:  7:43:12\r"
     ]
    },
    {
     "name": "stdout",
     "output_type": "stream",
     "text": [
      "game:  3101 , mean loss: 13.12 , recent outcomes:  [-1, -1, -1, -1, -1, -1, -1, 1, -1, -1]\n"
     ]
    },
    {
     "name": "stderr",
     "output_type": "stream",
     "text": [
      "training loop:  62% |###########################                 | ETA:  7:40:25\r"
     ]
    },
    {
     "name": "stdout",
     "output_type": "stream",
     "text": [
      "game:  3111 , mean loss: 15.40 , recent outcomes:  [-1, -1, 1, -1, 1, -1, -1, 1, -1, -1]\n"
     ]
    },
    {
     "name": "stderr",
     "output_type": "stream",
     "text": [
      "training loop:  62% |###########################                 | ETA:  7:37:47\r"
     ]
    },
    {
     "name": "stdout",
     "output_type": "stream",
     "text": [
      "game:  3121 , mean loss: 20.25 , recent outcomes:  [-1, -1, -1, 1, 1, -1, -1, -1, -1, 1]\n"
     ]
    },
    {
     "name": "stderr",
     "output_type": "stream",
     "text": [
      "training loop:  62% |###########################                 | ETA:  7:35:12\r"
     ]
    },
    {
     "name": "stdout",
     "output_type": "stream",
     "text": [
      "game:  3131 , mean loss: 14.94 , recent outcomes:  [-1, -1, -1, -1, -1, -1, -1, -1, -1, -1]\n"
     ]
    },
    {
     "name": "stderr",
     "output_type": "stream",
     "text": [
      "training loop:  62% |###########################                 | ETA:  7:32:35\r"
     ]
    },
    {
     "name": "stdout",
     "output_type": "stream",
     "text": [
      "game:  3141 , mean loss: 7.74 , recent outcomes:  [-1, -1, -1, -1, -1, -1, -1, -1, -1, -1]\n"
     ]
    },
    {
     "name": "stderr",
     "output_type": "stream",
     "text": [
      "training loop:  63% |###########################                 | ETA:  7:29:58\r"
     ]
    },
    {
     "name": "stdout",
     "output_type": "stream",
     "text": [
      "game:  3151 , mean loss: 10.16 , recent outcomes:  [-1, -1, -1, 1, -1, -1, -1, -1, -1, 1]\n"
     ]
    },
    {
     "name": "stderr",
     "output_type": "stream",
     "text": [
      "training loop:  63% |###########################                 | ETA:  7:27:26\r"
     ]
    },
    {
     "name": "stdout",
     "output_type": "stream",
     "text": [
      "game:  3161 , mean loss: 19.00 , recent outcomes:  [-1, -1, -1, 1, -1, 1, 1, -1, -1, 1]\n"
     ]
    },
    {
     "name": "stderr",
     "output_type": "stream",
     "text": [
      "training loop:  63% |###########################                 | ETA:  7:24:50\r"
     ]
    },
    {
     "name": "stdout",
     "output_type": "stream",
     "text": [
      "game:  3171 , mean loss: 18.62 , recent outcomes:  [-1, -1, 1, -1, -1, -1, -1, -1, -1, -1]\n"
     ]
    },
    {
     "name": "stderr",
     "output_type": "stream",
     "text": [
      "training loop:  63% |###########################                 | ETA:  7:22:13\r"
     ]
    },
    {
     "name": "stdout",
     "output_type": "stream",
     "text": [
      "game:  3181 , mean loss: 13.57 , recent outcomes:  [-1, -1, -1, -1, -1, -1, 1, -1, -1, -1]\n"
     ]
    },
    {
     "name": "stderr",
     "output_type": "stream",
     "text": [
      "training loop:  63% |############################                | ETA:  7:19:44\r"
     ]
    },
    {
     "name": "stdout",
     "output_type": "stream",
     "text": [
      "game:  3191 , mean loss: 15.05 , recent outcomes:  [-1, 1, -1, -1, 1, -1, -1, -1, -1, -1]\n"
     ]
    },
    {
     "name": "stderr",
     "output_type": "stream",
     "text": [
      "training loop:  64% |############################                | ETA:  7:17:06\r"
     ]
    },
    {
     "name": "stdout",
     "output_type": "stream",
     "text": [
      "game:  3201 , mean loss: 13.61 , recent outcomes:  [-1, -1, -1, -1, -1, 1, -1, -1, -1, -1]\n"
     ]
    },
    {
     "name": "stderr",
     "output_type": "stream",
     "text": [
      "training loop:  64% |############################                | ETA:  7:14:31\r"
     ]
    },
    {
     "name": "stdout",
     "output_type": "stream",
     "text": [
      "game:  3211 , mean loss: 11.21 , recent outcomes:  [-1, -1, -1, -1, -1, -1, -1, 1, -1, -1]\n"
     ]
    },
    {
     "name": "stderr",
     "output_type": "stream",
     "text": [
      "training loop:  64% |############################                | ETA:  7:11:49\r"
     ]
    },
    {
     "name": "stdout",
     "output_type": "stream",
     "text": [
      "game:  3221 , mean loss: 11.68 , recent outcomes:  [-1, 1, -1, -1, -1, -1, -1, -1, -1, -1]\n"
     ]
    },
    {
     "name": "stderr",
     "output_type": "stream",
     "text": [
      "training loop:  64% |############################                | ETA:  7:09:11\r"
     ]
    },
    {
     "name": "stdout",
     "output_type": "stream",
     "text": [
      "game:  3231 , mean loss: 12.17 , recent outcomes:  [-1, 1, -1, -1, -1, -1, -1, -1, -1, -1]\n"
     ]
    },
    {
     "name": "stderr",
     "output_type": "stream",
     "text": [
      "training loop:  64% |############################                | ETA:  7:06:38\r"
     ]
    },
    {
     "name": "stdout",
     "output_type": "stream",
     "text": [
      "game:  3241 , mean loss: 16.29 , recent outcomes:  [-1, 0, -1, -1, 1, -1, -1, -1, 1, -1]\n"
     ]
    },
    {
     "name": "stderr",
     "output_type": "stream",
     "text": [
      "training loop:  65% |############################                | ETA:  7:04:13\r"
     ]
    },
    {
     "name": "stdout",
     "output_type": "stream",
     "text": [
      "game:  3251 , mean loss: 21.35 , recent outcomes:  [-1, -1, -1, 1, -1, 1, -1, 1, -1, 1]\n"
     ]
    },
    {
     "name": "stderr",
     "output_type": "stream",
     "text": [
      "training loop:  65% |############################                | ETA:  7:01:45\r"
     ]
    },
    {
     "name": "stdout",
     "output_type": "stream",
     "text": [
      "game:  3261 , mean loss: 19.48 , recent outcomes:  [-1, -1, -1, -1, -1, 1, -1, -1, -1, -1]\n"
     ]
    },
    {
     "name": "stderr",
     "output_type": "stream",
     "text": [
      "training loop:  65% |############################                | ETA:  6:59:26\r"
     ]
    },
    {
     "name": "stdout",
     "output_type": "stream",
     "text": [
      "game:  3271 , mean loss: 23.23 , recent outcomes:  [1, -1, 1, -1, -1, 1, 1, 1, 1, 1]\n"
     ]
    },
    {
     "name": "stderr",
     "output_type": "stream",
     "text": [
      "training loop:  65% |############################                | ETA:  6:57:13\r"
     ]
    },
    {
     "name": "stdout",
     "output_type": "stream",
     "text": [
      "game:  3281 , mean loss: 29.40 , recent outcomes:  [-1, 1, 1, 1, 1, 1, -1, 1, 1, 1]\n"
     ]
    },
    {
     "name": "stderr",
     "output_type": "stream",
     "text": [
      "training loop:  65% |############################                | ETA:  6:55:24\r"
     ]
    },
    {
     "name": "stdout",
     "output_type": "stream",
     "text": [
      "game:  3291 , mean loss: 31.05 , recent outcomes:  [1, -1, 1, 1, 1, -1, 1, 1, 1, 1]\n"
     ]
    },
    {
     "name": "stderr",
     "output_type": "stream",
     "text": [
      "training loop:  66% |#############################               | ETA:  6:53:22\r"
     ]
    },
    {
     "name": "stdout",
     "output_type": "stream",
     "text": [
      "game:  3301 , mean loss: 28.58 , recent outcomes:  [1, 1, -1, 1, 1, 1, 1, -1, -1, -1]\n"
     ]
    },
    {
     "name": "stderr",
     "output_type": "stream",
     "text": [
      "training loop:  66% |#############################               | ETA:  6:51:16\r"
     ]
    },
    {
     "name": "stdout",
     "output_type": "stream",
     "text": [
      "game:  3311 , mean loss: 24.90 , recent outcomes:  [1, -1, 1, -1, 1, -1, 1, 1, 1, 1]\n"
     ]
    },
    {
     "name": "stderr",
     "output_type": "stream",
     "text": [
      "training loop:  66% |#############################               | ETA:  6:49:09\r"
     ]
    },
    {
     "name": "stdout",
     "output_type": "stream",
     "text": [
      "game:  3321 , mean loss: 24.01 , recent outcomes:  [1, 1, 1, 1, 1, 1, -1, -1, -1, -1]\n"
     ]
    },
    {
     "name": "stderr",
     "output_type": "stream",
     "text": [
      "training loop:  66% |#############################               | ETA:  6:46:57\r"
     ]
    },
    {
     "name": "stdout",
     "output_type": "stream",
     "text": [
      "game:  3331 , mean loss: 25.25 , recent outcomes:  [-1, 1, -1, 1, 1, 1, -1, 1, -1, 1]\n"
     ]
    },
    {
     "name": "stderr",
     "output_type": "stream",
     "text": [
      "training loop:  66% |#############################               | ETA:  6:44:31\r"
     ]
    },
    {
     "name": "stdout",
     "output_type": "stream",
     "text": [
      "game:  3341 , mean loss: 26.50 , recent outcomes:  [1, 1, -1, -1, -1, 1, -1, -1, -1, -1]\n"
     ]
    },
    {
     "name": "stderr",
     "output_type": "stream",
     "text": [
      "training loop:  67% |#############################               | ETA:  6:42:37\r"
     ]
    },
    {
     "name": "stdout",
     "output_type": "stream",
     "text": [
      "game:  3351 , mean loss: 24.58 , recent outcomes:  [1, -1, 0, -1, -1, -1, 1, -1, 1, 1]\n"
     ]
    },
    {
     "name": "stderr",
     "output_type": "stream",
     "text": [
      "training loop:  67% |#############################               | ETA:  6:40:14\r"
     ]
    },
    {
     "name": "stdout",
     "output_type": "stream",
     "text": [
      "game:  3361 , mean loss: 23.92 , recent outcomes:  [1, -1, -1, -1, -1, -1, -1, 1, -1, 1]\n"
     ]
    },
    {
     "name": "stderr",
     "output_type": "stream",
     "text": [
      "training loop:  67% |#############################               | ETA:  6:37:59\r"
     ]
    },
    {
     "name": "stdout",
     "output_type": "stream",
     "text": [
      "game:  3371 , mean loss: 20.73 , recent outcomes:  [-1, 1, -1, -1, -1, -1, -1, -1, -1, -1]\n"
     ]
    },
    {
     "name": "stderr",
     "output_type": "stream",
     "text": [
      "training loop:  67% |#############################               | ETA:  6:36:01\r"
     ]
    },
    {
     "name": "stdout",
     "output_type": "stream",
     "text": [
      "game:  3381 , mean loss: 20.47 , recent outcomes:  [-1, -1, 1, 1, -1, -1, -1, -1, -1, 0]\n"
     ]
    },
    {
     "name": "stderr",
     "output_type": "stream",
     "text": [
      "training loop:  67% |#############################               | ETA:  6:34:02\r"
     ]
    },
    {
     "name": "stdout",
     "output_type": "stream",
     "text": [
      "game:  3391 , mean loss: 23.85 , recent outcomes:  [-1, 1, 1, -1, 1, 1, -1, -1, -1, 1]\n"
     ]
    },
    {
     "name": "stderr",
     "output_type": "stream",
     "text": [
      "training loop:  68% |#############################               | ETA:  6:31:48\r"
     ]
    },
    {
     "name": "stdout",
     "output_type": "stream",
     "text": [
      "game:  3401 , mean loss: 22.73 , recent outcomes:  [1, 1, 1, -1, -1, -1, -1, -1, -1, -1]\n"
     ]
    },
    {
     "name": "stderr",
     "output_type": "stream",
     "text": [
      "training loop:  68% |##############################              | ETA:  6:29:27\r"
     ]
    },
    {
     "name": "stdout",
     "output_type": "stream",
     "text": [
      "game:  3411 , mean loss: 20.82 , recent outcomes:  [-1, -1, 1, 1, 1, 1, -1, -1, -1, -1]\n"
     ]
    },
    {
     "name": "stderr",
     "output_type": "stream",
     "text": [
      "training loop:  68% |##############################              | ETA:  6:27:20\r"
     ]
    },
    {
     "name": "stdout",
     "output_type": "stream",
     "text": [
      "game:  3421 , mean loss: 23.42 , recent outcomes:  [1, 1, -1, -1, -1, -1, -1, 1, 1, -1]\n"
     ]
    },
    {
     "name": "stderr",
     "output_type": "stream",
     "text": [
      "training loop:  68% |##############################              | ETA:  6:24:58\r"
     ]
    },
    {
     "name": "stdout",
     "output_type": "stream",
     "text": [
      "game:  3431 , mean loss: 20.20 , recent outcomes:  [-1, -1, -1, -1, -1, -1, -1, -1, -1, 1]\n"
     ]
    },
    {
     "name": "stderr",
     "output_type": "stream",
     "text": [
      "training loop:  68% |##############################              | ETA:  6:22:40\r"
     ]
    },
    {
     "name": "stdout",
     "output_type": "stream",
     "text": [
      "game:  3441 , mean loss: 17.80 , recent outcomes:  [-1, -1, 1, 1, -1, 1, -1, -1, -1, -1]\n"
     ]
    },
    {
     "name": "stderr",
     "output_type": "stream",
     "text": [
      "training loop:  69% |##############################              | ETA:  6:20:23\r"
     ]
    },
    {
     "name": "stdout",
     "output_type": "stream",
     "text": [
      "game:  3451 , mean loss: 22.33 , recent outcomes:  [-1, 1, 1, -1, 1, -1, 1, 1, -1, -1]\n"
     ]
    },
    {
     "name": "stderr",
     "output_type": "stream",
     "text": [
      "training loop:  69% |##############################              | ETA:  6:18:05\r"
     ]
    },
    {
     "name": "stdout",
     "output_type": "stream",
     "text": [
      "game:  3461 , mean loss: 20.97 , recent outcomes:  [-1, -1, 1, 1, 1, 1, 1, 1, -1, -1]\n"
     ]
    },
    {
     "name": "stderr",
     "output_type": "stream",
     "text": [
      "training loop:  69% |##############################              | ETA:  6:15:44\r"
     ]
    },
    {
     "name": "stdout",
     "output_type": "stream",
     "text": [
      "game:  3471 , mean loss: 20.60 , recent outcomes:  [-1, 1, 1, 1, -1, 1, -1, 1, -1, -1]\n"
     ]
    },
    {
     "name": "stderr",
     "output_type": "stream",
     "text": [
      "training loop:  69% |##############################              | ETA:  6:13:18\r"
     ]
    },
    {
     "name": "stdout",
     "output_type": "stream",
     "text": [
      "game:  3481 , mean loss: 24.61 , recent outcomes:  [1, 1, 1, 1, 1, 1, -1, -1, -1, -1]\n"
     ]
    },
    {
     "name": "stderr",
     "output_type": "stream",
     "text": [
      "training loop:  69% |##############################              | ETA:  6:10:49\r"
     ]
    },
    {
     "name": "stdout",
     "output_type": "stream",
     "text": [
      "game:  3491 , mean loss: 25.30 , recent outcomes:  [1, 1, -1, -1, -1, 1, 1, 1, 1, -1]\n"
     ]
    },
    {
     "name": "stderr",
     "output_type": "stream",
     "text": [
      "training loop:  70% |##############################              | ETA:  6:08:36\r"
     ]
    },
    {
     "name": "stdout",
     "output_type": "stream",
     "text": [
      "game:  3501 , mean loss: 22.44 , recent outcomes:  [-1, 1, -1, -1, 1, -1, -1, -1, 1, 1]\n"
     ]
    },
    {
     "name": "stderr",
     "output_type": "stream",
     "text": [
      "training loop:  70% |##############################              | ETA:  6:06:28\r"
     ]
    },
    {
     "name": "stdout",
     "output_type": "stream",
     "text": [
      "game:  3511 , mean loss: 20.97 , recent outcomes:  [-1, -1, 1, 1, -1, 1, -1, -1, -1, 1]\n"
     ]
    },
    {
     "name": "stderr",
     "output_type": "stream",
     "text": [
      "training loop:  70% |##############################              | ETA:  6:04:03\r"
     ]
    },
    {
     "name": "stdout",
     "output_type": "stream",
     "text": [
      "game:  3521 , mean loss: 20.46 , recent outcomes:  [-1, 1, -1, -1, -1, -1, -1, 1, -1, 1]\n"
     ]
    },
    {
     "name": "stderr",
     "output_type": "stream",
     "text": [
      "training loop:  70% |###############################             | ETA:  6:01:39\r"
     ]
    },
    {
     "name": "stdout",
     "output_type": "stream",
     "text": [
      "game:  3531 , mean loss: 17.93 , recent outcomes:  [-1, 1, 1, -1, -1, 1, -1, -1, -1, 1]\n"
     ]
    },
    {
     "name": "stderr",
     "output_type": "stream",
     "text": [
      "training loop:  70% |###############################             | ETA:  5:59:14\r"
     ]
    },
    {
     "name": "stdout",
     "output_type": "stream",
     "text": [
      "game:  3541 , mean loss: 18.03 , recent outcomes:  [1, -1, -1, 1, 1, -1, -1, -1, -1, -1]\n"
     ]
    },
    {
     "name": "stderr",
     "output_type": "stream",
     "text": [
      "training loop:  71% |###############################             | ETA:  5:57:07\r"
     ]
    },
    {
     "name": "stdout",
     "output_type": "stream",
     "text": [
      "game:  3551 , mean loss: 20.83 , recent outcomes:  [1, 1, 0, 1, -1, -1, 1, -1, -1, -1]\n"
     ]
    },
    {
     "name": "stderr",
     "output_type": "stream",
     "text": [
      "training loop:  71% |###############################             | ETA:  5:54:49\r"
     ]
    },
    {
     "name": "stdout",
     "output_type": "stream",
     "text": [
      "game:  3561 , mean loss: 21.62 , recent outcomes:  [-1, -1, 1, -1, -1, 1, 1, 1, -1, -1]\n"
     ]
    },
    {
     "name": "stderr",
     "output_type": "stream",
     "text": [
      "training loop:  71% |###############################             | ETA:  5:52:33\r"
     ]
    },
    {
     "name": "stdout",
     "output_type": "stream",
     "text": [
      "game:  3571 , mean loss: 19.60 , recent outcomes:  [0, -1, 1, -1, -1, -1, 1, -1, -1, -1]\n"
     ]
    },
    {
     "name": "stderr",
     "output_type": "stream",
     "text": [
      "training loop:  71% |###############################             | ETA:  5:50:16\r"
     ]
    },
    {
     "name": "stdout",
     "output_type": "stream",
     "text": [
      "game:  3581 , mean loss: 18.30 , recent outcomes:  [0, 1, -1, -1, -1, -1, -1, -1, -1, 1]\n"
     ]
    },
    {
     "name": "stderr",
     "output_type": "stream",
     "text": [
      "training loop:  71% |###############################             | ETA:  5:48:04\r"
     ]
    },
    {
     "name": "stdout",
     "output_type": "stream",
     "text": [
      "game:  3591 , mean loss: 21.77 , recent outcomes:  [-1, -1, -1, 1, 1, -1, 1, 1, 1, -1]\n"
     ]
    },
    {
     "name": "stderr",
     "output_type": "stream",
     "text": [
      "training loop:  72% |###############################             | ETA:  5:45:47\r"
     ]
    },
    {
     "name": "stdout",
     "output_type": "stream",
     "text": [
      "game:  3601 , mean loss: 22.44 , recent outcomes:  [-1, -1, 1, -1, -1, 1, -1, -1, -1, 1]\n"
     ]
    },
    {
     "name": "stderr",
     "output_type": "stream",
     "text": [
      "training loop:  72% |###############################             | ETA:  5:43:30\r"
     ]
    },
    {
     "name": "stdout",
     "output_type": "stream",
     "text": [
      "game:  3611 , mean loss: 21.75 , recent outcomes:  [1, -1, -1, -1, -1, -1, -1, -1, 1, -1]\n"
     ]
    },
    {
     "name": "stderr",
     "output_type": "stream",
     "text": [
      "training loop:  72% |###############################             | ETA:  5:41:05\r"
     ]
    },
    {
     "name": "stdout",
     "output_type": "stream",
     "text": [
      "game:  3621 , mean loss: 22.93 , recent outcomes:  [-1, -1, 1, -1, 1, -1, 1, 1, -1, 1]\n"
     ]
    },
    {
     "name": "stderr",
     "output_type": "stream",
     "text": [
      "training loop:  72% |###############################             | ETA:  5:38:59\r"
     ]
    },
    {
     "name": "stdout",
     "output_type": "stream",
     "text": [
      "game:  3631 , mean loss: 22.73 , recent outcomes:  [1, -1, 1, -1, -1, 1, 0, -1, -1, -1]\n"
     ]
    },
    {
     "name": "stderr",
     "output_type": "stream",
     "text": [
      "training loop:  72% |################################            | ETA:  5:36:39\r"
     ]
    },
    {
     "name": "stdout",
     "output_type": "stream",
     "text": [
      "game:  3641 , mean loss: 23.53 , recent outcomes:  [-1, -1, -1, -1, -1, -1, 1, -1, -1, -1]\n"
     ]
    },
    {
     "name": "stderr",
     "output_type": "stream",
     "text": [
      "training loop:  73% |################################            | ETA:  5:34:16\r"
     ]
    },
    {
     "name": "stdout",
     "output_type": "stream",
     "text": [
      "game:  3651 , mean loss: 21.69 , recent outcomes:  [-1, -1, -1, -1, -1, -1, 1, -1, -1, 1]\n"
     ]
    },
    {
     "name": "stderr",
     "output_type": "stream",
     "text": [
      "training loop:  73% |################################            | ETA:  5:31:48\r"
     ]
    },
    {
     "name": "stdout",
     "output_type": "stream",
     "text": [
      "game:  3661 , mean loss: 19.32 , recent outcomes:  [-1, -1, -1, -1, -1, -1, -1, -1, 1, -1]\n"
     ]
    },
    {
     "name": "stderr",
     "output_type": "stream",
     "text": [
      "training loop:  73% |################################            | ETA:  5:29:16\r"
     ]
    },
    {
     "name": "stdout",
     "output_type": "stream",
     "text": [
      "game:  3671 , mean loss: 18.67 , recent outcomes:  [-1, 1, -1, -1, -1, -1, 1, -1, 1, 1]\n"
     ]
    },
    {
     "name": "stderr",
     "output_type": "stream",
     "text": [
      "training loop:  73% |################################            | ETA:  5:26:47\r"
     ]
    },
    {
     "name": "stdout",
     "output_type": "stream",
     "text": [
      "game:  3681 , mean loss: 15.76 , recent outcomes:  [-1, 1, -1, -1, -1, -1, -1, -1, -1, -1]\n"
     ]
    },
    {
     "name": "stderr",
     "output_type": "stream",
     "text": [
      "training loop:  73% |################################            | ETA:  5:24:33\r"
     ]
    },
    {
     "name": "stdout",
     "output_type": "stream",
     "text": [
      "game:  3691 , mean loss: 17.58 , recent outcomes:  [-1, -1, -1, 1, -1, 1, -1, 0, -1, -1]\n"
     ]
    },
    {
     "name": "stderr",
     "output_type": "stream",
     "text": [
      "training loop:  74% |################################            | ETA:  5:22:34\r"
     ]
    },
    {
     "name": "stdout",
     "output_type": "stream",
     "text": [
      "game:  3701 , mean loss: 22.79 , recent outcomes:  [-1, 0, -1, -1, 0, -1, 0, -1, -1, -1]\n"
     ]
    },
    {
     "name": "stderr",
     "output_type": "stream",
     "text": [
      "training loop:  74% |################################            | ETA:  5:20:05\r"
     ]
    },
    {
     "name": "stdout",
     "output_type": "stream",
     "text": [
      "game:  3711 , mean loss: 19.63 , recent outcomes:  [-1, -1, -1, -1, -1, -1, 1, -1, -1, -1]\n"
     ]
    },
    {
     "name": "stderr",
     "output_type": "stream",
     "text": [
      "training loop:  74% |################################            | ETA:  5:17:33\r"
     ]
    },
    {
     "name": "stdout",
     "output_type": "stream",
     "text": [
      "game:  3721 , mean loss: 13.59 , recent outcomes:  [-1, -1, -1, -1, -1, -1, -1, -1, -1, -1]\n"
     ]
    },
    {
     "name": "stderr",
     "output_type": "stream",
     "text": [
      "training loop:  74% |################################            | ETA:  5:15:02\r"
     ]
    },
    {
     "name": "stdout",
     "output_type": "stream",
     "text": [
      "game:  3731 , mean loss: 13.26 , recent outcomes:  [-1, -1, -1, -1, -1, -1, -1, -1, -1, -1]\n"
     ]
    },
    {
     "name": "stderr",
     "output_type": "stream",
     "text": [
      "training loop:  74% |################################            | ETA:  5:12:36\r"
     ]
    },
    {
     "name": "stdout",
     "output_type": "stream",
     "text": [
      "game:  3741 , mean loss: 13.99 , recent outcomes:  [-1, -1, -1, -1, -1, -1, -1, -1, -1, -1]\n"
     ]
    },
    {
     "name": "stderr",
     "output_type": "stream",
     "text": [
      "training loop:  75% |#################################           | ETA:  5:10:07\r"
     ]
    },
    {
     "name": "stdout",
     "output_type": "stream",
     "text": [
      "game:  3751 , mean loss: 16.34 , recent outcomes:  [-1, -1, 1, -1, -1, -1, -1, -1, 1, 1]\n"
     ]
    },
    {
     "name": "stderr",
     "output_type": "stream",
     "text": [
      "training loop:  75% |#################################           | ETA:  5:07:42\r"
     ]
    },
    {
     "name": "stdout",
     "output_type": "stream",
     "text": [
      "game:  3761 , mean loss: 17.03 , recent outcomes:  [-1, -1, -1, -1, -1, 1, -1, -1, -1, -1]\n"
     ]
    },
    {
     "name": "stderr",
     "output_type": "stream",
     "text": [
      "training loop:  75% |#################################           | ETA:  5:05:13\r"
     ]
    },
    {
     "name": "stdout",
     "output_type": "stream",
     "text": [
      "game:  3771 , mean loss: 18.24 , recent outcomes:  [1, -1, -1, -1, -1, -1, -1, 1, -1, 1]\n"
     ]
    },
    {
     "name": "stderr",
     "output_type": "stream",
     "text": [
      "training loop:  75% |#################################           | ETA:  5:02:41\r"
     ]
    },
    {
     "name": "stdout",
     "output_type": "stream",
     "text": [
      "game:  3781 , mean loss: 20.98 , recent outcomes:  [-1, -1, -1, -1, -1, 1, 1, -1, -1, -1]\n"
     ]
    },
    {
     "name": "stderr",
     "output_type": "stream",
     "text": [
      "training loop:  75% |#################################           | ETA:  5:00:20\r"
     ]
    },
    {
     "name": "stdout",
     "output_type": "stream",
     "text": [
      "game:  3791 , mean loss: 18.44 , recent outcomes:  [-1, -1, -1, -1, 0, -1, -1, -1, -1, -1]\n"
     ]
    },
    {
     "name": "stderr",
     "output_type": "stream",
     "text": [
      "training loop:  76% |#################################           | ETA:  4:57:46\r"
     ]
    },
    {
     "name": "stdout",
     "output_type": "stream",
     "text": [
      "game:  3801 , mean loss: 17.13 , recent outcomes:  [-1, 1, -1, -1, -1, -1, -1, -1, 1, -1]\n"
     ]
    },
    {
     "name": "stderr",
     "output_type": "stream",
     "text": [
      "training loop:  76% |#################################           | ETA:  4:55:12\r"
     ]
    },
    {
     "name": "stdout",
     "output_type": "stream",
     "text": [
      "game:  3811 , mean loss: 17.04 , recent outcomes:  [-1, -1, -1, -1, -1, -1, -1, -1, 1, -1]\n"
     ]
    },
    {
     "name": "stderr",
     "output_type": "stream",
     "text": [
      "training loop:  76% |#################################           | ETA:  4:52:40\r"
     ]
    },
    {
     "name": "stdout",
     "output_type": "stream",
     "text": [
      "game:  3821 , mean loss: 17.46 , recent outcomes:  [1, -1, -1, -1, 1, -1, -1, 1, 1, -1]\n"
     ]
    },
    {
     "name": "stderr",
     "output_type": "stream",
     "text": [
      "training loop:  76% |#################################           | ETA:  4:50:12\r"
     ]
    },
    {
     "name": "stdout",
     "output_type": "stream",
     "text": [
      "game:  3831 , mean loss: 18.40 , recent outcomes:  [-1, -1, -1, 0, 1, -1, -1, -1, -1, -1]\n"
     ]
    },
    {
     "name": "stderr",
     "output_type": "stream",
     "text": [
      "training loop:  76% |#################################           | ETA:  4:47:50\r"
     ]
    },
    {
     "name": "stdout",
     "output_type": "stream",
     "text": [
      "game:  3841 , mean loss: 22.02 , recent outcomes:  [-1, 1, -1, 1, -1, -1, -1, -1, -1, -1]\n"
     ]
    },
    {
     "name": "stderr",
     "output_type": "stream",
     "text": [
      "training loop:  77% |#################################           | ETA:  4:45:29\r"
     ]
    },
    {
     "name": "stdout",
     "output_type": "stream",
     "text": [
      "game:  3851 , mean loss: 23.45 , recent outcomes:  [1, -1, -1, -1, 1, -1, -1, -1, -1, -1]\n"
     ]
    },
    {
     "name": "stderr",
     "output_type": "stream",
     "text": [
      "training loop:  77% |#################################           | ETA:  4:42:54\r"
     ]
    },
    {
     "name": "stdout",
     "output_type": "stream",
     "text": [
      "game:  3861 , mean loss: 15.94 , recent outcomes:  [-1, -1, -1, -1, -1, -1, -1, -1, -1, -1]\n"
     ]
    },
    {
     "name": "stderr",
     "output_type": "stream",
     "text": [
      "training loop:  77% |##################################          | ETA:  4:40:32\r"
     ]
    },
    {
     "name": "stdout",
     "output_type": "stream",
     "text": [
      "game:  3871 , mean loss: 13.81 , recent outcomes:  [-1, 1, -1, 1, -1, -1, -1, -1, -1, -1]\n"
     ]
    },
    {
     "name": "stderr",
     "output_type": "stream",
     "text": [
      "training loop:  77% |##################################          | ETA:  4:38:09\r"
     ]
    },
    {
     "name": "stdout",
     "output_type": "stream",
     "text": [
      "game:  3881 , mean loss: 21.25 , recent outcomes:  [0, -1, 1, -1, -1, -1, -1, -1, -1, -1]\n"
     ]
    },
    {
     "name": "stderr",
     "output_type": "stream",
     "text": [
      "training loop:  77% |##################################          | ETA:  4:35:36\r"
     ]
    },
    {
     "name": "stdout",
     "output_type": "stream",
     "text": [
      "game:  3891 , mean loss: 23.45 , recent outcomes:  [1, -1, -1, -1, -1, -1, -1, -1, -1, 1]\n"
     ]
    },
    {
     "name": "stderr",
     "output_type": "stream",
     "text": [
      "training loop:  78% |##################################          | ETA:  4:33:22\r"
     ]
    },
    {
     "name": "stdout",
     "output_type": "stream",
     "text": [
      "game:  3901 , mean loss: 25.87 , recent outcomes:  [-1, -1, -1, -1, -1, 1, -1, 1, -1, 0]\n"
     ]
    },
    {
     "name": "stderr",
     "output_type": "stream",
     "text": [
      "training loop:  78% |##################################          | ETA:  4:30:51\r"
     ]
    },
    {
     "name": "stdout",
     "output_type": "stream",
     "text": [
      "game:  3911 , mean loss: 25.10 , recent outcomes:  [-1, 1, -1, 1, 1, -1, -1, -1, -1, 1]\n"
     ]
    },
    {
     "name": "stderr",
     "output_type": "stream",
     "text": [
      "training loop:  78% |##################################          | ETA:  4:28:26\r"
     ]
    },
    {
     "name": "stdout",
     "output_type": "stream",
     "text": [
      "game:  3921 , mean loss: 18.72 , recent outcomes:  [-1, -1, -1, -1, -1, 1, -1, -1, -1, -1]\n"
     ]
    },
    {
     "name": "stderr",
     "output_type": "stream",
     "text": [
      "training loop:  78% |##################################          | ETA:  4:25:57\r"
     ]
    },
    {
     "name": "stdout",
     "output_type": "stream",
     "text": [
      "game:  3931 , mean loss: 15.81 , recent outcomes:  [-1, -1, 1, -1, -1, -1, -1, 1, -1, -1]\n"
     ]
    },
    {
     "name": "stderr",
     "output_type": "stream",
     "text": [
      "training loop:  78% |##################################          | ETA:  4:23:30\r"
     ]
    },
    {
     "name": "stdout",
     "output_type": "stream",
     "text": [
      "game:  3941 , mean loss: 17.49 , recent outcomes:  [1, -1, 1, -1, 1, -1, -1, -1, -1, -1]\n"
     ]
    },
    {
     "name": "stderr",
     "output_type": "stream",
     "text": [
      "training loop:  79% |##################################          | ETA:  4:21:03\r"
     ]
    },
    {
     "name": "stdout",
     "output_type": "stream",
     "text": [
      "game:  3951 , mean loss: 18.59 , recent outcomes:  [-1, -1, -1, -1, 1, -1, 0, -1, -1, -1]\n"
     ]
    },
    {
     "name": "stderr",
     "output_type": "stream",
     "text": [
      "training loop:  79% |##################################          | ETA:  4:18:33\r"
     ]
    },
    {
     "name": "stdout",
     "output_type": "stream",
     "text": [
      "game:  3961 , mean loss: 15.31 , recent outcomes:  [-1, -1, -1, -1, -1, -1, -1, -1, -1, -1]\n"
     ]
    },
    {
     "name": "stderr",
     "output_type": "stream",
     "text": [
      "training loop:  79% |##################################          | ETA:  4:16:05\r"
     ]
    },
    {
     "name": "stdout",
     "output_type": "stream",
     "text": [
      "game:  3971 , mean loss: 17.33 , recent outcomes:  [-1, -1, -1, -1, 1, -1, -1, -1, 1, 1]\n"
     ]
    },
    {
     "name": "stderr",
     "output_type": "stream",
     "text": [
      "training loop:  79% |###################################         | ETA:  4:13:40\r"
     ]
    },
    {
     "name": "stdout",
     "output_type": "stream",
     "text": [
      "game:  3981 , mean loss: 18.51 , recent outcomes:  [-1, -1, -1, -1, -1, -1, 1, -1, -1, -1]\n"
     ]
    },
    {
     "name": "stderr",
     "output_type": "stream",
     "text": [
      "training loop:  79% |###################################         | ETA:  4:11:09\r"
     ]
    },
    {
     "name": "stdout",
     "output_type": "stream",
     "text": [
      "game:  3991 , mean loss: 13.18 , recent outcomes:  [-1, -1, -1, -1, -1, -1, -1, -1, -1, -1]\n"
     ]
    },
    {
     "name": "stderr",
     "output_type": "stream",
     "text": [
      "training loop:  80% |###################################         | ETA:  4:08:43\r"
     ]
    },
    {
     "name": "stdout",
     "output_type": "stream",
     "text": [
      "game:  4001 , mean loss: 10.94 , recent outcomes:  [-1, -1, -1, -1, 1, -1, -1, -1, -1, -1]\n"
     ]
    },
    {
     "name": "stderr",
     "output_type": "stream",
     "text": [
      "training loop:  80% |###################################         | ETA:  4:06:15\r"
     ]
    },
    {
     "name": "stdout",
     "output_type": "stream",
     "text": [
      "game:  4011 , mean loss: 14.90 , recent outcomes:  [-1, 1, 0, -1, -1, -1, -1, -1, -1, -1]\n"
     ]
    },
    {
     "name": "stderr",
     "output_type": "stream",
     "text": [
      "training loop:  80% |###################################         | ETA:  4:03:45\r"
     ]
    },
    {
     "name": "stdout",
     "output_type": "stream",
     "text": [
      "game:  4021 , mean loss: 14.69 , recent outcomes:  [-1, -1, 1, -1, -1, -1, -1, -1, -1, 1]\n"
     ]
    },
    {
     "name": "stderr",
     "output_type": "stream",
     "text": [
      "training loop:  80% |###################################         | ETA:  4:01:17\r"
     ]
    },
    {
     "name": "stdout",
     "output_type": "stream",
     "text": [
      "game:  4031 , mean loss: 14.75 , recent outcomes:  [-1, -1, 1, -1, -1, -1, -1, -1, -1, 1]\n"
     ]
    },
    {
     "name": "stderr",
     "output_type": "stream",
     "text": [
      "training loop:  80% |###################################         | ETA:  3:58:48\r"
     ]
    },
    {
     "name": "stdout",
     "output_type": "stream",
     "text": [
      "game:  4041 , mean loss: 18.41 , recent outcomes:  [1, 0, -1, -1, -1, 1, -1, -1, -1, -1]\n"
     ]
    },
    {
     "name": "stderr",
     "output_type": "stream",
     "text": [
      "training loop:  81% |###################################         | ETA:  3:56:20\r"
     ]
    },
    {
     "name": "stdout",
     "output_type": "stream",
     "text": [
      "game:  4051 , mean loss: 21.55 , recent outcomes:  [1, -1, -1, -1, -1, -1, -1, -1, -1, 1]\n"
     ]
    },
    {
     "name": "stderr",
     "output_type": "stream",
     "text": [
      "training loop:  81% |###################################         | ETA:  3:53:50\r"
     ]
    },
    {
     "name": "stdout",
     "output_type": "stream",
     "text": [
      "game:  4061 , mean loss: 23.32 , recent outcomes:  [-1, -1, 1, -1, -1, 1, -1, 1, 1, -1]\n"
     ]
    },
    {
     "name": "stderr",
     "output_type": "stream",
     "text": [
      "training loop:  81% |###################################         | ETA:  3:51:20\r"
     ]
    },
    {
     "name": "stdout",
     "output_type": "stream",
     "text": [
      "game:  4071 , mean loss: 18.74 , recent outcomes:  [-1, -1, -1, -1, -1, 1, 0, 1, -1, -1]\n"
     ]
    },
    {
     "name": "stderr",
     "output_type": "stream",
     "text": [
      "training loop:  81% |###################################         | ETA:  3:48:45\r"
     ]
    },
    {
     "name": "stdout",
     "output_type": "stream",
     "text": [
      "game:  4081 , mean loss: 12.65 , recent outcomes:  [-1, -1, -1, -1, -1, -1, -1, -1, -1, -1]\n"
     ]
    },
    {
     "name": "stderr",
     "output_type": "stream",
     "text": [
      "training loop:  81% |####################################        | ETA:  3:46:18\r"
     ]
    },
    {
     "name": "stdout",
     "output_type": "stream",
     "text": [
      "game:  4091 , mean loss: 10.50 , recent outcomes:  [-1, -1, -1, -1, -1, -1, -1, -1, -1, 0]\n"
     ]
    },
    {
     "name": "stderr",
     "output_type": "stream",
     "text": [
      "training loop:  82% |####################################        | ETA:  3:43:52\r"
     ]
    },
    {
     "name": "stdout",
     "output_type": "stream",
     "text": [
      "game:  4101 , mean loss: 10.99 , recent outcomes:  [-1, -1, -1, -1, -1, -1, -1, -1, -1, -1]\n"
     ]
    },
    {
     "name": "stderr",
     "output_type": "stream",
     "text": [
      "training loop:  82% |####################################        | ETA:  3:41:19\r"
     ]
    },
    {
     "name": "stdout",
     "output_type": "stream",
     "text": [
      "game:  4111 , mean loss: 10.89 , recent outcomes:  [-1, -1, 1, -1, -1, -1, -1, -1, -1, -1]\n"
     ]
    },
    {
     "name": "stderr",
     "output_type": "stream",
     "text": [
      "training loop:  82% |####################################        | ETA:  3:38:51\r"
     ]
    },
    {
     "name": "stdout",
     "output_type": "stream",
     "text": [
      "game:  4121 , mean loss: 11.84 , recent outcomes:  [0, -1, -1, 0, -1, -1, -1, -1, -1, -1]\n"
     ]
    },
    {
     "name": "stderr",
     "output_type": "stream",
     "text": [
      "training loop:  82% |####################################        | ETA:  3:36:23\r"
     ]
    },
    {
     "name": "stdout",
     "output_type": "stream",
     "text": [
      "game:  4131 , mean loss: 13.68 , recent outcomes:  [-1, -1, -1, 0, 1, -1, -1, -1, -1, -1]\n"
     ]
    },
    {
     "name": "stderr",
     "output_type": "stream",
     "text": [
      "training loop:  82% |####################################        | ETA:  3:33:54\r"
     ]
    },
    {
     "name": "stdout",
     "output_type": "stream",
     "text": [
      "game:  4141 , mean loss: 14.83 , recent outcomes:  [-1, -1, -1, -1, -1, 1, -1, 0, -1, -1]\n"
     ]
    },
    {
     "name": "stderr",
     "output_type": "stream",
     "text": [
      "training loop:  83% |####################################        | ETA:  3:31:18\r"
     ]
    },
    {
     "name": "stdout",
     "output_type": "stream",
     "text": [
      "game:  4151 , mean loss: 13.28 , recent outcomes:  [-1, -1, 1, -1, -1, -1, -1, -1, -1, -1]\n"
     ]
    },
    {
     "name": "stderr",
     "output_type": "stream",
     "text": [
      "training loop:  83% |####################################        | ETA:  3:28:45\r"
     ]
    },
    {
     "name": "stdout",
     "output_type": "stream",
     "text": [
      "game:  4161 , mean loss: 12.45 , recent outcomes:  [-1, 1, -1, -1, -1, 1, -1, -1, -1, -1]\n"
     ]
    },
    {
     "name": "stderr",
     "output_type": "stream",
     "text": [
      "training loop:  83% |####################################        | ETA:  3:26:16\r"
     ]
    },
    {
     "name": "stdout",
     "output_type": "stream",
     "text": [
      "game:  4171 , mean loss: 13.33 , recent outcomes:  [1, -1, -1, -1, -1, -1, -1, -1, -1, -1]\n"
     ]
    },
    {
     "name": "stderr",
     "output_type": "stream",
     "text": [
      "training loop:  83% |####################################        | ETA:  3:23:47\r"
     ]
    },
    {
     "name": "stdout",
     "output_type": "stream",
     "text": [
      "game:  4181 , mean loss: 13.40 , recent outcomes:  [-1, -1, -1, 0, -1, -1, -1, -1, -1, -1]\n"
     ]
    },
    {
     "name": "stderr",
     "output_type": "stream",
     "text": [
      "training loop:  83% |####################################        | ETA:  3:21:18\r"
     ]
    },
    {
     "name": "stdout",
     "output_type": "stream",
     "text": [
      "game:  4191 , mean loss: 17.58 , recent outcomes:  [1, 1, -1, -1, -1, -1, -1, 1, 1, -1]\n"
     ]
    },
    {
     "name": "stderr",
     "output_type": "stream",
     "text": [
      "training loop:  84% |####################################        | ETA:  3:18:50\r"
     ]
    },
    {
     "name": "stdout",
     "output_type": "stream",
     "text": [
      "game:  4201 , mean loss: 17.50 , recent outcomes:  [-1, -1, -1, -1, -1, -1, -1, 1, -1, -1]\n"
     ]
    },
    {
     "name": "stderr",
     "output_type": "stream",
     "text": [
      "training loop:  84% |#####################################       | ETA:  3:16:23\r"
     ]
    },
    {
     "name": "stdout",
     "output_type": "stream",
     "text": [
      "game:  4211 , mean loss: 17.28 , recent outcomes:  [-1, -1, -1, -1, -1, -1, -1, 1, -1, 1]\n"
     ]
    },
    {
     "name": "stderr",
     "output_type": "stream",
     "text": [
      "training loop:  84% |#####################################       | ETA:  3:13:57\r"
     ]
    },
    {
     "name": "stdout",
     "output_type": "stream",
     "text": [
      "game:  4221 , mean loss: 19.89 , recent outcomes:  [-1, -1, -1, 1, -1, -1, -1, -1, 0, 1]\n"
     ]
    },
    {
     "name": "stderr",
     "output_type": "stream",
     "text": [
      "training loop:  84% |#####################################       | ETA:  3:11:27\r"
     ]
    },
    {
     "name": "stdout",
     "output_type": "stream",
     "text": [
      "game:  4231 , mean loss: 14.87 , recent outcomes:  [-1, -1, -1, -1, -1, -1, -1, -1, -1, -1]\n"
     ]
    },
    {
     "name": "stderr",
     "output_type": "stream",
     "text": [
      "training loop:  84% |#####################################       | ETA:  3:08:56\r"
     ]
    },
    {
     "name": "stdout",
     "output_type": "stream",
     "text": [
      "game:  4241 , mean loss: 10.31 , recent outcomes:  [-1, -1, -1, -1, -1, -1, -1, -1, -1, -1]\n"
     ]
    },
    {
     "name": "stderr",
     "output_type": "stream",
     "text": [
      "training loop:  85% |#####################################       | ETA:  3:06:26\r"
     ]
    },
    {
     "name": "stdout",
     "output_type": "stream",
     "text": [
      "game:  4251 , mean loss: 16.68 , recent outcomes:  [-1, -1, -1, -1, 1, -1, 1, -1, -1, -1]\n"
     ]
    },
    {
     "name": "stderr",
     "output_type": "stream",
     "text": [
      "training loop:  85% |#####################################       | ETA:  3:03:58\r"
     ]
    },
    {
     "name": "stdout",
     "output_type": "stream",
     "text": [
      "game:  4261 , mean loss: 17.14 , recent outcomes:  [-1, -1, -1, -1, -1, -1, -1, -1, 0, -1]\n"
     ]
    },
    {
     "name": "stderr",
     "output_type": "stream",
     "text": [
      "training loop:  85% |#####################################       | ETA:  3:01:24\r"
     ]
    },
    {
     "name": "stdout",
     "output_type": "stream",
     "text": [
      "game:  4271 , mean loss: 13.32 , recent outcomes:  [-1, -1, 1, -1, -1, -1, 1, -1, -1, -1]\n"
     ]
    },
    {
     "name": "stderr",
     "output_type": "stream",
     "text": [
      "training loop:  85% |#####################################       | ETA:  2:58:53\r"
     ]
    },
    {
     "name": "stdout",
     "output_type": "stream",
     "text": [
      "game:  4281 , mean loss: 13.61 , recent outcomes:  [-1, -1, -1, -1, -1, 1, 1, -1, -1, -1]\n"
     ]
    },
    {
     "name": "stderr",
     "output_type": "stream",
     "text": [
      "training loop:  85% |#####################################       | ETA:  2:56:23\r"
     ]
    },
    {
     "name": "stdout",
     "output_type": "stream",
     "text": [
      "game:  4291 , mean loss: 15.39 , recent outcomes:  [1, 0, -1, 1, -1, -1, -1, -1, -1, 1]\n"
     ]
    },
    {
     "name": "stderr",
     "output_type": "stream",
     "text": [
      "training loop:  86% |#####################################       | ETA:  2:53:54\r"
     ]
    },
    {
     "name": "stdout",
     "output_type": "stream",
     "text": [
      "game:  4301 , mean loss: 15.73 , recent outcomes:  [-1, -1, -1, 1, -1, -1, -1, 0, -1, 1]\n"
     ]
    },
    {
     "name": "stderr",
     "output_type": "stream",
     "text": [
      "training loop:  86% |#####################################       | ETA:  2:51:21\r"
     ]
    },
    {
     "name": "stdout",
     "output_type": "stream",
     "text": [
      "game:  4311 , mean loss: 13.60 , recent outcomes:  [-1, -1, -1, -1, 1, 1, -1, -1, -1, -1]\n"
     ]
    },
    {
     "name": "stderr",
     "output_type": "stream",
     "text": [
      "training loop:  86% |######################################      | ETA:  2:48:51\r"
     ]
    },
    {
     "name": "stdout",
     "output_type": "stream",
     "text": [
      "game:  4321 , mean loss: 14.37 , recent outcomes:  [-1, -1, -1, -1, -1, -1, 1, 0, -1, -1]\n"
     ]
    },
    {
     "name": "stderr",
     "output_type": "stream",
     "text": [
      "training loop:  86% |######################################      | ETA:  2:46:18\r"
     ]
    },
    {
     "name": "stdout",
     "output_type": "stream",
     "text": [
      "game:  4331 , mean loss: 12.32 , recent outcomes:  [-1, -1, -1, -1, -1, -1, -1, -1, -1, -1]\n"
     ]
    },
    {
     "name": "stderr",
     "output_type": "stream",
     "text": [
      "training loop:  86% |######################################      | ETA:  2:43:48\r"
     ]
    },
    {
     "name": "stdout",
     "output_type": "stream",
     "text": [
      "game:  4341 , mean loss: 10.64 , recent outcomes:  [-1, -1, -1, -1, -1, -1, -1, 1, -1, -1]\n"
     ]
    },
    {
     "name": "stderr",
     "output_type": "stream",
     "text": [
      "training loop:  87% |######################################      | ETA:  2:41:18\r"
     ]
    },
    {
     "name": "stdout",
     "output_type": "stream",
     "text": [
      "game:  4351 , mean loss: 13.49 , recent outcomes:  [-1, -1, -1, -1, -1, 0, -1, -1, -1, 1]\n"
     ]
    },
    {
     "name": "stderr",
     "output_type": "stream",
     "text": [
      "training loop:  87% |######################################      | ETA:  2:38:47\r"
     ]
    },
    {
     "name": "stdout",
     "output_type": "stream",
     "text": [
      "game:  4361 , mean loss: 15.32 , recent outcomes:  [-1, 1, -1, -1, -1, -1, -1, -1, -1, -1]\n"
     ]
    },
    {
     "name": "stderr",
     "output_type": "stream",
     "text": [
      "training loop:  87% |######################################      | ETA:  2:36:14\r"
     ]
    },
    {
     "name": "stdout",
     "output_type": "stream",
     "text": [
      "game:  4371 , mean loss: 14.28 , recent outcomes:  [-1, -1, -1, -1, -1, 1, -1, -1, -1, -1]\n"
     ]
    },
    {
     "name": "stderr",
     "output_type": "stream",
     "text": [
      "training loop:  87% |######################################      | ETA:  2:33:47\r"
     ]
    },
    {
     "name": "stdout",
     "output_type": "stream",
     "text": [
      "game:  4381 , mean loss: 17.63 , recent outcomes:  [-1, -1, -1, -1, -1, -1, -1, 0, 1, -1]\n"
     ]
    },
    {
     "name": "stderr",
     "output_type": "stream",
     "text": [
      "training loop:  87% |######################################      | ETA:  2:31:19\r"
     ]
    },
    {
     "name": "stdout",
     "output_type": "stream",
     "text": [
      "game:  4391 , mean loss: 18.03 , recent outcomes:  [-1, -1, -1, -1, 1, -1, -1, -1, -1, -1]\n"
     ]
    },
    {
     "name": "stderr",
     "output_type": "stream",
     "text": [
      "training loop:  88% |######################################      | ETA:  2:28:54\r"
     ]
    },
    {
     "name": "stdout",
     "output_type": "stream",
     "text": [
      "game:  4401 , mean loss: 15.49 , recent outcomes:  [-1, -1, -1, -1, -1, -1, -1, -1, 0, -1]\n"
     ]
    },
    {
     "name": "stderr",
     "output_type": "stream",
     "text": [
      "training loop:  88% |######################################      | ETA:  2:26:23\r"
     ]
    },
    {
     "name": "stdout",
     "output_type": "stream",
     "text": [
      "game:  4411 , mean loss: 14.12 , recent outcomes:  [-1, -1, -1, 1, -1, -1, -1, -1, -1, -1]\n"
     ]
    },
    {
     "name": "stderr",
     "output_type": "stream",
     "text": [
      "training loop:  88% |######################################      | ETA:  2:23:54\r"
     ]
    },
    {
     "name": "stdout",
     "output_type": "stream",
     "text": [
      "game:  4421 , mean loss: 12.93 , recent outcomes:  [-1, 1, -1, -1, -1, 1, -1, -1, -1, -1]\n"
     ]
    },
    {
     "name": "stderr",
     "output_type": "stream",
     "text": [
      "training loop:  88% |######################################      | ETA:  2:21:23\r"
     ]
    },
    {
     "name": "stdout",
     "output_type": "stream",
     "text": [
      "game:  4431 , mean loss: 12.55 , recent outcomes:  [-1, -1, -1, -1, -1, -1, -1, -1, -1, -1]\n"
     ]
    },
    {
     "name": "stderr",
     "output_type": "stream",
     "text": [
      "training loop:  88% |#######################################     | ETA:  2:18:52\r"
     ]
    },
    {
     "name": "stdout",
     "output_type": "stream",
     "text": [
      "game:  4441 , mean loss: 9.95 , recent outcomes:  [-1, -1, -1, -1, -1, -1, -1, -1, -1, -1]\n"
     ]
    },
    {
     "name": "stderr",
     "output_type": "stream",
     "text": [
      "training loop:  89% |#######################################     | ETA:  2:16:23\r"
     ]
    },
    {
     "name": "stdout",
     "output_type": "stream",
     "text": [
      "game:  4451 , mean loss: 10.65 , recent outcomes:  [1, -1, -1, 1, -1, -1, -1, -1, -1, -1]\n"
     ]
    },
    {
     "name": "stderr",
     "output_type": "stream",
     "text": [
      "training loop:  89% |#######################################     | ETA:  2:13:50\r"
     ]
    },
    {
     "name": "stdout",
     "output_type": "stream",
     "text": [
      "game:  4461 , mean loss: 13.54 , recent outcomes:  [-1, 1, -1, -1, -1, -1, -1, -1, -1, -1]\n"
     ]
    },
    {
     "name": "stderr",
     "output_type": "stream",
     "text": [
      "training loop:  89% |#######################################     | ETA:  2:11:22\r"
     ]
    },
    {
     "name": "stdout",
     "output_type": "stream",
     "text": [
      "game:  4471 , mean loss: 18.89 , recent outcomes:  [-1, -1, -1, 1, -1, 1, 1, -1, -1, -1]\n"
     ]
    },
    {
     "name": "stderr",
     "output_type": "stream",
     "text": [
      "training loop:  89% |#######################################     | ETA:  2:08:52\r"
     ]
    },
    {
     "name": "stdout",
     "output_type": "stream",
     "text": [
      "game:  4481 , mean loss: 17.63 , recent outcomes:  [-1, -1, -1, -1, -1, 1, -1, -1, -1, -1]\n"
     ]
    },
    {
     "name": "stderr",
     "output_type": "stream",
     "text": [
      "training loop:  89% |#######################################     | ETA:  2:06:22\r"
     ]
    },
    {
     "name": "stdout",
     "output_type": "stream",
     "text": [
      "game:  4491 , mean loss: 12.74 , recent outcomes:  [-1, 0, -1, -1, 1, -1, -1, -1, -1, -1]\n"
     ]
    },
    {
     "name": "stderr",
     "output_type": "stream",
     "text": [
      "training loop:  90% |#######################################     | ETA:  2:03:53\r"
     ]
    },
    {
     "name": "stdout",
     "output_type": "stream",
     "text": [
      "game:  4501 , mean loss: 13.69 , recent outcomes:  [-1, -1, -1, -1, -1, -1, 1, -1, -1, -1]\n"
     ]
    },
    {
     "name": "stderr",
     "output_type": "stream",
     "text": [
      "training loop:  90% |#######################################     | ETA:  2:01:24\r"
     ]
    },
    {
     "name": "stdout",
     "output_type": "stream",
     "text": [
      "game:  4511 , mean loss: 15.17 , recent outcomes:  [-1, -1, -1, -1, -1, -1, -1, -1, -1, -1]\n"
     ]
    },
    {
     "name": "stderr",
     "output_type": "stream",
     "text": [
      "training loop:  90% |#######################################     | ETA:  1:58:56\r"
     ]
    },
    {
     "name": "stdout",
     "output_type": "stream",
     "text": [
      "game:  4521 , mean loss: 14.65 , recent outcomes:  [-1, -1, 1, -1, -1, -1, -1, -1, -1, -1]\n"
     ]
    },
    {
     "name": "stderr",
     "output_type": "stream",
     "text": [
      "training loop:  90% |#######################################     | ETA:  1:56:28\r"
     ]
    },
    {
     "name": "stdout",
     "output_type": "stream",
     "text": [
      "game:  4531 , mean loss: 21.24 , recent outcomes:  [1, -1, 1, 1, -1, 1, -1, 1, 1, -1]\n"
     ]
    },
    {
     "name": "stderr",
     "output_type": "stream",
     "text": [
      "training loop:  90% |#######################################     | ETA:  1:54:00\r"
     ]
    },
    {
     "name": "stdout",
     "output_type": "stream",
     "text": [
      "game:  4541 , mean loss: 24.36 , recent outcomes:  [-1, -1, -1, -1, -1, -1, 1, -1, 1, 0]\n"
     ]
    },
    {
     "name": "stderr",
     "output_type": "stream",
     "text": [
      "training loop:  91% |########################################    | ETA:  1:51:31\r"
     ]
    },
    {
     "name": "stdout",
     "output_type": "stream",
     "text": [
      "game:  4551 , mean loss: 20.66 , recent outcomes:  [1, -1, -1, 1, -1, -1, -1, 1, -1, 1]\n"
     ]
    },
    {
     "name": "stderr",
     "output_type": "stream",
     "text": [
      "training loop:  91% |########################################    | ETA:  1:49:04\r"
     ]
    },
    {
     "name": "stdout",
     "output_type": "stream",
     "text": [
      "game:  4561 , mean loss: 19.51 , recent outcomes:  [-1, -1, -1, -1, 1, -1, -1, -1, 0, -1]\n"
     ]
    },
    {
     "name": "stderr",
     "output_type": "stream",
     "text": [
      "training loop:  91% |########################################    | ETA:  1:46:35\r"
     ]
    },
    {
     "name": "stdout",
     "output_type": "stream",
     "text": [
      "game:  4571 , mean loss: 18.45 , recent outcomes:  [-1, 1, 1, 1, -1, -1, -1, 1, -1, -1]\n"
     ]
    },
    {
     "name": "stderr",
     "output_type": "stream",
     "text": [
      "training loop:  91% |########################################    | ETA:  1:44:05\r"
     ]
    },
    {
     "name": "stdout",
     "output_type": "stream",
     "text": [
      "game:  4581 , mean loss: 22.44 , recent outcomes:  [-1, 1, -1, -1, -1, 1, 1, -1, -1, -1]\n"
     ]
    },
    {
     "name": "stderr",
     "output_type": "stream",
     "text": [
      "training loop:  91% |########################################    | ETA:  1:41:35\r"
     ]
    },
    {
     "name": "stdout",
     "output_type": "stream",
     "text": [
      "game:  4591 , mean loss: 20.13 , recent outcomes:  [-1, -1, -1, 1, -1, 1, -1, -1, -1, -1]\n"
     ]
    },
    {
     "name": "stderr",
     "output_type": "stream",
     "text": [
      "training loop:  92% |########################################    | ETA:  1:39:06\r"
     ]
    },
    {
     "name": "stdout",
     "output_type": "stream",
     "text": [
      "game:  4601 , mean loss: 14.84 , recent outcomes:  [-1, -1, -1, -1, -1, 1, -1, -1, -1, -1]\n"
     ]
    },
    {
     "name": "stderr",
     "output_type": "stream",
     "text": [
      "training loop:  92% |########################################    | ETA:  1:36:36\r"
     ]
    },
    {
     "name": "stdout",
     "output_type": "stream",
     "text": [
      "game:  4611 , mean loss: 13.48 , recent outcomes:  [-1, -1, -1, -1, -1, -1, -1, -1, -1, -1]\n"
     ]
    },
    {
     "name": "stderr",
     "output_type": "stream",
     "text": [
      "training loop:  92% |########################################    | ETA:  1:34:07\r"
     ]
    },
    {
     "name": "stdout",
     "output_type": "stream",
     "text": [
      "game:  4621 , mean loss: 14.26 , recent outcomes:  [1, -1, -1, -1, -1, -1, -1, -1, -1, -1]\n"
     ]
    },
    {
     "name": "stderr",
     "output_type": "stream",
     "text": [
      "training loop:  92% |########################################    | ETA:  1:31:37\r"
     ]
    },
    {
     "name": "stdout",
     "output_type": "stream",
     "text": [
      "game:  4631 , mean loss: 14.86 , recent outcomes:  [-1, -1, -1, -1, -1, -1, -1, 1, -1, -1]\n"
     ]
    },
    {
     "name": "stderr",
     "output_type": "stream",
     "text": [
      "training loop:  92% |########################################    | ETA:  1:29:07\r"
     ]
    },
    {
     "name": "stdout",
     "output_type": "stream",
     "text": [
      "game:  4641 , mean loss: 12.40 , recent outcomes:  [1, -1, -1, -1, -1, -1, -1, -1, -1, -1]\n"
     ]
    },
    {
     "name": "stderr",
     "output_type": "stream",
     "text": [
      "training loop:  93% |########################################    | ETA:  1:26:38\r"
     ]
    },
    {
     "name": "stdout",
     "output_type": "stream",
     "text": [
      "game:  4651 , mean loss: 12.42 , recent outcomes:  [-1, -1, -1, -1, -1, 1, -1, -1, -1, -1]\n"
     ]
    },
    {
     "name": "stderr",
     "output_type": "stream",
     "text": [
      "training loop:  93% |#########################################   | ETA:  1:24:07\r"
     ]
    },
    {
     "name": "stdout",
     "output_type": "stream",
     "text": [
      "game:  4661 , mean loss: 12.90 , recent outcomes:  [-1, -1, -1, 1, -1, -1, -1, -1, 1, -1]\n"
     ]
    },
    {
     "name": "stderr",
     "output_type": "stream",
     "text": [
      "training loop:  93% |#########################################   | ETA:  1:21:37\r"
     ]
    },
    {
     "name": "stdout",
     "output_type": "stream",
     "text": [
      "game:  4671 , mean loss: 17.83 , recent outcomes:  [-1, -1, -1, -1, 1, 1, 1, 1, 1, 1]\n"
     ]
    },
    {
     "name": "stderr",
     "output_type": "stream",
     "text": [
      "training loop:  93% |#########################################   | ETA:  1:19:09\r"
     ]
    },
    {
     "name": "stdout",
     "output_type": "stream",
     "text": [
      "game:  4681 , mean loss: 22.66 , recent outcomes:  [-1, 1, -1, -1, 1, -1, -1, -1, -1, 1]\n"
     ]
    },
    {
     "name": "stderr",
     "output_type": "stream",
     "text": [
      "training loop:  93% |#########################################   | ETA:  1:16:40\r"
     ]
    },
    {
     "name": "stdout",
     "output_type": "stream",
     "text": [
      "game:  4691 , mean loss: 18.49 , recent outcomes:  [-1, 1, 1, -1, 1, -1, 1, -1, -1, -1]\n"
     ]
    },
    {
     "name": "stderr",
     "output_type": "stream",
     "text": [
      "training loop:  94% |#########################################   | ETA:  1:14:10\r"
     ]
    },
    {
     "name": "stdout",
     "output_type": "stream",
     "text": [
      "game:  4701 , mean loss: 16.66 , recent outcomes:  [1, -1, -1, -1, -1, -1, -1, -1, 1, 1]\n"
     ]
    },
    {
     "name": "stderr",
     "output_type": "stream",
     "text": [
      "training loop:  94% |#########################################   | ETA:  1:11:39\r"
     ]
    },
    {
     "name": "stdout",
     "output_type": "stream",
     "text": [
      "game:  4711 , mean loss: 17.07 , recent outcomes:  [-1, -1, 1, -1, 1, -1, -1, -1, 1, 1]\n"
     ]
    },
    {
     "name": "stderr",
     "output_type": "stream",
     "text": [
      "training loop:  94% |#########################################   | ETA:  1:09:08\r"
     ]
    },
    {
     "name": "stdout",
     "output_type": "stream",
     "text": [
      "game:  4721 , mean loss: 20.55 , recent outcomes:  [-1, -1, 1, -1, 1, -1, 1, -1, -1, 1]\n"
     ]
    },
    {
     "name": "stderr",
     "output_type": "stream",
     "text": [
      "training loop:  94% |#########################################   | ETA:  1:06:41\r"
     ]
    },
    {
     "name": "stdout",
     "output_type": "stream",
     "text": [
      "game:  4731 , mean loss: 20.83 , recent outcomes:  [-1, -1, -1, -1, -1, -1, -1, 1, 0, -1]\n"
     ]
    },
    {
     "name": "stderr",
     "output_type": "stream",
     "text": [
      "training loop:  94% |#########################################   | ETA:  1:04:11\r"
     ]
    },
    {
     "name": "stdout",
     "output_type": "stream",
     "text": [
      "game:  4741 , mean loss: 14.35 , recent outcomes:  [1, -1, -1, -1, -1, -1, -1, -1, -1, -1]\n"
     ]
    },
    {
     "name": "stderr",
     "output_type": "stream",
     "text": [
      "training loop:  95% |#########################################   | ETA:  1:01:40\r"
     ]
    },
    {
     "name": "stdout",
     "output_type": "stream",
     "text": [
      "game:  4751 , mean loss: 11.18 , recent outcomes:  [-1, -1, -1, -1, -1, -1, 1, -1, -1, -1]\n"
     ]
    },
    {
     "name": "stderr",
     "output_type": "stream",
     "text": [
      "training loop:  95% |#########################################   | ETA:  0:59:10\r"
     ]
    },
    {
     "name": "stdout",
     "output_type": "stream",
     "text": [
      "game:  4761 , mean loss: 10.62 , recent outcomes:  [-1, -1, -1, -1, -1, -1, -1, -1, -1, -1]\n"
     ]
    },
    {
     "name": "stderr",
     "output_type": "stream",
     "text": [
      "training loop:  95% |#########################################   | ETA:  0:56:40\r"
     ]
    },
    {
     "name": "stdout",
     "output_type": "stream",
     "text": [
      "game:  4771 , mean loss: 10.99 , recent outcomes:  [-1, -1, -1, -1, -1, -1, -1, -1, -1, -1]\n"
     ]
    },
    {
     "name": "stderr",
     "output_type": "stream",
     "text": [
      "training loop:  95% |##########################################  | ETA:  0:54:12\r"
     ]
    },
    {
     "name": "stdout",
     "output_type": "stream",
     "text": [
      "game:  4781 , mean loss: 12.95 , recent outcomes:  [-1, -1, -1, -1, -1, -1, -1, -1, -1, -1]\n"
     ]
    },
    {
     "name": "stderr",
     "output_type": "stream",
     "text": [
      "training loop:  95% |##########################################  | ETA:  0:51:42\r"
     ]
    },
    {
     "name": "stdout",
     "output_type": "stream",
     "text": [
      "game:  4791 , mean loss: 12.82 , recent outcomes:  [-1, -1, -1, -1, -1, -1, -1, -1, -1, 1]\n"
     ]
    },
    {
     "name": "stderr",
     "output_type": "stream",
     "text": [
      "training loop:  96% |##########################################  | ETA:  0:49:13\r"
     ]
    },
    {
     "name": "stdout",
     "output_type": "stream",
     "text": [
      "game:  4801 , mean loss: 11.19 , recent outcomes:  [-1, -1, -1, -1, -1, -1, -1, -1, -1, -1]\n"
     ]
    },
    {
     "name": "stderr",
     "output_type": "stream",
     "text": [
      "training loop:  96% |##########################################  | ETA:  0:46:44\r"
     ]
    },
    {
     "name": "stdout",
     "output_type": "stream",
     "text": [
      "game:  4811 , mean loss: 17.40 , recent outcomes:  [-1, -1, -1, 1, -1, -1, -1, -1, -1, 1]\n"
     ]
    },
    {
     "name": "stderr",
     "output_type": "stream",
     "text": [
      "training loop:  96% |##########################################  | ETA:  0:44:16\r"
     ]
    },
    {
     "name": "stdout",
     "output_type": "stream",
     "text": [
      "game:  4821 , mean loss: 22.53 , recent outcomes:  [0, -1, 1, -1, 0, -1, -1, -1, -1, -1]\n"
     ]
    },
    {
     "name": "stderr",
     "output_type": "stream",
     "text": [
      "training loop:  96% |##########################################  | ETA:  0:41:48\r"
     ]
    },
    {
     "name": "stdout",
     "output_type": "stream",
     "text": [
      "game:  4831 , mean loss: 19.37 , recent outcomes:  [-1, -1, -1, 1, 1, 1, -1, -1, -1, -1]\n"
     ]
    },
    {
     "name": "stderr",
     "output_type": "stream",
     "text": [
      "training loop:  96% |##########################################  | ETA:  0:39:19\r"
     ]
    },
    {
     "name": "stdout",
     "output_type": "stream",
     "text": [
      "game:  4841 , mean loss: 17.25 , recent outcomes:  [-1, -1, -1, -1, -1, -1, -1, -1, -1, -1]\n"
     ]
    },
    {
     "name": "stderr",
     "output_type": "stream",
     "text": [
      "training loop:  97% |##########################################  | ETA:  0:36:50\r"
     ]
    },
    {
     "name": "stdout",
     "output_type": "stream",
     "text": [
      "game:  4851 , mean loss: 18.19 , recent outcomes:  [-1, 1, -1, -1, -1, 1, -1, -1, -1, -1]\n"
     ]
    },
    {
     "name": "stderr",
     "output_type": "stream",
     "text": [
      "training loop:  97% |##########################################  | ETA:  0:34:21\r"
     ]
    },
    {
     "name": "stdout",
     "output_type": "stream",
     "text": [
      "game:  4861 , mean loss: 18.47 , recent outcomes:  [1, -1, -1, -1, 1, -1, -1, -1, -1, -1]\n"
     ]
    },
    {
     "name": "stderr",
     "output_type": "stream",
     "text": [
      "training loop:  97% |##########################################  | ETA:  0:31:52\r"
     ]
    },
    {
     "name": "stdout",
     "output_type": "stream",
     "text": [
      "game:  4871 , mean loss: 13.53 , recent outcomes:  [-1, -1, -1, -1, -1, -1, -1, -1, -1, -1]\n"
     ]
    },
    {
     "name": "stderr",
     "output_type": "stream",
     "text": [
      "training loop:  97% |##########################################  | ETA:  0:29:24\r"
     ]
    },
    {
     "name": "stdout",
     "output_type": "stream",
     "text": [
      "game:  4881 , mean loss: 10.19 , recent outcomes:  [-1, -1, -1, -1, -1, -1, -1, -1, -1, -1]\n"
     ]
    },
    {
     "name": "stderr",
     "output_type": "stream",
     "text": [
      "training loop:  97% |########################################### | ETA:  0:26:55\r"
     ]
    },
    {
     "name": "stdout",
     "output_type": "stream",
     "text": [
      "game:  4891 , mean loss: 10.65 , recent outcomes:  [-1, -1, -1, -1, -1, -1, -1, -1, -1, -1]\n"
     ]
    },
    {
     "name": "stderr",
     "output_type": "stream",
     "text": [
      "training loop:  98% |########################################### | ETA:  0:24:27\r"
     ]
    },
    {
     "name": "stdout",
     "output_type": "stream",
     "text": [
      "game:  4901 , mean loss: 17.32 , recent outcomes:  [-1, 1, -1, -1, -1, -1, -1, -1, -1, -1]\n"
     ]
    },
    {
     "name": "stderr",
     "output_type": "stream",
     "text": [
      "training loop:  98% |########################################### | ETA:  0:21:58\r"
     ]
    },
    {
     "name": "stdout",
     "output_type": "stream",
     "text": [
      "game:  4911 , mean loss: 17.59 , recent outcomes:  [-1, -1, -1, -1, -1, -1, -1, -1, -1, -1]\n"
     ]
    },
    {
     "name": "stderr",
     "output_type": "stream",
     "text": [
      "training loop:  98% |########################################### | ETA:  0:19:30\r"
     ]
    },
    {
     "name": "stdout",
     "output_type": "stream",
     "text": [
      "game:  4921 , mean loss: 13.48 , recent outcomes:  [1, 1, -1, -1, -1, -1, -1, -1, -1, -1]\n"
     ]
    },
    {
     "name": "stderr",
     "output_type": "stream",
     "text": [
      "training loop:  98% |########################################### | ETA:  0:17:02\r"
     ]
    },
    {
     "name": "stdout",
     "output_type": "stream",
     "text": [
      "game:  4931 , mean loss: 13.11 , recent outcomes:  [-1, -1, -1, 1, -1, -1, -1, -1, -1, -1]\n"
     ]
    },
    {
     "name": "stderr",
     "output_type": "stream",
     "text": [
      "training loop:  98% |########################################### | ETA:  0:14:33\r"
     ]
    },
    {
     "name": "stdout",
     "output_type": "stream",
     "text": [
      "game:  4941 , mean loss: 12.96 , recent outcomes:  [-1, 1, -1, -1, 1, -1, -1, -1, -1, -1]\n"
     ]
    },
    {
     "name": "stderr",
     "output_type": "stream",
     "text": [
      "training loop:  99% |########################################### | ETA:  0:12:05\r"
     ]
    },
    {
     "name": "stdout",
     "output_type": "stream",
     "text": [
      "game:  4951 , mean loss: 14.40 , recent outcomes:  [-1, -1, -1, -1, -1, -1, -1, -1, 1, -1]\n"
     ]
    },
    {
     "name": "stderr",
     "output_type": "stream",
     "text": [
      "training loop:  99% |########################################### | ETA:  0:09:37\r"
     ]
    },
    {
     "name": "stdout",
     "output_type": "stream",
     "text": [
      "game:  4961 , mean loss: 13.02 , recent outcomes:  [-1, 1, -1, -1, -1, -1, -1, -1, -1, -1]\n"
     ]
    },
    {
     "name": "stderr",
     "output_type": "stream",
     "text": [
      "training loop:  99% |########################################### | ETA:  0:07:09\r"
     ]
    },
    {
     "name": "stdout",
     "output_type": "stream",
     "text": [
      "game:  4971 , mean loss: 19.92 , recent outcomes:  [-1, 1, 1, -1, -1, -1, -1, -1, 1, -1]\n"
     ]
    },
    {
     "name": "stderr",
     "output_type": "stream",
     "text": [
      "training loop:  99% |########################################### | ETA:  0:04:41\r"
     ]
    },
    {
     "name": "stdout",
     "output_type": "stream",
     "text": [
      "game:  4981 , mean loss: 18.18 , recent outcomes:  [-1, -1, -1, -1, -1, -1, -1, -1, -1, -1]\n"
     ]
    },
    {
     "name": "stderr",
     "output_type": "stream",
     "text": [
      "training loop:  99% |########################################### | ETA:  0:02:13\r"
     ]
    },
    {
     "name": "stdout",
     "output_type": "stream",
     "text": [
      "game:  4991 , mean loss: 10.48 , recent outcomes:  [-1, -1, -1, -1, -1, -1, -1, -1, 1, -1]\n"
     ]
    },
    {
     "name": "stderr",
     "output_type": "stream",
     "text": [
      "training loop: 100% |###########################################| Time: 20:33:20\r"
     ]
    },
    {
     "name": "stdout",
     "output_type": "stream",
     "text": [
      "done\n"
     ]
    },
    {
     "name": "stderr",
     "output_type": "stream",
     "text": [
      "\n"
     ]
    }
   ],
   "source": [
    "# Train the agent\n",
    "from ConnectN import ConnectN\n",
    "from Policy_6by6 import Policy\n",
    "\n",
    "from collections import deque\n",
    "import MCTSwithRL\n",
    "\n",
    "# initialize alphazero agent and optimizer\n",
    "import torch.optim as optim\n",
    "\n",
    "episodes = 5000 #50000\n",
    "outcomes = []\n",
    "policy_loss = []\n",
    "\n",
    "game_setting = {'size':(6,6), 'N':4, 'pie_rule':True}\n",
    "\n",
    "!pip install progressbar\n",
    "import progressbar as pb\n",
    "widget = ['training loop: ', pb.Percentage(), ' ', \n",
    "          pb.Bar(), ' ', pb.ETA() ]\n",
    "timer = pb.ProgressBar(widgets=widget, maxval=episodes).start()\n",
    "\n",
    "policy = Policy()\n",
    "optimizer = optim.Adam(policy.parameters(), lr=.005, weight_decay=1.e-5)\n",
    "\n",
    "Nmax = 1000 #2000\n",
    "\n",
    "for e in range(episodes):\n",
    "    mytree = MCTSwithRL.Node(ConnectN(**game_setting))\n",
    "    logterm = []\n",
    "    vterm = []\n",
    "    \n",
    "    while mytree.outcome is None:\n",
    "        for _ in range(Nmax):\n",
    "            mytree.explore(policy)\n",
    "            if mytree.N >= Nmax:\n",
    "                break\n",
    "            \n",
    "        current_player = mytree.game.player\n",
    "        mytree, (v, nn_v, p, nn_p) = mytree.next()\n",
    "        mytree.detach_mother()\n",
    "        \n",
    "        loglist = torch.log(nn_p)*p\n",
    "        constant = torch.where(p>0, p*torch.log(p),torch.tensor(0.))\n",
    "        logterm.append(-torch.sum(loglist-constant))\n",
    "\n",
    "        vterm.append(nn_v*current_player)\n",
    "        \n",
    "    # we compute the \"policy_loss\" for computing gradient\n",
    "    outcome = mytree.outcome\n",
    "    outcomes.append(outcome)\n",
    "    \n",
    "    loss = torch.sum( (torch.stack(vterm)-outcome)**2 + torch.stack(logterm) )\n",
    "    optimizer.zero_grad()\n",
    "    loss.backward()\n",
    "    policy_loss.append(float(loss))\n",
    "\n",
    "    optimizer.step()\n",
    "    \n",
    "    if e%10==0:\n",
    "        print(\"game: \",e+1, \", mean loss: {:3.2f}\".format(np.mean(policy_loss[-20:])),\n",
    "              \", recent outcomes: \", outcomes[-10:])\n",
    "    \n",
    "    if e%500==0:\n",
    "        torch.save(policy,'policy_6-6-4-pie-{:d}_tictactoe.pth'.format(e))\n",
    "    del loss\n",
    "    \n",
    "    timer.update(e+1)\n",
    "    \n",
    "timer.finish()\n",
    "\n",
    "print(\"done\")\n"
   ]
  },
  {
   "cell_type": "code",
   "execution_count": 3,
   "id": "eeab4b90",
   "metadata": {},
   "outputs": [
    {
     "data": {
      "image/png": "[encoded data removed]",
      "text/plain": [
       "<Figure size 640x480 with 1 Axes>"
      ]
     },
     "metadata": {},
     "output_type": "display_data"
    }
   ],
   "source": [
    "# plot losses\n",
    "\n",
    "import matplotlib.pyplot as plt\n",
    "\n",
    "%matplotlib inline\n",
    "plt.plot(policy_loss)\n",
    "plt.show()"
   ]
  },
  {
   "cell_type": "markdown",
   "id": "6db52b81",
   "metadata": {},
   "source": [
    "### Step3 - Play a game against the alphazero agent !"
   ]
  },
  {
   "cell_type": "code",
   "execution_count": 1,
   "id": "351cde37",
   "metadata": {},
   "outputs": [],
   "source": [
    "import torch\n",
    "import torch.nn as nn\n",
    "import torch.nn.functional as F\n",
    "from math import *\n",
    "import numpy as np\n",
    "import random\n",
    "\n",
    "import MCTSwithRL # MCTS aided by Actor-Critic RL\n",
    "\n",
    "from copy import copy\n",
    "import random\n",
    "\n",
    "# load the saved policy\n",
    "saved_policy_alphazero_6by6 = torch.load('policy_6-6-4-pie-4500_tictactoe.pth')\n",
    "\n",
    "\n",
    "def Policy_Player_MCTS(game):\n",
    "    tree = MCTSwithRL.Node(copy(game))\n",
    "    for _ in range(1000): # explore the tree 1000 steps\n",
    "        tree.explore(saved_policy_alphazero_6by6) # This will compute all the U s, pick the branch with max U, search, \n",
    "                               # expand, backpropagate and increase the visit count\n",
    "   \n",
    "    treenext, (v, nn_v, p, nn_p) = tree.next(temperature=0.1) # Asking the tree to choose a next move based on the visit counts\n",
    "        \n",
    "    return treenext.game.last_move # returns the move after incrementing the Tree\n",
    "\n"
   ]
  },
  {
   "cell_type": "markdown",
   "id": "f584775a",
   "metadata": {},
   "source": [
    "#### Alphazero agent as the second player"
   ]
  },
  {
   "cell_type": "code",
   "execution_count": 4,
   "id": "b3e28b2e",
   "metadata": {},
   "outputs": [
    {
     "data": {
      "application/vnd.jupyter.widget-view+json": {
       "model_id": "04641dbba0c24760b117f88c2bfbb0c3",
       "version_major": 2,
       "version_minor": 0
      },
      "image/png": "[encoded data removed]",
      "text/html": [
       "\n",
       "            <div style=\"display: inline-block;\">\n",
       "                <div class=\"jupyter-widgets widget-label\" style=\"text-align: center;\">\n",
       "                    Game\n",
       "                </div>\n",
       "                <img src='data:image/png;base64,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' width=285.7142857142857/>\n",
       "            </div>\n",
       "        "
      ],
      "text/plain": [
       "Canvas(toolbar=Toolbar(toolitems=[('Home', 'Reset original view', 'home', 'home'), ('Back', 'Back to previous …"
      ]
     },
     "metadata": {},
     "output_type": "display_data"
    }
   ],
   "source": [
    "from ConnectN import ConnectN\n",
    "game_setting = {'size':(6,6), 'N':4, 'pie_rule':True}\n",
    "#%matplotlib notebook\n",
    "%matplotlib widget\n",
    "\n",
    "from Play import Play\n",
    "\n",
    "# as first player\n",
    "gameplay=Play(ConnectN(**game_setting), \n",
    "              player1=None, \n",
    "              player2=Policy_Player_MCTS)"
   ]
  },
  {
   "cell_type": "markdown",
   "id": "94656b40",
   "metadata": {},
   "source": [
    "#### Alphazero agent as first player"
   ]
  },
  {
   "cell_type": "code",
   "execution_count": 2,
   "id": "b87a5fec",
   "metadata": {},
   "outputs": [
    {
     "name": "stderr",
     "output_type": "stream",
     "text": [
      "/Users/tamoghnadas/github_new/RL_Projects_my_own/alphazero-TicTacToe/MCTSwithRL.py:71: UserWarning: indexing with dtype torch.uint8 is now deprecated, please use a dtype torch.bool instead. (Triggered internally at /Users/runner/work/pytorch/pytorch/pytorch/aten/src/ATen/native/IndexingUtils.h:28.)\n",
      "  return game.available_moves(), tinv(prob)[mask].view(-1), v.squeeze().squeeze()#reverse rot/reflection is applied on prob\n"
     ]
    },
    {
     "data": {
      "application/vnd.jupyter.widget-view+json": {
       "model_id": "a5343db9773b44498f1a3bdca9a5ad63",
       "version_major": 2,
       "version_minor": 0
      },
      "image/png": "[encoded data removed]",
      "text/html": [
       "\n",
       "            <div style=\"display: inline-block;\">\n",
       "                <div class=\"jupyter-widgets widget-label\" style=\"text-align: center;\">\n",
       "                    Game\n",
       "                </div>\n",
       "                <img src='data:image/png;base64,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' width=285.7142857142857/>\n",
       "            </div>\n",
       "        "
      ],
      "text/plain": [
       "Canvas(toolbar=Toolbar(toolitems=[('Home', 'Reset original view', 'home', 'home'), ('Back', 'Back to previous …"
      ]
     },
     "metadata": {},
     "output_type": "display_data"
    },
    {
     "data": {
      "application/vnd.jupyter.widget-view+json": {
       "model_id": "8428f7b6ec5b48529f03c84b8b4856e5",
       "version_major": 2,
       "version_minor": 0
      },
      "image/png": "[encoded data removed]",
      "text/html": [
       "\n",
       "            <div style=\"display: inline-block;\">\n",
       "                <div class=\"jupyter-widgets widget-label\" style=\"text-align: center;\">\n",
       "                    Figure\n",
       "                </div>\n",
       "                <img src='data:image/png;base64,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' width=640.0/>\n",
       "            </div>\n",
       "        "
      ],
      "text/plain": [
       "Canvas(toolbar=Toolbar(toolitems=[('Home', 'Reset original view', 'home', 'home'), ('Back', 'Back to previous …"
      ]
     },
     "metadata": {},
     "output_type": "display_data"
    }
   ],
   "source": [
    "from ConnectN import ConnectN\n",
    "game_setting = {'size':(6,6), 'N':4, 'pie_rule':True}\n",
    "#%matplotlib notebook\n",
    "%matplotlib widget\n",
    "\n",
    "from Play import Play\n",
    "\n",
    "# as first player\n",
    "gameplay=Play(ConnectN(**game_setting), \n",
    "              player1=Policy_Player_MCTS, \n",
    "              player2=None)"
   ]
  },
  {
   "cell_type": "markdown",
   "id": "46da1bc1",
   "metadata": {},
   "source": [
    "### Alphazero by alphazero"
   ]
  },
  {
   "cell_type": "code",
   "execution_count": 2,
   "id": "b65b2f51",
   "metadata": {},
   "outputs": [
    {
     "data": {
      "application/vnd.jupyter.widget-view+json": {
       "model_id": "484a45800a0947cab0dae7d908e072f9",
       "version_major": 2,
       "version_minor": 0
      },
      "image/png": "[encoded data removed]",
      "text/html": [
       "\n",
       "            <div style=\"display: inline-block;\">\n",
       "                <div class=\"jupyter-widgets widget-label\" style=\"text-align: center;\">\n",
       "                    Figure\n",
       "                </div>\n",
       "                <img src='data:image/png;base64,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' width=640.0/>\n",
       "            </div>\n",
       "        "
      ],
      "text/plain": [
       "Canvas(toolbar=Toolbar(toolitems=[('Home', 'Reset original view', 'home', 'home'), ('Back', 'Back to previous …"
      ]
     },
     "metadata": {},
     "output_type": "display_data"
    },
    {
     "data": {
      "application/vnd.jupyter.widget-view+json": {
       "model_id": "cc437a39ffe245d5b60f8b8fa033ae12",
       "version_major": 2,
       "version_minor": 0
      },
      "image/png": "[encoded data removed]",
      "text/html": [
       "\n",
       "            <div style=\"display: inline-block;\">\n",
       "                <div class=\"jupyter-widgets widget-label\" style=\"text-align: center;\">\n",
       "                    Game\n",
       "                </div>\n",
       "                <img src='data:image/png;base64,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' width=285.7142857142857/>\n",
       "            </div>\n",
       "        "
      ],
      "text/plain": [
       "Canvas(toolbar=Toolbar(toolitems=[('Home', 'Reset original view', 'home', 'home'), ('Back', 'Back to previous …"
      ]
     },
     "metadata": {},
     "output_type": "display_data"
    }
   ],
   "source": [
    "from ConnectN import ConnectN\n",
    "game_setting = {'size':(6,6), 'N':4, 'pie_rule':True}\n",
    "#%matplotlib notebook\n",
    "%matplotlib widget\n",
    "\n",
    "from Play import Play\n",
    "\n",
    "# as first player\n",
    "gameplay=Play(ConnectN(**game_setting), \n",
    "              player1=Policy_Player_MCTS, \n",
    "              player2=Policy_Player_MCTS)"
   ]
  },
  {
   "cell_type": "code",
   "execution_count": null,
   "id": "c9f67c0e",
   "metadata": {},
   "outputs": [],
   "source": []
  }
 ],
 "metadata": {
  "kernelspec": {
   "display_name": "Python 3 (ipykernel)",
   "language": "python",
   "name": "python3"
  },
  "language_info": {
   "codemirror_mode": {
    "name": "ipython",
    "version": 3
   },
   "file_extension": ".py",
   "mimetype": "text/x-python",
   "name": "python",
   "nbconvert_exporter": "python",
   "pygments_lexer": "ipython3",
   "version": "3.8.19"
  }
 },
 "nbformat": 4,
 "nbformat_minor": 5
}
